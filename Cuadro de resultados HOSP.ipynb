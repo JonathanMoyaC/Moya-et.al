{
 "cells": [
  {
   "cell_type": "markdown",
   "metadata": {},
   "source": [
    "<h1 align=center><font size = 5>Machine Learning models for aiding the decision-making process in emergency departments</font></h1>"
   ]
  },
  {
   "cell_type": "markdown",
   "metadata": {},
   "source": [
    "<h1>Tabla comparativa de algoritmos<h1>\n",
    "<h3>Descripción</h3>\n",
    "<p>\n",
    "En este script se desarrollará una serie de predicciones basadas en datos del hospital San Juan de Dios Curicó, correspondientes al año 2018 representados por registros de urgencias. El objetivo es predecir, mediante un conjunto de algoritmos, la necesidad de hospitalización de un paciente de urgencias,tomando como input, datos proporcionados por el paciente en la etapa de registro, sus signos vitales registrados en la etapa de triage y el diagnóstico ofrecido por el médico tratante.\n",
    "Se correrán algoritmos de prodicción tales como árboles y bosques de desición, regresión logística, support vector machines y redes neuronales. Para finalmente evaluar el rendimiento de cada algoritmo en términos de la predicción, mediante indicadores tales como Acuraccy, F1-Score, Curva ROC, Índice de Jaccard y logloss\n",
    "</p>"
   ]
  },
  {
   "cell_type": "markdown",
   "metadata": {},
   "source": [
    "<h1 id=\"Descripción de datos\">Descripción de datos</h1>\n",
    "<p>\n",
    "Los datos utilizados fueros proporcionados por el Hospital San Juan de Dios, Curicó, Chile y corresponden a 4.971 registros de pacientes que asistieron a urgencias durante el periodo comprendido entre el 1 de enero de 2018 y agosto de 2019, los datos fueron limpiados y transformados en un script desarrollado previamente\n",
    "<ul>\n",
    "    <li>Datos: <a href=\"https://drive.google.com/open?id=1Bp7_MnK6cGwgBuwIq1a8S4DS_0wVDiAD\" target=\"_blank\">https://drive.google.com/open?id=1Bp7_MnK6cGwgBuwIq1a8S4DS_0wVDiAD</a></li>\n",
    "    <li>Tipo de datos: csv</li>\n",
    "   </ul>\n",
    "<p>\n",
    "Las variables presentes en los datos se describen a continuación:\n",
    "<ul>    \n",
    "   \n",
    "   <li><b>PAC_EDAD</b>: corresponde a la edad del paciente en enteros</li>\n",
    "   <li><b>MOTIVO_CONSULTA</b>: corresponde a la razón por la que el paciente acude al servicio de urgencias string</li>\n",
    "   <li><b>MEDIO</b>: corresponde al medio de llegada, mediante el que el paciente acude al servicio de urgencias</li>\n",
    "   <li><b>SEXO</b>: corresponde al sexo del paciente</li>\n",
    "   <li><b>CAT</b>: corresponde a la categoría de gravedad asignada al paciente en el proceso de Triage</li>\n",
    "   <li><b>PRESION_SIST</b>: corresponde la presión sistólica del paciente </li>\n",
    "   <li><b>PRESION_DIAST</b>: corresponde la presióndiastólica del paciente</li>\n",
    "   <li><b>SATO2</b>: Dato numérico que representa la saturometria del paciente (Nivel de oxigeno en la sangre)</li>\n",
    "   <li><b>TEMPERATURA</b>: corresponde a la temperatura corporal del paciente en el momento de la categorización</li>\n",
    "   <li><b>GLASGOW</b>: corresponde a al nivel registrado por el paciente en la escala Glasgow</li>\n",
    "   <li><b>DM</b>: corresponde si el paciente presenta o no Diabetes Mellitus</li>\n",
    "   <li><b>EVA</b>: corresponde si se aplica al paciente una evaluación de vias aéreas</li>\n",
    "   <li><b>HGT</b>: corresponde a la medida de azucar en la sangre del paciente</li>\n",
    "   <li><b>LCFA</b>: corresponde a si el paciente presenta obstrucción crónica de vías aéreas</li>\n",
    "   <li><b>FR</b>: corresponde a la frecuencia respiratoria del paciente</li>\n",
    "   <li><b>HTA</b>: corresponde a si el paciente posee Hipertención Arterial</li>\n",
    "   <li><b>HORA_INSC</b>: corresponde a la hora en la que el paciente fue categorizado</li>\n",
    "   <li><b>MIN_INSC</b>: corresponde al minuto en que el paciente fue categorizado</li>\n",
    "   <li><b>TIEMPO_ESPERA_CAT</b>: corresponde al tiempo que espera el paciente luego de ser registrado, para ser categorizado</li>\n",
    "      \n",
    "</ul>\n",
    "</p>"
   ]
  },
  {
   "cell_type": "markdown",
   "metadata": {},
   "source": [
    "Cargar paquetes necesarios"
   ]
  },
  {
   "cell_type": "code",
   "execution_count": null,
   "metadata": {},
   "outputs": [],
   "source": [
    "import pandas as pd\n",
    "from sklearn import preprocessing\n",
    "from sklearn import metrics\n",
    "import sklearn as sk  \n",
    "#import matplotlib.pyplot as plt\n",
    "import numpy as np\n",
    "from sklearn.metrics import f1_score\n",
    "#from sklearn.metrics import jaccard_similarity_score\n",
    "from sklearn.metrics import log_loss\n",
    "from sklearn.metrics import f1_score\n",
    "#Métodos de tuneo de parámetros\n",
    "from sklearn.model_selection import GridSearchCV\n",
    "from sklearn.metrics import classification_report"
   ]
  },
  {
   "cell_type": "markdown",
   "metadata": {},
   "source": [
    "Lectura de datos"
   ]
  },
  {
   "cell_type": "code",
   "execution_count": null,
   "metadata": {},
   "outputs": [],
   "source": [
    "archivo= 'df_definitiva_B.csv'\n",
    "df_hosp= pd.read_csv(archivo,encoding='latin-1',sep=\",\")"
   ]
  },
  {
   "cell_type": "code",
   "execution_count": null,
   "metadata": {},
   "outputs": [],
   "source": [
    "archivo='df_cat_soloTexto.csv'\n",
    "df_cat= pd.read_csv(archivo,encoding='latin-1',sep=\",\")"
   ]
  },
  {
   "cell_type": "code",
   "execution_count": null,
   "metadata": {},
   "outputs": [],
   "source": [
    "df_hosp =df_hosp[['ID_PACIENTE','DESTINO']]"
   ]
  },
  {
   "cell_type": "code",
   "execution_count": null,
   "metadata": {},
   "outputs": [],
   "source": [
    "df_cat.columns\n",
    "df_cat.drop(columns =['DESC_EVENTO','CAT'], inplace = True)"
   ]
  },
  {
   "cell_type": "code",
   "execution_count": null,
   "metadata": {},
   "outputs": [],
   "source": [
    "df_hosp=df_hosp[['ID_PACIENTE', 'PAC_EDAD', 'SATO2', 'TEMPERATURA',\n",
    "       'GLASGOW', 'EVA', 'HGT', 'FR', 'DESTINO', 'SEXO_M',\n",
    "       'SEXO_F', 'DM_D', 'DM_N', 'DM_S', 'LCFA_D', 'LCFA_N', 'LCFA_S',\n",
    "       'LCFA_D.1', 'LCFA_N.1', 'LCFA_S.1']]"
   ]
  },
  {
   "cell_type": "code",
   "execution_count": null,
   "metadata": {},
   "outputs": [],
   "source": [
    "#df_hosp = pd.merge(df_hosp,df_cat, on='ID_PACIENTE')"
   ]
  },
  {
   "cell_type": "code",
   "execution_count": null,
   "metadata": {},
   "outputs": [],
   "source": [
    "df_hosp.drop(columns =['Unnamed: 0'], inplace = True)\n",
    "df_cat.drop(columns =['Unnamed: 0'], inplace = True)"
   ]
  },
  {
   "cell_type": "markdown",
   "metadata": {},
   "source": [
    "Unión de bases de datos"
   ]
  },
  {
   "cell_type": "code",
   "execution_count": null,
   "metadata": {},
   "outputs": [],
   "source": [
    "df_hosp =  df_hosp.join(df_cat, lsuffix='_caller', rsuffix='_other')"
   ]
  },
  {
   "cell_type": "code",
   "execution_count": null,
   "metadata": {},
   "outputs": [],
   "source": [
    "# Limpiando de faltantes las columnas\n",
    "df_hosp.dropna(subset=[\"ID_PACIENTE_caller\"], axis=0, inplace = True)\n",
    "df_hosp.dropna(subset=[\"ID_PACIENTE_other\"], axis=0, inplace = True)"
   ]
  },
  {
   "cell_type": "code",
   "execution_count": null,
   "metadata": {},
   "outputs": [],
   "source": [
    "df_hosp.shape"
   ]
  },
  {
   "cell_type": "code",
   "execution_count": null,
   "metadata": {},
   "outputs": [],
   "source": [
    "# Limpiando de faltantes las columnas\n",
    "df_hosp.dropna(subset=[\"DESTINO\"], axis=0, inplace = True)"
   ]
  },
  {
   "cell_type": "code",
   "execution_count": null,
   "metadata": {},
   "outputs": [],
   "source": [
    "#Quitando ID_PACIENTE\n",
    "df_hosp.drop(columns =[\"ID_PACIENTE_caller\"], inplace = True)\n",
    "df_hosp.drop(columns =[\"ID_PACIENTE_other\"], inplace = True)"
   ]
  },
  {
   "cell_type": "code",
   "execution_count": null,
   "metadata": {},
   "outputs": [],
   "source": [
    "y =df_hosp['DESTINO']"
   ]
  },
  {
   "cell_type": "code",
   "execution_count": null,
   "metadata": {},
   "outputs": [],
   "source": [
    "#Quitando 'DESTINO'\n",
    "#df_hosp.drop(columns =['DESTINO'], inplace = True)\n",
    "#df_hosp.drop(columns =['CAT'], inplace = True)\n",
    "df_hosp.drop(columns =['DESTINO'], inplace = True)"
   ]
  },
  {
   "cell_type": "code",
   "execution_count": null,
   "metadata": {},
   "outputs": [],
   "source": [
    "missing_data = df_hosp.isnull()\n",
    "\n",
    "    \n",
    "for column in missing_data.columns.values.tolist():\n",
    "    print(column)\n",
    "    print (missing_data[column].value_counts())\n",
    "    print(\"\") "
   ]
  },
  {
   "cell_type": "markdown",
   "metadata": {},
   "source": [
    "Seleccionar las variables relevantes para la predicción y asignarselas a la matriz X, de variables independientes"
   ]
  },
  {
   "cell_type": "code",
   "execution_count": null,
   "metadata": {},
   "outputs": [],
   "source": [
    "X=df_hosp\n",
    "X.shape"
   ]
  },
  {
   "cell_type": "code",
   "execution_count": null,
   "metadata": {},
   "outputs": [],
   "source": [
    "y.shape"
   ]
  },
  {
   "cell_type": "markdown",
   "metadata": {},
   "source": [
    "Preprocesamiento Sexo"
   ]
  },
  {
   "cell_type": "code",
   "execution_count": null,
   "metadata": {},
   "outputs": [],
   "source": [
    "le_sexo = preprocessing.LabelEncoder()\n",
    "le_sexo.fit([ 'FEMENINO','MASCULINO'])\n",
    "X[:,3] = le_sexo.transform(X[:,3])"
   ]
  },
  {
   "cell_type": "markdown",
   "metadata": {},
   "source": [
    "Preprocesamiento DM (Diabetes Mellitus)"
   ]
  },
  {
   "cell_type": "code",
   "execution_count": null,
   "metadata": {},
   "outputs": [],
   "source": [
    "le_DM = preprocessing.LabelEncoder()\n",
    "le_DM.fit([ 'S', 'N','D'])\n",
    "X[:,5] = le_DM.transform(X[:,5])"
   ]
  },
  {
   "cell_type": "markdown",
   "metadata": {},
   "source": [
    "Preprocesamiento LCFA (Limintación crónica del flujo aéreo)"
   ]
  },
  {
   "cell_type": "code",
   "execution_count": null,
   "metadata": {},
   "outputs": [],
   "source": [
    "le_LCFA = preprocessing.LabelEncoder()\n",
    "le_LCFA.fit([ 'S', 'N','D'])\n",
    "X[:,8] = le_LCFA.transform(X[:,8]) "
   ]
  },
  {
   "cell_type": "markdown",
   "metadata": {},
   "source": [
    "Preprocesamiento HTA (Hipertención Arterial)"
   ]
  },
  {
   "cell_type": "code",
   "execution_count": null,
   "metadata": {},
   "outputs": [],
   "source": [
    "le_HTA = preprocessing.LabelEncoder()\n",
    "le_HTA.fit([ 'S', 'N','D'])\n",
    "X[:,10] = le_HTA.transform(X[:,10]) "
   ]
  },
  {
   "cell_type": "markdown",
   "metadata": {},
   "source": [
    "Preprocesamiento CAT ( Categoría)"
   ]
  },
  {
   "cell_type": "code",
   "execution_count": null,
   "metadata": {},
   "outputs": [],
   "source": [
    "le_CAT = preprocessing.LabelEncoder()\n",
    "le_CAT.fit([ 'C1', 'C2','C3','C4','C5'])\n",
    "X[:,11] = le_CAT.transform(X[:,11]) "
   ]
  },
  {
   "cell_type": "code",
   "execution_count": null,
   "metadata": {
    "jupyter": {
     "source_hidden": true
    }
   },
   "outputs": [],
   "source": [
    "le_diag = preprocessing.LabelEncoder()\n",
    "le_diag.fit([\"ABDOMEN AGUDO\",\n",
    "\"ABSCESO ANAL\",\n",
    "\"ABSCESO ANORRECTAL\",\n",
    "\"ABSCESO CUTANEO, FURUNCULO Y CARBUNCO DE GLUTEOS\",\n",
    "\"ABSCESO CUTANEO, FURUNCULO Y CARBUNCO DE LA CARA\",\n",
    "\"ABSCESO CUTANEO, FURUNCULO Y CARBUNCO DE MIEMBRO\",\n",
    "\"ABSCESO CUTANEO, FURUNCULO Y CARBUNCO DE OTROS SITIOS\",\n",
    "\"ABSCESO CUTANEO, FURUNCULO Y CARBUNCO DE SITIO NO ESPECIFICADO\",\n",
    "\"ABSCESO CUTANEO, FURUNCULO Y CARBUNCO DEL CUELLO\",\n",
    "\"ABSCESO CUTANEO, FURUNCULO Y CARBUNCO DEL TRONCO\",\n",
    "\"ABSCESO DEL HÃGADO\",\n",
    "\"ABSCESO DEL PULMÃ“N CON NEUMONIA\",\n",
    "\"ABSCESO PERIAMIGDALINO\",\n",
    "\"ABSCESO RENAL Y PERIRRENAL\",\n",
    "\"ABSCESO Y QUISTE SUBCUTÃNEO FEOMICOTICO\",\n",
    "\"ACCIDENTE DE TRANSPORTE NO ESPECIFICADO\",\n",
    "\"ACCIDENTE VASCULAR ENCEFALICO AGUDO, NO ESPECIFICADO COMO HEMORRAGICO O ISQUEMICO\",\n",
    "\"ACIDOSIS\",\n",
    "\"ADHERENCIAS (BRIDAS) INTESTINALES CON OBSTRUCCION\",\n",
    "\"AGRESION CON DROGAS, MEDICAMENTOS Y SUSTANCIAS BIOLOGICAS, OCURRIDA EN UNA INSTITUCION RESIDENCIAL\",\n",
    "\"AGRESION POR AHOGAMIENTO Y SUMERSION, OCURRIDA EN UN AREA DE DEPORTE O ATLETISMO\",\n",
    "\"ALCOHOLISMO, NIVEL DE INTOXICACION NO ESPECIFICADO\",\n",
    "\"ALERGIA NO ESPECIFICADA\",\n",
    "\"ALETEO AURICULAR TÃPICO\",\n",
    "\"ALTERACION VISUAL, NO ESPECIFICADA\",\n",
    "\"ALTERACIONES DE LA VISION EN ENFERMEDADES CLASIFICADAS EN OTRA PARTE\",\n",
    "\"ALUCINACIONES, NO ESPECIFICADAS\",\n",
    "\"AMAUROSIS FUGAZ\",\n",
    "\"AMIGDALITIS AGUDA DEBIDA A OTROS MICROORGANISMOS ESPECIFICADOS\",\n",
    "\"AMIGDALITIS AGUDA, NO ESPECIFICADA\",\n",
    "\"AMPUTACION DE MIEMBRO(S), COMO CAUSA DE REACCION ANORMAL DEL PACIENTE O DE COMPLICACION POSTERIOR, SIN MENCION DE INCIDENTE EN EL MOMENTO DE EFECTUAR EL PROCEDIMIENTO\",\n",
    "\"AMPUTACION DEL PIE, NIVEL NO ESPECIFICADO\",\n",
    "\"AMPUTACION TRAUMATICA DE LA MUÃ‘ECA Y DE LA MANO, NIVEL NO ESPECIFICADO\",\n",
    "\"AMPUTACION TRAUMATICA DE OTRO DEDO UNICO (COMPLETA) (PARCIAL)\",\n",
    "\"AMPUTACION TRAUMATICA DEL PULGAR (COMPLETA) (PARCIAL)\",\n",
    "\"ANEMIA DE TIPO NO ESPECIFICADO\",\n",
    "\"ANEMIA EN OTRAS ENFERMEDADES CRONICAS CLASIFICADAS EN OTRA PARTE\",\n",
    "\"ANEMIA HEMOLÃTICA ADQUIRIDA, SIN OTRA ESPECIFICACIÃ“N\",\n",
    "\"ANEMIA POR DEFICIENCIA DE HIERRO SIN OTRA ESPECIFICACIÃ“N\",\n",
    "\"ANEMIA POSTHEMORRAGICA AGUDA\",\n",
    "\"ANEURISMA DE LA AORTA ABDOMINAL, SIN MENCION DE RUPTURA\",\n",
    "\"ANEURISMA DE LA AORTA TORACOABDOMINAL, SIN MENCION DE RUPTURA\",\n",
    "\"ANGINA DE PECHO CON ESPASMO DOCUMENTADO\",\n",
    "\"ANGINA DE PECHO, NO ESPECIFICADA\",\n",
    "\"ANGINA INESTABLE\",\n",
    "\"ANURIA Y OLIGURIA\",\n",
    "\"APENDICITIS AGUDA CON PERITONITIS GENERALIZADA\",\n",
    "\"APENDICITIS AGUDA CON PERITONITIS LOCALIZADA\",\n",
    "\"APENDICITIS, NO ESPECIFICADA\",\n",
    "\"ARRITMIA CARDIACA, NO ESPECIFICADA\",\n",
    "\"ARTRITIS EN OTRAS ENFERMEDADES BACTERIANAS CLASIFICADAS EN OTRA PARTE\",\n",
    "\"ARTRITIS NO ESPECIFICADA\",\n",
    "\"ARTRITIS PIÃ“GENA, NO ESPECIFICADA\",\n",
    "\"ARTRITIS REUMATOIDE, NO ESPECIFICADA\",\n",
    "\"ARTROPATÃA REACTIVA NO ESPECIFICADA\",\n",
    "\"ARTROSIS POSTRAUMATICA DE LA PRIMERA ARTICULACION CARPOMETACARPIANA, BILATERAL\",\n",
    "\"ARTROSIS PRIMARIA DE OTRAS ARTICULACIONES\",\n",
    "\"ARTROSIS SECUNDARIA MULTIPLE\",\n",
    "\"ARTROSIS, NO ESPECIFICADA\",\n",
    "\"ASCITIS\",\n",
    "\"ASISTENCIA Y AJUSTE DE DISPOSITIVOS DE ACCESO VASCULAR\",\n",
    "\"ASMA, NO ESPECIFICADO\",\n",
    "\"ATENCIÃ“N DE COLOSTOMIA\",\n",
    "\"ATENCIÃ“N DE GASTROSTOMÃA\",\n",
    "\"ATENCIÃ“N DE TRAQUEOSTOMIA\",\n",
    "\"ATEROSCLEROSIS DE LAS ARTERIAS DE LOS MIEMBROS\",\n",
    "\"BALANITIS EN ENFERMEDADES CLASIFICADAS EN OTRA PARTE\",\n",
    "\"BALANOPOSTITIS\",\n",
    "\"BLEFAROPTOSIS\",\n",
    "\"BLOQUEO AURICULOVENTRICULAR COMPLETO\",\n",
    "\"BLOQUEO AURICULOVENTRICULAR DE SEGUNDO GRADO\",\n",
    "\"BLOQUEO BIFASCICULAR\",\n",
    "\"BOCIO MULTINODULAR NO TOXICO\",\n",
    "\"BRADICARDIA, NO ESPECIFICADA\",\n",
    "\"BRONCONEUMONIA, NO ESPECIFICADA\",\n",
    "\"BRONQUITIS AGUDA DEBIDA A ESTREPTOCOCOS\",\n",
    "\"BRONQUITIS AGUDA DEBIDA A OTROS MICROORGANISMOS ESPECIFICADOS\",\n",
    "\"BRONQUITIS AGUDA, NO ESPECIFICADO\",\n",
    "\"BRONQUITIS CRONICA NO ESPECIFICADA\",\n",
    "\"BRONQUITIS, NO ESPECIFICADA COMO AGUDA O CRONICA\",\n",
    "\"BURSITIS DE LA MANO\",\n",
    "\"BURSITIS DEL HOMBRO\",\n",
    "\"CADERA INESTABLE\",\n",
    "\"CAIDA EN EL MISMO NIVEL POR DESLIZAMIENTO, TROPEZON O TRASPIE, OCURRIDA EN OTRO LUGAR ESPECIFICADO\",\n",
    "\"CAIDA NO ESPECIFICADA, OCURRIDA EN UNA VIVIENDA\",\n",
    "\"CALCULO DE CONDUCTO BILIAR CON COLANGITIS\",\n",
    "\"CALCULO DE CONDUCTO BILIAR CON COLECISTITIS\",\n",
    "\"CALCULO DE CONDUCTO BILIAR SIN COLANGITIS NI COLECISTITIS\",\n",
    "\"CALCULO DE LA VESICULA BILIAR CON COLECISTITIS AGUDA\",\n",
    "\"CALCULO DE LA VESICULA BILIAR CON OTRA COLECISTITIS\",\n",
    "\"CALCULO DE LA VESICULA BILIAR SIN COLECISTITIS\",\n",
    "\"CALCULO DEL RIÃ‘Ã“N CON CALCULO DEL URETER\",\n",
    "\"CALCULO DEL URETER\",\n",
    "\"CALCULO URINARIO, NO ESPECIFICADO\",\n",
    "\"CARCINOMA DE VÃAS BILIARES INTRAHEPATICAS\",\n",
    "\"CARCINOMA IN SITU DE LA MAMA, PARTE NO ESPECIFICADA\",\n",
    "\"CARCINOMA IN SITU DE OTRAS PARTES ESPECIFICADAS DE Ã“RGANOS DIGESTIVOS\",\n",
    "\"CARCINOMA IN SITU DE OTROS Ã“RGANOS URINARIOS Y DE LOS NO ESPECIFICADOS\",\n",
    "\"CARCINOMA IN SITU DE OTROS SITIOS DE Ã“RGANOS GENITALES FEMENINOS Y DE LOS NO ESPECIFICADOS\",\n",
    "\"CARDIOMIOPATIA DILATADA\",\n",
    "\"CATARATA EN OTRAS ENFERMEDADES CLASIFICADAS EN OTRA PARTE\",\n",
    "\"CATARATA, NO ESPECIFICADA\",\n",
    "\"CEFALEA DEBIDA A TENSION\",\n",
    "\"CEFALEA POSTRAUMATICA CRONICA\",\n",
    "\"CEFALEA VASCULAR, NO CLASIFICADA EN OTRA PARTE\",\n",
    "\"CEFALEA\",\n",
    "\"CEGUERA MONOCULAR\",\n",
    "\"CELULITIS DE LA CARA\",\n",
    "\"CELULITIS DE LOS DEDOS DE LA MANO Y DEL PIE\",\n",
    "\"CELULITIS DE OTRAS PARTES DE LOS MIEMBROS\",\n",
    "\"CELULITIS DE OTROS SITIOS\",\n",
    "\"CELULITIS DE SITIO NO ESPECIFICADO\",\n",
    "\"CELULITIS DEL TRONCO\",\n",
    "\"CERUMEN IMPACTADO\",\n",
    "\"CERVICALGIA\",\n",
    "\"CHASQUIDO DE LA CADERA\",\n",
    "\"CHOQUE SÃ‰PTICO\",\n",
    "\"CIRROSIS BILIAR SECUNDARIA\",\n",
    "\"CIRROSIS BILIAR, NO ESPECIFICADA\",\n",
    "\"CIRROSIS HEPATICA ALCOHOLICA\",\n",
    "\"CISTICERCOSIS DEL SISTEMA NERVIOSO CENTRAL\",\n",
    "\"CISTITIS AGUDA\",\n",
    "\"CISTITIS, NO ESPECIFICADA\",\n",
    "\"COLANGITIS\",\n",
    "\"COLECISTITIS AGUDA\",\n",
    "\"COLECISTITIS, NO ESPECIFICADA\",\n",
    "\"COLICO RENAL, NO ESPECIFICADO\",\n",
    "\"COLITIS DEL LADO IZQUIERDO\",\n",
    "\"COLITIS INDETERMINADA\",\n",
    "\"COLITIS ULCERATIVA, SIN OTRA ESPECIFICACION\",\n",
    "\"COLITIS Y GASTROENTERITIS ALERGICAS Y DIETETICAS\",\n",
    "\"COLITIS Y GASTROENTERITIS DEBIDAS A RADIACION\",\n",
    "\"COLITIS Y GASTROENTERITIS NO INFECCIOSAS, NO ESPECIFICADAS\",\n",
    "\"COMPLICACION DE PROCEDIMIENTOS, NO ESPECIFICADA\",\n",
    "\"COMPLICACION MECANICA DE CATETER PARA DIÃLISIS VASCULAR\",\n",
    "\"COMPLICACION MECANICA DE CATETER URINARIO (FIJO)\",\n",
    "\"CONCUSION Y EDEMA DE LA MEDULA ESPINAL LUMBAR\",\n",
    "\"CONGESTION Y HEMORRAGIA DE LA PROSTATA\",\n",
    "\"CONJUNTIVITIS AGUDA, NO ESPECIFICADA\",\n",
    "\"CONJUNTIVITIS MUCOPURULENTA\",\n",
    "\"CONJUNTIVITIS, NO ESPECIFICADA\",\n",
    "\"CONSTIPACION\",\n",
    "\"CONSULTA, NO ESPECIFICADA\",\n",
    "\"CONTRACTURA MUSCULAR\",\n",
    "\"CONTUSION DE DEDO(S) DE LA MANO CON DAÃ‘O DE LA(S) UÃ‘A(S)\",\n",
    "\"CONTUSION DE DEDO(S) DE LA MANO, SIN DAÃ‘O DE LA(S) UÃ‘A(S)\",\n",
    "\"CONTUSION DE DEDO(S) DEL PIE SIN DAÃ‘O DE LA(S) UÃ‘A(S)\",\n",
    "\"CONTUSION DE LA CADERA\",\n",
    "\"CONTUSION DE LA GARGANTA\",\n",
    "\"CONTUSION DE LA REGION LUMBOSACRA Y DE LA PELVIS\",\n",
    "\"CONTUSION DE LA RODILLA\",\n",
    "\"CONTUSION DE LOS PARPADOS Y DE LA REGION PERIOCULAR\",\n",
    "\"CONTUSION DE OTRAS PARTES DE LA MUÃ‘ECA Y DE LA MANO\",\n",
    "\"CONTUSION DE OTRAS PARTES DEL ANTEBRAZO Y DE LAS NO ESPECIFICADAS\",\n",
    "\"CONTUSION DE OTRAS PARTES Y DE LAS NO ESPECIFICADAS DE LA PIERNA\",\n",
    "\"CONTUSION DEL CODO\",\n",
    "\"CONTUSION DEL GLOBO OCULAR Y DEL TEJIDO ORBITARIO\",\n",
    "\"CONTUSION DEL HOMBRO Y DEL BRAZO\",\n",
    "\"CONTUSION DEL MUSLO\",\n",
    "\"CONTUSION DEL TOBILLO\",\n",
    "\"CONTUSION DEL TORAX\",\n",
    "\"CORROSION DE LA CABEZA Y DEL CUELLO, DE PRIMER GRADO\",\n",
    "\"CORROSION DEL TOBILLO Y DEL PIE, DE SEGUNDO GRADO\",\n",
    "\"COXARTROSIS, NO ESPECIFICADA\",\n",
    "\"CUERPO EXTRAÃ‘O EN EL ESOFAGO\",\n",
    "\"CUERPO EXTRAÃ‘O EN EL SACO CONJUNTIVAL\",\n",
    "\"CUERPO EXTRAÃ‘O EN LA CORNEA\",\n",
    "\"CUERPO EXTRAÃ‘O EN PARTE EXTERNA DEL OJO, SITIO NO ESPECIFICADO\",\n",
    "\"CUIDADO POSTERIOR A LA CIRUGÃA, NO ESPECIFICADO\",\n",
    "\"DEFECTOS CUALITATIVOS DE LAS PLAQUETAS\",\n",
    "\"DEFICIENCIA DE VITAMINA B, NO ESPECIFICADA\",\n",
    "\"DEGENERACION CEREBRAL SENIL NO CLASIFICADA EN OTRA PARTE\",\n",
    "\"DELIRIO, NO ESPECIFICADO\",\n",
    "\"DEMENCIA EN LA ENFERMEDAD DE ALZHEIMER, NO ESPECIFICADA (G30.9+)\",\n",
    "\"DEMENCIA EN OTRAS ENFERMEDADES ESPECIFICADAS CLASIF EN OTRA PARTE\",\n",
    "\"DEMENCIA, NO ESPECIFICADA\",\n",
    "\"DERMATITIS ALERGICA DE CONTACTO DEBIDA A DROGAS EN CONTACTO CON LA PIEL\",\n",
    "\"DERMATITIS ALERGICA DE CONTACTO, DE CAUSA NO ESPECIFICADA\",\n",
    "\"DERMATITIS INFECCIOSA\",\n",
    "\"DERMATITIS, NO ESPECIFICADAS\",\n",
    "\"DERRAME PLEURAL EN AFECCIONES CLASIFICADAS EN OTRA PARTE\",\n",
    "\"DERRAME PLEURAL NO CLASIFICADO EN OTRA PARTE\",\n",
    "\"DESGARRO DE HERIDA OPERATORIA, NO CLASIFICADO EN OTRA PARTE\",\n",
    "\"DESNUTRICIÃ“N PROTEICOCALORICA SEVERA, NO ESPECIFICADA\",\n",
    "\"DESORIENTACIÃ“N NO ESPECIFICADA\",\n",
    "\"DESPRENDIMIENTO DE LA RETINA POR TRACCION\",\n",
    "\"DESPRENDIMIENTO SEROSO DE LA RETINA\",\n",
    "\"DIABETES MELLITUS ASOCIADA CON DESNUTRICIÃ“N, CON CETOACIDOSIS\",\n",
    "\"DIABETES MELLITUS ASOCIADA CON DESNUTRICIÃ“N, CON COMPLICACIONES CIRCULATORIAS PERIFÃ‰RICAS\",\n",
    "\"DIABETES MELLITUS ASOCIADA CON DESNUTRICIÃ“N, CON COMPLICACIONES MÃšLTIPLES\",\n",
    "\"DIABETES MELLITUS ASOCIADA CON DESNUTRICIÃ“N, CON COMPLICACIONES NEUROLÃ“GICAS\",\n",
    "\"DIABETES MELLITUS ASOCIADA CON DESNUTRICIÃ“N, CON COMPLICACIONES NO ESPECIFICADAS\",\n",
    "\"DIABETES MELLITUS ASOCIADA CON DESNUTRICIÃ“N, CON COMPLICACIONES RENALES\",\n",
    "\"DIABETES MELLITUS ASOCIADA CON DESNUTRICIÃ“N, CON OTRAS COMPLICACIONES ESPECIFICADAS\",\n",
    "\"DIABETES MELLITUS ASOCIADA CON DESNUTRICIÃ“N, SIN MENCIÃ“N DE COMPLICACIÃ“N\",\n",
    "\"DIABETES MELLITUS INSULINODEPENDIENTE CON CETOACIDOSIS\",\n",
    "\"DIABETES MELLITUS INSULINODEPENDIENTE CON COMPLICACIONES CIRCULATORIAS PERIFÃ‰RICAS\",\n",
    "\"DIABETES MELLITUS INSULINODEPENDIENTE CON COMPLICACIONES MÃšLTIPLES\",\n",
    "\"DIABETES MELLITUS INSULINODEPENDIENTE CON COMPLICACIONES NEUROLÃ“GICAS\",\n",
    "\"DIABETES MELLITUS INSULINODEPENDIENTE CON COMPLICACIONES NO ESPECIFICADAS\",\n",
    "\"DIABETES MELLITUS INSULINODEPENDIENTE CON COMPLICACIONES OFTÃLMICAS\",\n",
    "\"DIABETES MELLITUS INSULINODEPENDIENTE CON COMPLICACIONES RENALES\",\n",
    "\"DIABETES MELLITUS INSULINODEPENDIENTE CON OTRAS COMPLICACIONES ESPECIFICADAS\",\n",
    "\"DIABETES MELLITUS INSULINODEPENDIENTE SIN MENCIÃ“N DE COMPLICACIÃ“N\",\n",
    "\"DIABETES MELLITUS NO ESPECIFICADA, CON CETOACIDOSIS\",\n",
    "\"DIABETES MELLITUS NO ESPECIFICADA, CON COMA\",\n",
    "\"DIABETES MELLITUS NO ESPECIFICADA, CON COMPLICACIONES CIRCULATORIAS PERIFÃ‰RICAS\",\n",
    "\"DIABETES MELLITUS NO ESPECIFICADA, CON COMPLICACIONES MÃšLTIPLES\",\n",
    "\"DIABETES MELLITUS NO ESPECIFICADA, CON COMPLICACIONES NEUROLÃ“GICAS\",\n",
    "\"DIABETES MELLITUS NO ESPECIFICADA, CON COMPLICACIONES NO ESPECIFICADAS\",\n",
    "\"DIABETES MELLITUS NO ESPECIFICADA, CON OTRAS COMPLICACIONES ESPECIFICADAS\",\n",
    "\"DIABETES MELLITUS NO ESPECIFICADA, SIN MENCIÃ“N DE COMPLICACIÃ“N\",\n",
    "\"DIABETES MELLITUS NO INSULINODEPENDIENTE CON COMPLICACIONES CIRCULATORIAS PERIFÃ‰RICAS\",\n",
    "\"DIABETES MELLITUS NO INSULINODEPENDIENTE CON COMPLICACIONES NO ESPECIFICADAS\",\n",
    "\"DIABETES MELLITUS NO INSULINODEPENDIENTE CON COMPLICACIONES RENALES\",\n",
    "\"DIABETES MELLITUS NO INSULINODEPENDIENTE CON OTRAS COMPLICACIONES ESPECIFICADAS\",\n",
    "\"DIABETES MELLITUS NO INSULINODEPENDIENTE SIN MENCIÃ“N DE COMPLICACIÃ“N\",\n",
    "\"DIARREA FUNCIONAL\",\n",
    "\"DIPLOPIA\",\n",
    "\"DISARTRIA Y ANARTRIA\",\n",
    "\"DISECCION DE AORTA (CUALQUIER PARTE)\",\n",
    "\"DISFAGIA\",\n",
    "\"DISFONIA\",\n",
    "\"DISMENORREA, NO ESPECIFICADA\",\n",
    "\"DISNEA\",\n",
    "\"DISPEPSIA\",\n",
    "\"DISURIA\",\n",
    "\"DOLOR ABDOMINAL LOCALIZADO EN PARTE SUPERIOR\",\n",
    "\"DOLOR AGUDO\",\n",
    "\"DOLOR EN ARTICULACIÃ“N\",\n",
    "\"DOLOR EN EL PECHO AL RESPIRAR\",\n",
    "\"DOLOR EN EL PECHO, NO ESPECIFICADO\",\n",
    "\"DOLOR EN LA COLUMNA DORSAL\",\n",
    "\"DOLOR EN MIEMBRO\",\n",
    "\"DOLOR LOCALIZADO EN OTRAS PARTES INFERIORES DEL ABDOMEN\",\n",
    "\"DOLOR OCULAR\",\n",
    "\"DOLOR PRECORDIAL\",\n",
    "\"DOLOR, NO ESPECIFICADO\",\n",
    "\"DORSALGIA, NO ESPECIFICADA\",\n",
    "\"DUODENITIS\",\n",
    "\"EDEMA ANGIONEUROTICO\",\n",
    "\"EDEMA CEREBRAL\",\n",
    "\"EDEMA GENERALIZADO\",\n",
    "\"EDEMA LOCALIZADO\",\n",
    "\"EDEMA PULMÃ“NAR\",\n",
    "\"EDEMA, NO ESPECIFICADO\",\n",
    "\"EFECTO ADVERSO NO ESPECIFICADO DE DROGA O MEDICAMENTO\",\n",
    "\"EFECTO TOXICO DE ALCOHOL, NO ESPECIFICADO\",\n",
    "\"EFECTO TOXICO DE CETONAS\",\n",
    "\"EFECTO TOXICO DE OTRAS SUSTANCIAS INORGANICAS, ESPECIFICADAS\",\n",
    "\"EFECTO TOXICO DE SUSTANCIA NO ESPECIFICADA\",\n",
    "\"EFECTO TOXICO DEL MONOXIDO DE CARBONO\",\n",
    "\"EFECTOS ADVERSOS DE ANTAGONISTAS DE ANTICOAGULANTES, DE VITAMINA K Y DE OTROS COAGULANTES\",\n",
    "\"EFECTOS ADVERSOS DE ANTICOAGULANTES\",\n",
    "\"EFECTOS ADVERSOS DE BENZODIACEPINAS\",\n",
    "\"EFECTOS ADVERSOS DE DROGAS ANALGESICAS, ANTIPIRETICAS Y ANTIINFLAMATORIAS NO ESPECIFICADAS\",\n",
    "\"EFECTOS ADVERSOS DE DROGAS O MEDICAMENTOS NO ESPECIFICADOS\",\n",
    "\"EFECTOS ADVERSOS DE LOS DERIVADOS DE LA BENZOTIADIAZINA\",\n",
    "\"EFECTOS ADVERSOS DE OTRAS DROGAS Y MEDICAMENTOS\",\n",
    "\"EMBOLIA PULMÃ“NAR CON MENCION DE CORAZÃ“N PULMÃ“NAR AGUDO\",\n",
    "\"EMBOLIA PULMÃ“NAR SIN MENCION DE CORAZÃ“N PULMÃ“NAR AGUDO\",\n",
    "\"EMBOLIA Y TROMBOSIS DE ARTERIA NO ESPECIFICADA\",\n",
    "\"EMBOLIA Y TROMBOSIS DE ARTERIAS DE LOS MIEMBROS INFERIORES\",\n",
    "\"EMBOLIA Y TROMBOSIS DE ARTERIAS DE LOS MIEMBROS SUPERIORES\",\n",
    "\"EMBOLIA Y TROMBOSIS DE ARTERIAS DE LOS MIEMBROS, NO ESPECIFICADAS\",\n",
    "\"EMBOLIA Y TROMBOSIS DE OTRAS ARTERIAS\",\n",
    "\"EMBOLIA Y TROMBOSIS DE OTRAS VENAS ESPECIFICADAS\",\n",
    "\"EMBOLIA Y TROMBOSIS DE VENA NO ESPECIFICADA\",\n",
    "\"ENCEFALOPATIA NO ESPECIFICADA\",\n",
    "\"ENCEFALOPATIA TOXICA\",\n",
    "\"ENCELOFALOPATIA DE WERNICKE\",\n",
    "\"ENDOMETRIOSIS, NO ESPECIFICADA\",\n",
    "\"ENFERMEDAD CARDIACA HIPERTENSIVA CON INSUFICIENCIA CARDIACA (CONGESTIVA)\",\n",
    "\"ENFERMEDAD CARDIACA HIPERTENSIVA SIN INSUFICIENCIA CARDIACA (CONGESTIVA)\",\n",
    "\"ENFERMEDAD CARDIORRENAL HIPERTENSIVA CON INSUFICIENCIA RENAL\",\n",
    "\"ENFERMEDAD CARDIORRENAL HIPERTENSIVA CON INSUFICIENCIAS CARDIACA Y RENAL (CONGESTIVA)\",\n",
    "\"ENFERMEDAD CEREBROVASCULAR, NO ESPECIFICADA\",\n",
    "\"ENFERMEDAD DE ALZHEIMER, NO ESPECIFICADA\",\n",
    "\"ENFERMEDAD DE LA VESICULA BILIAR, NO ESPECIFICADA\",\n",
    "\"ENFERMEDAD DE LAS VÃAS BILIARES, NO ESPECIFICADA\",\n",
    "\"ENFERMEDAD DE LOS VASOS PULMÃ“NARES, NO ESPECIFICADO\",\n",
    "\"ENFERMEDAD DE MENIERE\",\n",
    "\"ENFERMEDAD DE PARKINSON\",\n",
    "\"ENFERMEDAD DEL ESTOMAGO Y DEL DUODENO, NO ESPECIFICADA\",\n",
    "\"ENFERMEDAD DEL REFLUJO GASTROESOFAGICO CON ESOFAGITIS\",\n",
    "\"ENFERMEDAD DEL REFLUJO GASTROESOFAGICO SIN ESOFAGITIS\",\n",
    "\"ENFERMEDAD DEL SISTEMA DIGESTIVO, NO ESPECIFICADA\",\n",
    "\"ENFERMEDAD DIVERTICULAR DEL INTESTINO GRUESO SIN PERFORACION NI ABSCESO\",\n",
    "\"ENFERMEDAD DIVERTICULAR DEL INTESTINO, PARTE NO ESPECIFICADA, SIN PERFORACION NI ABSCESO\",\n",
    "\"ENFERMEDAD HEPATICA ALCOHOLICA, NO ESPECIFICADA\",\n",
    "\"ENFERMEDAD ISQUEMICA AGUDA DEL CORAZÃ“N, NO ESPECIFICADA\",\n",
    "\"ENFERMEDAD POR VIRUS DE LA INMUNODEFICIENCIA HUMANA (VIH), SIN OTRA ESPECIFICACIÃ“N\",\n",
    "\"ENFERMEDAD PULMÃ“NAR INTERSTICIAL, NO ESPECIFICADA\",\n",
    "\"ENFERMEDAD PULMÃ“NAR OBSTRUCTIVA CRONICA C/INFECC. AG.DE VÃAS RESPIRATORIAS INFERIORES\",\n",
    "\"ENFERMEDAD PULMÃ“NAR OBSTRUCTIVA CRONICA CON EXACERBACION AGUDA, NO ESPECIFICADA\",\n",
    "\"ENFERMEDAD PULMÃ“NAR OBSTRUCTIVA CRONICA, NO ESPECIFICADA\",\n",
    "\"ENFERMEDAD RENAL CRÃ“NICA, ESTADIO 3\",\n",
    "\"ENFERMEDAD RENAL CRÃ“NICA, ESTADIO 4\",\n",
    "\"ENFERMEDAD RENAL CRÃ“NICA, ESTADIO 5\",\n",
    "\"ENFERMEDAD RENAL CRÃ“NICA, NO ESPECIFICADA\",\n",
    "\"ENFERMEDAD RENAL HIPERTENSIVA CON INSUFICIENCIA RENAL\",\n",
    "\"ENFERMEDAD TOXICA DEL HÃGADO CON OTROS TRASTORNOS HEPATICOS\",\n",
    "\"ENFERMEDAD VASCULAR PERIFERICA, NO ESPECIFICADA\",\n",
    "\"ENFISEMA, NO ESPECIFICADO\",\n",
    "\"ENTEROCOLITIS DEBIDA A CLOSTRIDIUM DIFFICILE\",\n",
    "\"ENVENENAMIENTO AUTOINFLIGIDO INTENCIONALMENTE POR, Y EXPOSICION A DROGAS ANTIEPILEPTICAS, SEDANTES, HIPNOTICAS, ANTI PARKINSONIANAS Y PSICOTROPICAS, NO CLASIFICADAS EN OTRA PARTE, OCURRIDOS EN OTRO LUGAR ESPECIFICADO\",\n",
    "\"ENVENENAMIENTO POR BENZODIAZEPINAS\",\n",
    "\"EPILEPSIA Y SINDROMES EPILEPTICOS IDIOPATICOS GENERALIZADOS\",\n",
    "\"EPILEPSIA, TIPO NO ESPECIFICADO\",\n",
    "\"EPISODIO DEPRESIVO GRAVE CON SINTOMAS PSICÃ“TICOS\",\n",
    "\"EPISODIO DEPRESIVO GRAVE SIN SINTOMAS PSICÃ“TICOS\",\n",
    "\"EPISODIO DEPRESIVO LEVE\",\n",
    "\"EPISODIO DEPRESIVO MODERADO\",\n",
    "\"EPISODIO DEPRESIVO, NO ESPECIFICADO\",\n",
    "\"EPISODIO MANIACO, NO ESPECIFICADO\",\n",
    "\"EPISTAXIS\",\n",
    "\"EQUIMOSIS ESPONTANEA\",\n",
    "\"ERISIPELA\",\n",
    "\"ERITEMA NUDOSO\",\n",
    "\"ESCABIOSIS\",\n",
    "\"ESCLEROSIS HEPATICA\",\n",
    "\"ESGUINCES Y TORCED. QUE COMPROMETEN LIGAM.LATERALES (EXTERNO) (INTERNO) DE LA RODILLA\",\n",
    "\"ESGUINCES Y TORCEDURAS DE DEDO(S) DE LA MANO\",\n",
    "\"ESGUINCES Y TORCEDURAS DE LA ARTICULACION ACROMIOCLAVICULAR\",\n",
    "\"ESGUINCES Y TORCEDURAS DE LA COLUMNA CERVICAL\",\n",
    "\"ESGUINCES Y TORCEDURAS DE LA COLUMNA LUMBAR\",\n",
    "\"ESGUINCES Y TORCEDURAS DEL TOBILLO\",\n",
    "\"ESOFAGITIS\",\n",
    "\"ESPLENOMEGALIA, NO CLASIFICADA EN OTRA PARTE\",\n",
    "\"ESPONDILOSIS NO ESPECIFICADA\",\n",
    "\"ESQUIZOFRENIA, NO ESPECIFICADA\",\n",
    "\"ESTADO ASMATICO\",\n",
    "\"ESTADO DE ABSTINENCIA DE ALCOHOL\",\n",
    "\"ESTADO DE ABSTINENCIA DE ALCOHOL, CON DELIRIO\",\n",
    "\"ESTADO MIGRAÃ‘OSO\",\n",
    "\"ESTADOS MENOPAUSICOS Y CLIMATERICOS FEMENINOS\",\n",
    "\"EXAMEN DE LABORATORIO\",\n",
    "\"EXAMEN DE PESQUISA ESPECIAL PARA DIABETES MELLITUS\",\n",
    "\"EXAMEN DE PESQUISA ESPECIAL PARA TUMOR DE SITIO NO ESPECIFICADO\",\n",
    "\"EXAMEN DE PESQUISA ESPECIAL PARA TUMORES DE OTROS SITIOS\",\n",
    "\"EXAMEN DE PESQUISA ESPECIAL, NO ESPECIFICADO\",\n",
    "\"EXAMEN MEDICO GENERAL\",\n",
    "\"EXAMEN PARA FINES ADMINISTRATIVOS, NO ESPECIFICADO\",\n",
    "\"EXAMEN Y OBSERVACION CONSECUTIVOS A ACCIDENTE DE TRANSPORTE\",\n",
    "\"FALLA Y RECHAZO DE TRASPLANTE DE HÃGADO\",\n",
    "\"FARINGITIS AGUDA, NO ESPECIFICADA\",\n",
    "\"FASCITIS NECROTIZANTE\",\n",
    "\"FIBRILACIÃ“N AURICULAR CRÃ“NICA\",\n",
    "\"FIBRILACIÃ“N AURICULAR PAROXÃ“STICA\",\n",
    "\"FIBRILACIÃ“N AURICULAR PERSISTENTE\",\n",
    "\"FIBRILACIÃ“N Y ALETEO AURICULAR, NO ESPECIFICADO\",\n",
    "\"FIBRILACION Y ALETEO VENTRICULAR\",\n",
    "\"FIBROMIALGIA\",\n",
    "\"FIEBRE, NO ESPECIFICADA\",\n",
    "\"FISTULA ANORRECTAL\",\n",
    "\"FISTULA ARTERIOVENOSA, ADQUIRIDA\",\n",
    "\"FISTULA DEL TRACTO GENITAL FEMENINO, SIN OTRA ESPECIFICACION\",\n",
    "\"FISURA ANAL AGUDA\",\n",
    "\"FISURA ANAL, NO ESPECIFICADA\",\n",
    "\"FLEBITIS Y TROMBOFLEBITIS DE LA VENA FEMORAL\",\n",
    "\"FLEBITIS Y TROMBOFLEBITIS DE LOS MIEMBROS INFERIORES, NO ESPECIFICADA\",\n",
    "\"FLEBITIS Y TROMBOFLEBITIS DE OTROS SITIOS\",\n",
    "\"FLEBITIS Y TROMBOFLEBITIS DE OTROS VASOS PROFUNDOS DE LOS MIEMBROS INFERIORES\",\n",
    "\"FRACTURA DE COSTILLA\",\n",
    "\"FRACTURA DE HUESO DEL METATARSO\",\n",
    "\"FRACTURA DE LA BÃ“VEDA DEL CRÃNEO\",\n",
    "\"FRACTURA DE LA CLAVÃCULA\",\n",
    "\"FRACTURA DE LA CLAVICULA DEBIDA A TRAUMATISMO DEL NACIMIENTO\",\n",
    "\"FRACTURA DE LA DIÃFISIS DE LA TIBIA\",\n",
    "\"FRACTURA DE LA DIÃFISIS DEL CÃšBITO Y DEL RADIO\",\n",
    "\"FRACTURA DE LA DIÃFISIS DEL CÃšBITO\",\n",
    "\"FRACTURA DE LA DIÃFISIS DEL FÃ‰MUR\",\n",
    "\"FRACTURA DE LA DIÃFISIS DEL HÃšMERO\",\n",
    "\"FRACTURA DE LA DIÃFISIS DEL RADIO\",\n",
    "\"FRACTURA DE LA EPÃFISIS INFERIOR DE LA TIBIA\",\n",
    "\"FRACTURA DE LA EPÃFISIS INFERIOR DEL CÃšBITO Y DEL RADIO\",\n",
    "\"FRACTURA DE LA EPÃFISIS INFERIOR DEL FÃ‰MUR\",\n",
    "\"FRACTURA DE LA EPÃFISIS INFERIOR DEL HÃšMERO\",\n",
    "\"FRACTURA DE LA EPÃFISIS INFERIOR DEL RADIO\",\n",
    "\"FRACTURA DE LA EPÃFISIS SUPERIOR DEL CÃšBITO\",\n",
    "\"FRACTURA DE LA EPÃFISIS SUPERIOR DEL HÃšMERO\",\n",
    "\"FRACTURA DE LA EPÃFISIS SUPERIOR DEL RADIO\",\n",
    "\"FRACTURA DE LA PIERNA, PARTE NO ESPECIFICADA\",\n",
    "\"FRACTURA DE LA PRIMERA VÃ‰RTEBRA CERVICAL\",\n",
    "\"FRACTURA DE LA RÃ“TULA\",\n",
    "\"FRACTURA DE LOS HUESOS DE LA NARIZ\",\n",
    "\"FRACTURA DE LOS HUESOS DE OTRO(S) DEDO(S) DEL PIE\",\n",
    "\"FRACTURA DE LOS HUESOS DEL DEDO GORDO DEL PIE\",\n",
    "\"FRACTURA DE MIEMBRO INFERIOR, NIVEL NO ESPECIFICADO\",\n",
    "\"FRACTURA DE MIEMBRO SUPERIOR, NIVEL NO ESPECIFICADO\",\n",
    "\"FRACTURA DE OTRAS PARTES DE LA PIERNA\",\n",
    "\"FRACTURA DE OTRAS PARTES DEL HOMBRO Y DEL BRAZO\",\n",
    "\"FRACTURA DE OTRAS PARTES DEL TÃ“RAX Ã“SEO\",\n",
    "\"FRACTURA DE OTRAS PARTES Y DE LAS NO ESPECIFICADAS DE LA COLUMNA LUMBAR Y DE LA PELVIS\",\n",
    "\"FRACTURA DE OTRAS VÃ‰RTEBRAS CERVICALES ESPECIFICADAS\",\n",
    "\"FRACTURA DE OTRO DEDO DE LA MANO\",\n",
    "\"FRACTURA DE OTROS HUESOS DEL CRÃNEO Y DE LA CARA\",\n",
    "\"FRACTURA DE OTROS HUESOS METACARPIANOS\",\n",
    "\"FRACTURA DE REGION NO ESPECIFICADA DEL CUERPO\",\n",
    "\"FRACTURA DE VÃ‰RTEBRA LUMBAR\",\n",
    "\"FRACTURA DE VÃ‰RTEBRA TORÃCICA\",\n",
    "\"FRACTURA DEL ACETÃBULO\",\n",
    "\"FRACTURA DEL CALCANEO\",\n",
    "\"FRACTURA DEL CRÃNEO Y DE LOS HUESOS DE LA CARA, PARTE NO ESPECIFICADA\",\n",
    "\"FRACTURA DEL CUELLO DEL FÃ‰MUR\",\n",
    "\"FRACTURA DEL FÃ‰MUR, PARTE NO ESPECIFICADA\",\n",
    "\"FRACTURA DEL HUESO ILIACO\",\n",
    "\"FRACTURA DEL MALEOLO EXTERNO\",\n",
    "\"FRACTURA DEL MALEOLO INTERNO\",\n",
    "\"FRACTURA DEL MAXILAR INFERIOR\",\n",
    "\"FRACTURA DEL PIE, NO ESPECIFICADA\",\n",
    "\"FRACTURA DEL PUBIS\",\n",
    "\"FRACTURA PERTROCANTERIANA\",\n",
    "\"FRACTURA SUBTROCANTERIANA\",\n",
    "\"FRACTURAS MÃšLTIPLES DE COLUMNA CERVICAL\",\n",
    "\"FRACTURAS MÃšLTIPLES DE COSTILLAS\",\n",
    "\"FRACTURAS MÃšLTIPLES DE LA COLUMNA LUMBAR Y DE LA PELVIS\",\n",
    "\"FRACTURAS QUE AFECTAN MÃšLTIPLES REGIONES DE AMBOS MIEMBROS SUPERIORES\",\n",
    "\"FRACTURAS QUE AFECTAN MÃšLTIPLES REGIONES DE UN MIEMBRO SUPERIOR\",\n",
    "\"GANGRENA GASEOSA\",\n",
    "\"GANGRENA, NO CLASIFICADA EN OTRA PARTE\",\n",
    "\"GASTRITIS AGUDA HEMORRAGICA\",\n",
    "\"GASTRITIS ALCOHOLICA\",\n",
    "\"GASTRITIS CRONICA, NO ESPECIFICADA\",\n",
    "\"GASTRITIS, NO ESPECIFICADA\",\n",
    "\"GASTROENTERITIS Y COLITIS DE ORIGEN NO ESPECIFICADO\",\n",
    "\"GASTROSTOMÃA\",\n",
    "\"GLAUCOMA, NO ESPECIFICADO\",\n",
    "\"GONARTROSIS, NO ESPECIFICADA\",\n",
    "\"GRANULOMA ANULAR\",\n",
    "\"HALLAZGOS ANORMALES EN EL EXAMEN CITOLOGICO E HISTOLOGICO DE LA ORINA\",\n",
    "\"HALLAZGOS ANORMALES EN EL EXAMEN MICROBIOLOGICO DE LA ORINA\",\n",
    "\"HEMATEMESIS\",\n",
    "\"HEMATOMA DE HERIDA QUIRURGICA OBSTETRICA\",\n",
    "\"HEMATURIA, NO ESPECIFICADA\",\n",
    "\"HEMIPLEJIA, NO ESPECIFICADA\",\n",
    "\"HEMOPERITONEO\",\n",
    "\"HEMORRAGIA CONJUNTIVAL\",\n",
    "\"HEMORRAGIA DEL ANO Y DEL RECTO\",\n",
    "\"HEMORRAGIA DEL VITREO\",\n",
    "\"HEMORRAGIA GASTROINTESTINAL, NO ESPECIFICADA\",\n",
    "\"HEMORRAGIA INTRACEREBRAL EN HEMISFERIO, CORTICAL\",\n",
    "\"HEMORRAGIA INTRACEREBRAL EN HEMISFERIO, NO ESPECIFICADA\",\n",
    "\"HEMORRAGIA INTRACEREBRAL EN HEMISFERIO, SUBCORTICAL\",\n",
    "\"HEMORRAGIA INTRACRANEAL (NO TRAUMATICA), NO ESPECIFICADA\",\n",
    "\"HEMORRAGIA INTRAENCEFALICA DE LOCALIZACIONES MULTIPLES\",\n",
    "\"HEMORRAGIA INTRAENCEFALICA EN CEREBELO\",\n",
    "\"HEMORRAGIA SUBARACNOIDEA DE ARTERIA COMUNICANTE POSTERIOR\",\n",
    "\"HEMORRAGIA SUBARACNOIDEA TRAUMÃTICA\",\n",
    "\"HEMORRAGIA SUBARACNOIDEA, NO ESPECIFICADA\",\n",
    "\"HEMORRAGIA SUBDURAL (AGUDA) (NO TRAUMATICA)\",\n",
    "\"HEMORRAGIA SUBDURAL TRAUMÃTICA\",\n",
    "\"HEMORRAGIA Y HEMATOMA QUE COMPLICAN UN PROCEDIMIENTO, NO CLASIFICADOS EN OTRA PARTE\",\n",
    "\"HEMORRAGIA, NO CLASIFICADA EN OTRA PARTE\",\n",
    "\"HEMORROIDES DE CUARTO GRADO\",\n",
    "\"HEMORROIDES DE SEGUNDO GRADO\",\n",
    "\"HEMORROIDES DE TERCER GRADO\",\n",
    "\"HEMORROIDES, SIN OTRA ESPECIFICACIÃ“N\",\n",
    "\"HEPATITIS VIRAL AGUDA, NO ESPECIFICADA\",\n",
    "\"HERIDA DE DEDO(S) DE LA MANO, CON DAÃ‘O DE LA(S) UÃ‘A(S)\",\n",
    "\"HERIDA DE DEDO(S) DE LA MANO, SIN DAÃ‘O DE LA(S) UÃ‘A(S)\",\n",
    "\"HERIDA DE DEDO(S) DEL PIE CON DAÃ‘O DE LA(S) UÃ‘A(S)\",\n",
    "\"HERIDA DE DEDO(S) DEL PIE SIN DAÃ‘O DE LA(S) UÃ‘A(S)\",\n",
    "\"HERIDA DE LA CABEZA, PARTE NO ESPECIFICADA\",\n",
    "\"HERIDA DE LA MAMA\",\n",
    "\"HERIDA DE LA MUÃ‘ECA Y DE LA MANO, PARTE NO ESPECIFICADA\",\n",
    "\"HERIDA DE LA PARED ABDOMINAL\",\n",
    "\"HERIDA DE LA PIERNA, PARTE NO ESPECIFICADA\",\n",
    "\"HERIDA DE MIEMBRO INFERIOR, NIVEL NO ESPECIFICADO\",\n",
    "\"HERIDA DE MIEMBRO SUPERIOR, NIVEL NO ESPECIFICADO\",\n",
    "\"HERIDA DE OTRAS PARTES DE LA CABEZA\",\n",
    "\"HERIDA DE OTRAS PARTES DE LA PIERNA\",\n",
    "\"HERIDA DE OTRAS PARTES DEL ANTEBRAZO\",\n",
    "\"HERIDA DE OTRAS PARTES DEL PIE\",\n",
    "\"HERIDA DE OTRAS PARTES DEL TORAX\",\n",
    "\"HERIDA DE REGION NO ESPECIFICADA DEL CUERPO\",\n",
    "\"HERIDA DEL BRAZO\",\n",
    "\"HERIDA DEL CODO\",\n",
    "\"HERIDA DEL CUERO CABELLUDO\",\n",
    "\"HERIDAS MULTIPLES DEL ANTEBRAZO\",\n",
    "\"HERNIA ABDOMINAL NO ESPECIFICADA, CON OBSTRUCCION, SIN GANGRENA\",\n",
    "\"HERNIA ABDOMINAL NO ESPECIFICADA, SIN OBSTRUCCION NI GANGRENA\",\n",
    "\"HERNIA INCISIONAL SIN OBSTRUCCIÃ“N O GANGRENA\",\n",
    "\"HERNIA INGUINAL BILATERAL, SIN OBSTRUCCION NI GANGRENA\",\n",
    "\"HERNIA INGUINAL UNILATERAL O NO ESPECIFICADA, CON OBSTRUCCION, SIN GANGRENA\",\n",
    "\"HERNIA INGUINAL UNILATERAL O NO ESPECIFICADA, SIN OBSTRUCCION NI GANGRENA\",\n",
    "\"HERNIA UMBILICAL CON OBSTRUCCION, SIN GANGRENA\",\n",
    "\"HERNIA VENTRAL CON OBSTRUCCION, SIN GANGRENA\",\n",
    "\"HERPES ZOSTER CON OTRAS COMPLICACIONES\",\n",
    "\"HERPES ZOSTER SIN COMPLICACIONES\",\n",
    "\"HIDROCEFALO DE PRESION NORMAL\",\n",
    "\"HIDRONEFROSIS CON ESTRECHEZ URETERAL, NO CLASIFICADA EN OTRA PARTE\",\n",
    "\"HIPERGLICEMIA, NO ESPECIFICADA\",\n",
    "\"HIPERGLICERIDEMIA PURA\",\n",
    "\"HIPERLIPIDEMIA MIXTA\",\n",
    "\"HIPEROSMOLARIDAD E HIPERNATREMIA\",\n",
    "\"HIPERPLASIA DE LA PROSTATA\",\n",
    "\"HIPERPOTASEMIA\",\n",
    "\"HIPERTENSION ESENCIAL (PRIMARIA)\",\n",
    "\"HIPERTENSION INTRACRANEAL BENIGNA\",\n",
    "\"HIPERTENSION PULMÃ“NAR PRIMARIA\",\n",
    "\"HIPOGLICEMIA SIN COMA, INDUCIDA POR DROGAS\",\n",
    "\"HIPOGLICEMIA, NO ESPECIFICADA\",\n",
    "\"HIPOPARATIROIDISMO CONSECUTIVO A PROCEDIMIENTOS\",\n",
    "\"HIPOPOTASEMIA\",\n",
    "\"HIPOSMOLARIDAD E HIPONATREMIA\",\n",
    "\"HIPOTENSION DEBIDA A DROGAS\",\n",
    "\"HIPOTENSION IDIOPATICA\",\n",
    "\"HIPOTENSION ORTOSTATICA\",\n",
    "\"HIPOTENSION, NO ESPECIFICADA\",\n",
    "\"HIPOTERMIA\",\n",
    "\"HIPOTIROIDISMO, NO ESPECIFICADO\",\n",
    "\"HISTORIA PERSONAL DE TUMOR MALIGNO DE Ã“RGANOS DIGESTIVOS\",\n",
    "\"ICTERICIA NO ESPECIFICADA\",\n",
    "\"ILEO PARALITICO\",\n",
    "\"ILEO, NO ESPECIFICADO\",\n",
    "\"INCIDENTE (CORTE, PUNCION, PERFORACION O HEMORRAGIA) DURANTE DIALISIS RENAL U OTRA PERFUSION\",\n",
    "\"INCONTINENCIA URINARIA, NO ESPECIFICADA\",\n",
    "\"INFARTO AGUDO DEL MIOCARDIO, SIN OTRA ESPECIFICACION\",\n",
    "\"INFARTO AGUDO TRANSMURAL DEL MIOCARDIO DE OTROS SITIOS\",\n",
    "\"INFARTO ANTIGUO DEL MIOCARDIO\",\n",
    "\"INFARTO CEREBRAL, NO ESPECIFICADO\",\n",
    "\"INFARTO SUBENDOCARDICO AGUDO DEL MIOCARDIO\",\n",
    "\"INFARTO SUBSECUENTE DEL MIOCARDIO DE LA PARED ANTERIOR\",\n",
    "\"INFARTO TRANSMURAL AGUDO DEL MIOCARDIO DE LA PARED INFERIOR\",\n",
    "\"INFECCIÃ“N BACTERIANA, NO ESPECIFICADA\",\n",
    "\"INFECCIÃ“N DEBIDA AL VIRUS DEL HERPES, NO ESPECIFICADA\",\n",
    "\"INFECCIÃ“N VIRAL, NO ESPECIFICADA\",\n",
    "\"INFECCION AGUDA DE LAS VÃAS RESPIRATORIAS SUPERIORES, NO ESPECIFICADA\",\n",
    "\"INFECCION AGUDA NO ESPECIFICADA DE LAS VÃAS RESPIRATORIAS INFERIORES\",\n",
    "\"INFECCION DE OTRAS PARTES DE LAS VÃAS URINARIAS EN EL EMBARAZO\",\n",
    "\"INFECCION DE VÃAS URINARIAS, SITIO NO ESPECIFICADO\",\n",
    "\"INFECCION DEL MUÃ‘ON DE AMPUTACION\",\n",
    "\"INFECCION LOCAL DE LA PIEL Y DEL TEJIDO SUBCUTÃNEO, NO ESPECIFICADA\",\n",
    "\"INFECCION NO ESPECIFICADA DE LAS VÃAS URINARIAS EN EL EMBARAZO\",\n",
    "\"INFECCION POSTRAUMATICA DE HERIDA, NO CLASIFICADA EN OTRA PARTE\",\n",
    "\"INFECCION Y REACCION INFLAMATORIA DEBIDAS A PROTESIS ARTICULAR INTERNA\",\n",
    "\"INFLUENZA CON OTRAS MANIFESTACIONES, VIRUS NO IDENTIFICADO\",\n",
    "\"INQUIETUD Y AGITACION\",\n",
    "\"INSOMNIO NO ORGANICO\",\n",
    "\"INSUFICIENCIA CARDIACA CONGESTIVA\",\n",
    "\"INSUFICIENCIA CARDIACA, NO ESPECIFICADA\",\n",
    "\"INSUFICIENCIA HEPATICA ALCOHOLICA\",\n",
    "\"INSUFICIENCIA HEPATICA CRONICA\",\n",
    "\"INSUFICIENCIA PULMÃ“NAR CRONICA CONSECUTIVA A CIRUGÃA\",\n",
    "\"INSUFICIENCIA RENAL AGUDA, NO ESPECIFICADA\",\n",
    "\"INSUFICIENCIA RENAL NO ESPECIFICADA\",\n",
    "\"INSUFICIENCIA RESPIRATORIA AGUDA\",\n",
    "\"INSUFICIENCIA RESPIRATORIA, NO ESPECIFICADA\",\n",
    "\"INSUFICIENCIA VENOSA (CRONICA) (PERIFERICA)\",\n",
    "\"INTOXICACION ALCOHOLICA LEVE\",\n",
    "\"INTOXICACION ALCOHOLICA MODERADA\",\n",
    "\"INTOXICACION ALCOHOLICA SEVERA\",\n",
    "\"ISQUEMIA CEREBRAL TRANSITORIA, SIN OTRA ESPECIFICACION\",\n",
    "\"ISQUEMIA MIOCARDICA TRANSITORIA DEL RECIEN NACIDO\",\n",
    "\"ISQUEMIA SILENTE DEL MIOCARDIO\",\n",
    "\"LEIOMIOMA DEL ÃšTERO, SIN OTRA ESPECIFICACIÃ“N\",\n",
    "\"LESIÃ“N (NEOPLASIA) DE SITIOS CONTIGUOS DE LA LARINGE\",\n",
    "\"LESIÃ“N (NEOPLASIA) DE SITIOS CONTIGUOS DE LAS VÃAS BILIARES\",\n",
    "\"LESIÃ“N (NEOPLASIA) DE SITIOS CONTIGUOS DE LOS BRONQUIOS Y DEL PULMÃ“N\",\n",
    "\"LESIÃ“N (NEOPLASIA) DE SITIOS CONTIGUOS DEL ANO, DEL CONDUCTO ANAL Y DEL RECTO\",\n",
    "\"LESIÃ“N (NEOPLASICA) DE SITIOS CONTIGUOS DE LOS Ã“RGANOS GENITALES FEMENINOS\",\n",
    "\"LEUCEMIA CRÃ“NICA, CÃ‰LULAS DE TIPO NO ESPECIFICADO\",\n",
    "\"LINFADENITIS AGUDA DE OTROS SITIOS\",\n",
    "\"LINFADENITIS AGUDA DEL MIEMBRO SUPERIOR\",\n",
    "\"LINFEDEMA, NO CLASIFICADO EN OTRA PARTE\",\n",
    "\"LIPOMATOSIS, NO CLASIFICADA EN OTRA PARTE\",\n",
    "\"LUMBAGO CON CIÃTICA\",\n",
    "\"LUMBAGO NO ESPECIFICADO\",\n",
    "\"LUPUS ERITEMATOSO SISTEMICO CON COMPROMISO DE Ã“RGANOS O SISTEMAS\",\n",
    "\"LUXAC., ESGUINCE O TORCED. ARTICULAC. Y LIGAM. NO ESPECIFIC. MIEMBRO INFERIOR, NIVEL NO ESPECIFIC.\",\n",
    "\"LUXACION CONGENITA DE LA CADERA, BILATERAL\",\n",
    "\"LUXACION CONGENITA DE LA CADERA, NO ESPECIFICADA\",\n",
    "\"LUXACION DE LA ARTICULACION ACROMIOCLAVICULAR\",\n",
    "\"LUXACION DE LA ARTICULACION DEL HOMBRO\",\n",
    "\"LUXACION DE LA CADERA\",\n",
    "\"LUXACION DE LA ROTULA\",\n",
    "\"LUXACION DE OTRAS PARTES Y DE LAS NO ESPECIFICADAS DE LA CABEZA\",\n",
    "\"LUXACION DEL CODO, NO ESPECIFICADA\",\n",
    "\"LUXACIONES MULTIPLES DE DEDOS DE LA MANO\",\n",
    "\"LUXACIONES, TORCEDURAS Y ESGUINCES QUE AFECTAN LA CABEZA CON EL CUELLO\",\n",
    "\"MALESTAR Y FATIGA\",\n",
    "\"MARCHA ATAXICA\",\n",
    "\"MAREO Y DESVANECIMIENTO\",\n",
    "\"MASA NO ESPECIFICADA EN LA MAMA\",\n",
    "\"MASTODINIA\",\n",
    "\"MEDICAMENTO O SUSTANCIA BIOLOGICA CONTAMINADO, ADMINISTRADO POR MEDIOS NO ESPECIFICADOS\",\n",
    "\"MELENA\",\n",
    "\"MIALGIA\",\n",
    "\"MICOSIS , NO ESPECIFICADA\",\n",
    "\"MICOSIS SUPERFICIAL, SIN OTRA ESPECIFICACIÃ“N\",\n",
    "\"MIELOMA MÃšLTIPLE\",\n",
    "\"MIGRAÃ‘A CON AURA (MIGRAÃ‘A CLASICA)\",\n",
    "\"MIGRAÃ‘A, NO ESPECIFICADA\",\n",
    "\"MIOCLONIA\",\n",
    "\"MONONEUROPATIA DEL MIEMBRO INFERIOR, SIN OTRA ESPECIFICACION\",\n",
    "\"MORDEDURA DE RATA, OCURRIDA EN UNA VIVIENDA\",\n",
    "\"MORDEDURA O ATAQUE DE OTROS MAMIFEROS, OCURRIDO EN UNA INSTITUCION RESIDENCIAL\",\n",
    "\"MORDEDURA O ATAQUE DE PERRO, OCURRIDO EN OTRO LUGAR ESPECIFICADO\",\n",
    "\"MORDEDURA O ATAQUE DE PERRO, OCURRIDO EN UN COMERCIO O EN UN AREA DE SERVICIOS\",\n",
    "\"MORDEDURA O PICADURA DE INSECTOS Y DE OTROS ARTROPODOS NO VENENOSOS, OCURRIDA EN OTRO LUGAR ESPECIFICADO\",\n",
    "\"MORDEDURA O PICADURA DE INSECTOS Y DE OTROS ARTROPODOS NO VENENOSOS, OCURRIDA EN UNA ESCUELA, EN OTRA INSTITUCION, O EN UN AREA ADMINISTRATIVA PUBLICA\",\n",
    "\"MORDEDURA O PICADURA DE INSECTOS Y DE OTROS ARTROPODOS NO VENENOSOS, OCURRIDA EN UNA VIVIENDA\",\n",
    "\"NAUSEA Y VOMITO\",\n",
    "\"NECROSIS ARTERIAL\",\n",
    "\"NECROSIS DEL MUÃ‘ON DE AMPUTACION\",\n",
    "\"NEFRITIS TUBULOINTERSTICIAL AGUDA\",\n",
    "\"NEUMONIA BACTERIANA, NO ESPECIFICADA\",\n",
    "\"NEUMONIA EN OTRAS ENFERMEDADES CLASIFICADAS EN OTRA PARTE\",\n",
    "\"NEUMONIA, NO ESPECIFICADA\",\n",
    "\"NEUMOTORAX TRAUMATICO\",\n",
    "\"NEURALGIA DEL TRIGEMINO\",\n",
    "\"NEURALGIA Y NEURITIS NO ESPECIFICADAS\",\n",
    "\"NEURONITIS VESTIBULAR\",\n",
    "\"NEUROPATIA AUTONOMA PERIFERICA IDIOPATICA\",\n",
    "\"NEUROPATIA AUTONOMICA EN ENFERMEDADES METABOLICAS Y ENDOCRINAS\",\n",
    "\"NEUROPATIA INTERCOSTAL\",\n",
    "\"NEVO MELANOCITICO DEL TRONCO\",\n",
    "\"OBESIDAD DEBIDA A EXCESO DE CALORÃAS\",\n",
    "\"OBSERVACION POR SOSPECHA DE EFECTOS TOXICOS DE SUSTANCIAS INGERIDAS\",\n",
    "\"OBSERVACION POR SOSPECHA DE OTRAS ENFERMEDADES Y AFECCIONES\",\n",
    "\"OBSERVACION POR SOSPECHA DE TUMOR MALIGNO\",\n",
    "\"OBSTRUCCION INTESTINAL POSTOPERATORIA\",\n",
    "\"OCLUSION Y ESTENOSIS DE ARTERIA CAROTIDA\",\n",
    "\"ORQUITIS, EPIDIDIMITIS Y ORQUIEPIDIDIMITIS SIN ABSCESO\",\n",
    "\"OSTEOCONDROPATIA, NO ESPECIFICADA\",\n",
    "\"OSTEOCONDROSIS DE LA COLUMNA VERTEBRAL DEL ADULTO\",\n",
    "\"OSTEOCONDROSIS JUVENIL DEL HUMERO\",\n",
    "\"OSTEOMIELITIS SUBAGUDA\",\n",
    "\"OSTEOMIELITIS, NO ESPECIFICADA\",\n",
    "\"OTITIS EXTERNA AGUDA, NO INFECCIOSA\",\n",
    "\"OTITIS EXTERNA MALIGNA\",\n",
    "\"OTITIS EXTERNA, SIN OTRA ESPECIFICACION\",\n",
    "\"OTITIS MEDIA EN ENFERMEDADES VIRALES CLASIFICADAS EN OTRA PARTE\",\n",
    "\"OTITIS MEDIA SUPURATIVA AGUDA\",\n",
    "\"OTITIS MEDIA, NO ESPECIFICADA\",\n",
    "\"OTRA DIABETES MELLITUS ESPECIFICADA, CON CETOACIDOSIS\",\n",
    "\"OTRA DIABETES MELLITUS ESPECIFICADA, CON COMPLICACIONES CIRCULATORIAS PERIFÃ‰RICAS\",\n",
    "\"OTRA DIABETES MELLITUS ESPECIFICADA, SIN MENCIÃ“N DE COMPLICACIÃ“N\",\n",
    "\"OTRA REACCION ADVERSA A ALIMENTOS, NO CLASIFICADA EN OTRA PARTE\",\n",
    "\"OTRAS (TENO)SINOVITIS INFECCIOSAS\",\n",
    "\"OTRAS ALTERACIONES DEL HABLA Y LAS NO ESPECIFICADAS\",\n",
    "\"OTRAS ANEMIAS ESPECIFICADAS\",\n",
    "\"OTRAS ANORMALIDADES FECALES\",\n",
    "\"OTRAS ARRITMIAS CARDIACAS ESPECIFICADAS\",\n",
    "\"OTRAS CARDIOMIOPATIAS HIPERTROFICAS\",\n",
    "\"OTRAS CIRROSIS DEL HÃGADO Y LAS NO ESPECIFICADAS\",\n",
    "\"OTRAS COLECISTITIS\",\n",
    "\"OTRAS COLELITIASIS\",\n",
    "\"OTRAS COLITIS Y GASTROENTERITIS NO INFECCIOSAS ESPECIFICADAS\",\n",
    "\"OTRAS COMPLICACIONES DE DISPOSITIVOS PROTESICOS, IMPLANTES E INJERTOS ORTOPÃ‰DICOS INTERNOS\",\n",
    "\"OTRAS COMPLICACIONES ESPECIFICADAS DE LA ATENCIÃ“N MEDICA Y QUIRURGICA, NCOP\",\n",
    "\"OTRAS CONSULTAS ESPECIFICADAS\",\n",
    "\"OTRAS CONVULSIONES Y LAS NO ESPECIFICADAS\",\n",
    "\"OTRAS DEGENERACIONES DE DISCO CERVICAL\",\n",
    "\"OTRAS DISFUNCIONES TESTICULARES\",\n",
    "\"OTRAS ENFERMEDADES BACTERIANAS ESPECIFICADAS\",\n",
    "\"OTRAS ENFERMEDADES CEREBROVASCULARES ESPECIFICADAS\",\n",
    "\"OTRAS ENFERMEDADES ESPECIFICADAS DEL ANO Y DEL RECTO\",\n",
    "\"OTRAS ENFERMEDADES ESPECIFICADAS DEL ESOFAGO\",\n",
    "\"OTRAS ENFERMEDADES ESPECIFICADAS DEL HÃGADO\",\n",
    "\"OTRAS ENFERMEDADES ESPECIFICADAS DEL INTESTINO\",\n",
    "\"OTRAS ENFERMEDADES ESPECIFICADAS DEL PANCREAS\",\n",
    "\"OTRAS ENFERMEDADES ESPECIFICADAS DEL SISTEMA DIGESTIVO\",\n",
    "\"OTRAS ENFERMEDADES PULMÃ“NARES INTERSTICIALES CON FIBROSIS\",\n",
    "\"OTRAS ENFERMEDADES PULMÃ“NARES OBSTRUCTIVAS CRÃ“NICAS ESPECIFICADAS\",\n",
    "\"OTRAS ENFERMEDADES VASCULARES PERIFERICAS ESPECIFICADAS\",\n",
    "\"OTRAS ENFERMEDADES VIRALES ESPECIFICADAS\",\n",
    "\"OTRAS ESPONDILOPATÃAS ESPECIFICADAS\",\n",
    "\"OTRAS FIEBRES ESPECIFICADAS\",\n",
    "\"OTRAS FORMAS ESPECIFICADAS DE ANGINA DE PECHO\",\n",
    "\"OTRAS FUSIONES DE LA COLUMNA VERTEBRAL\",\n",
    "\"OTRAS GASTRITIS AGUDAS\",\n",
    "\"OTRAS GASTRITIS\",\n",
    "\"OTRAS GASTROENTERITIS Y COLITIS NO ESPECIFICADAS DE ORIGEN INFECCIOSO\",\n",
    "\"OTRAS HIDRONEFROSIS Y LAS NO ESPECIFICADAS\",\n",
    "\"OTRAS HIPOGLICEMIAS\",\n",
    "\"OTRAS INFECCIONES BACTERIANAS DE SITIO NO ESPECIFICADO\",\n",
    "\"OTRAS INFECCIONES LOCALES ESPECIFICADAS DE LA PIEL Y DEL TEJIDO SUBCUTÃNEO\",\n",
    "\"OTRAS INFECCIONES Y LAS NO ESPECIFICADAS DE LAS VÃAS GENITOURINARIAS EN EL EMBARAZO\",\n",
    "\"OTRAS ISQUEMIAS CEREBRALES TRANSITORIAS Y SINDROMES AFINES\",\n",
    "\"OTRAS LESIÃ“NES DEL NERVIO MEDIANO\",\n",
    "\"OTRAS OBSTRUCCIONES DEL INTESTINO\",\n",
    "\"OTRAS OBSTRUCCIONES INTESTINALES Y LAS NO ESPECIFICADAS\",\n",
    "\"OTRAS OSTEOMIELITIS AGUDAS\",\n",
    "\"OTRAS OSTEOMIELITIS CRÃ“NICAS\",\n",
    "\"OTRAS OTITIS MEDIAS CRÃ“NICAS SUPURATIVAS\",\n",
    "\"OTRAS PANCREATITIS AGUDAS\",\n",
    "\"OTRAS QUERATITIS SUPERFICIALES SIN CONJUNTIVITIS\",\n",
    "\"OTRAS REACCIONES AL ESTRES GRAVE\",\n",
    "\"OTRAS SINUSITIS AGUDAS\",\n",
    "\"OTRAS TROMBOCITOPENIAS PRIMARIAS\",\n",
    "\"OTRAS TUBERCULOSIS RESPIRATORIAS, CONFIRMADAS BACTERIOL+OGICA E HISTOLÃ“GICAMENTE\",\n",
    "\"OTRO DOLOR CRONICO\",\n",
    "\"OTROS DEFECTOS ESPECIFICADOS DE LA COAGULACIÃ“N\",\n",
    "\"OTROS DESGARROS (NO TRAUMÃ“TICOS) DE MÃšSCULO\",\n",
    "\"OTROS DESPRENDIMIENTOS DE LA RETINA\",\n",
    "\"OTROS DOLORES ABDOMINALES Y LOS NO ESPECIFICADOS\",\n",
    "\"OTROS DOLORES EN EL PECHO\",\n",
    "\"OTROS ESTADOS EPILEPTICOS\",\n",
    "\"OTROS ESTADOS POSTQUIRURGICOS ESPECIFICADOS\",\n",
    "\"OTROS EXAMENES PARA FINES ADMINISTRATIVOS\",\n",
    "\"OTROS HALLAZGOS ANORMALES EN LA ORINA Y LOS NO ESPECIFICADOS\",\n",
    "\"OTROS HALLAZGOS ANORMALES ESPECIFICADOS EN LA QUIMICA SANGUINEA\",\n",
    "\"OTROS PENFIGOIDES\",\n",
    "\"OTROS QUISTES FOLICULARES DE LA PIEL Y DEL TEJIDO SUBCUTÃNEO\",\n",
    "\"OTROS SINDROMES DE CEFALEA ESPECIFICADOS\",\n",
    "\"OTROS SINT. Y SIGNOS QUE INVOLUCRAN LA FUNCION COGNOSC.Y LA CONCIENCIA Y LOS NO ESPECIFIC.\",\n",
    "\"OTROS TIPOS DE ENFERMEDAD DE CROHN\",\n",
    "\"OTROS TIPOS DE OBESIDAD\",\n",
    "\"OTROS TRAST DE LA SANGRE Y DE ORGANOS HEMATOPOYETICOS EN ENF CLASIFICADAS EN OTROS CAPITULOS\",\n",
    "\"OTROS TRASTORNOS AFECTIVOS BIPOLARES\",\n",
    "\"OTROS TRASTORNOS DE ANSIEDAD ESPECIFICADOS\",\n",
    "\"OTROS TRASTORNOS DE ANSIEDAD MIXTOS\",\n",
    "\"OTROS TRASTORNOS DE DISCO CERVICAL\",\n",
    "\"OTROS TRASTORNOS DE LA FUNCION VESTIBULAR\",\n",
    "\"OTROS TRASTORNOS DE LA INGESTION DE ALIMENTOS\",\n",
    "\"OTROS TRASTORNOS DE LA ORBITA\",\n",
    "\"OTROS TRASTORNOS DE LAS RAICES Y PLEXOS NERVIOSOS\",\n",
    "\"OTROS TRASTORNOS DE PIEL Y DEL TEJIDO SUBCUTANEO EN ENFERMEDADES CLASIFICADAS EN OTROS CAPITULOS\",\n",
    "\"OTROS TRASTORNOS DEL EQUILIBRIO DE LOS ELECTROLITOS Y DE LOS LÃQUIDOS, NCOP\",\n",
    "\"OTROS TRASTORNOS DEL HUMOR (AFECTIVOS), AISLADOS\",\n",
    "\"OTROS TRASTORNOS DEL HUMOR (AFECTIVOS), ESPECIFICADOS\",\n",
    "\"OTROS TRASTORNOS DEL SISTEMA GENITOURINARIO CONSECUTIVOS A PROCEDIMIENTOS\",\n",
    "\"OTROS TRASTORNOS DEL SISTEMA NERVIOSO, NO CLASIFICADOS EN OTRA PARTE\",\n",
    "\"OTROS TRASTORNOS DISOCIATIVOS (DE CONVERSION)\",\n",
    "\"OTROS TRASTORNOS ENDOCRINOS ESPECIFICADOS\",\n",
    "\"OTROS TRASTORNOS ESPECIF DEL APARATO CIRCULATORIO EN ENFERMEDADES CLASIFICADAS EN OTROS CAPITULOS\",\n",
    "\"OTROS TRASTORNOS ESPECIFICADOS DE LA MAMA\",\n",
    "\"OTROS TRASTORNOS ESPECIFICADOS DE LA NARIZ Y DE LOS SENOS PARANASALES\",\n",
    "\"OTROS TRASTORNOS ESPECIFICADOS DE LA PROSTATA\",\n",
    "\"OTROS TRASTORNOS ESPECIFICADOS DE LOS LEUCOCITOS\",\n",
    "\"OTROS TRASTORNOS ESPECIFICADOS DE LOS MÃšSCULOS\",\n",
    "\"OTROS TRASTORNOS ESPECIFICADOS DEL ENCEFALO\",\n",
    "\"OTROS TRASTORNOS ESPECIFICADOS DEL METABOLISMO DE LOS CARBOHIDRATOS\",\n",
    "\"OTROS TRASTORNOS ESPECIFICADOS DEL OIDO EN ENFERMEDADES CLASIFICADAS EN OTROS CAPITULOS\",\n",
    "\"OTROS TRASTORNOS ESPECIFICADOS DEL OJO Y SUS ANEXOS\",\n",
    "\"OTROS TRASTORNOS ESPECIFICADOS DEL SISTEMA NERVIOSO CENTRAL\",\n",
    "\"OTROS TRASTORNOS ESPECIFICADOS DEL SISTEMA URINARIO\",\n",
    "\"OTROS TRASTORNOS FOBICOS DE ANSIEDAD\",\n",
    "\"OTROS TRASTORNOS INTERNOS DE LA RODILLA\",\n",
    "\"OTROS TRASTORNOS RI?ON Y URETER EN ENF INFECCIOSAS Y PARASITARIAS CLASIFICADAS EN OTROS CAPITULOS\",\n",
    "\"OTROS TRASTORNOS VASCULARES DEL INTESTINO\",\n",
    "\"OTROS TRAUMATISMOS DE LA CABEZA, ESPECIFICADOS\",\n",
    "\"OTROS TRAUMATISMOS DE REGION NO ESPECIFICADA DEL CUERPO\",\n",
    "\"OTROS TRAUMATISMOS DEL OJO Y DE LA ORBITA\",\n",
    "\"OTROS TRAUMATISMOS ESPECIFICADOS QUE AFECTAN MULTIPLES REGIONES DEL CUERPO\",\n",
    "\"OTROS TRAUMATISMOS SUPERFICIALES DE LA PARED ANTERIOR DEL TORAX\",\n",
    "\"OTROS TRAUMATISMOS SUPERFICIALES DE LA PARED POSTERIOR DEL TORAX\",\n",
    "\"OTROS TRAUMATISMOS SUPERFICIALES DEL ABDOMEN, DE LA REGION LUMBOSACRA Y DE LA PELVIS\",\n",
    "\"OTROS TRAUMATISMOS SUPERFICIALES DEL HOMBRO Y DEL BRAZO\",\n",
    "\"OTROS TUM.ESPECIF.COMPORT.INCIERTO/DESCONOC.TEJ. LINFAT, ORG. HEMATOPOY. Y TEJIDOS AFINES\",\n",
    "\"OTROS VERTIGOS PERIFERICOS\",\n",
    "\"PALPITACIONES\",\n",
    "\"PANCREATITIS AGUDA INDUCIDA POR EL ALCOHOL\",\n",
    "\"PANCREATITIS AGUDA NO ESPECIFICADA\",\n",
    "\"PANCREATITIS BILIAR AGUDA\",\n",
    "\"PARALISIS DE BELL\",\n",
    "\"PARALISIS DEL NERVIO MOTOR OCULAR EXTERNO (VI PAR)\",\n",
    "\"PARESTESIA DE LA PIEL\",\n",
    "\"PARO CARDIACO, NO ESPECIFICADO\",\n",
    "\"PAROTIDITIS, SIN COMPLICACIONES\",\n",
    "\"PIELONEFRITIS CRONICA NO OBSTRUCTIVA ASOCIADA CON REFLUJO\",\n",
    "\"PIODERMA\",\n",
    "\"POLIARTRITIS, NO ESPECIFICADA\",\n",
    "\"POLIARTROSIS, NO ESPECIFICADA\",\n",
    "\"POLICONDRITIS RECIDIVANTE\",\n",
    "\"POLIMIOSITIS\",\n",
    "\"POLINEUROPATIA, NO ESPECIFICADA\",\n",
    "\"PREPUCIO REDUNDANTE, FIMOSIS Y PARAFIMOSIS\",\n",
    "\"PRESENCIA DE ALCOHOL EN LA SANGRE, NIVEL NO ESPECIFICADO\",\n",
    "\"PRESENCIA DE ANGIOPLASTIA, INJERTOS Y PROTESIS CORONARIAS\",\n",
    "\"PRESENCIA DE MARCAPASO CARDÃACO\",\n",
    "\"PROBLEMAS RELACIONADOS CON EL ESTRES, NO CLASIFICADOS EN OTRA PARTE\",\n",
    "\"PROSTATITIS AGUDA\",\n",
    "\"PROSTATOCISTITIS\",\n",
    "\"PRUEBA DE ALCOHOL O DROGAS EN LA SANGRE\",\n",
    "\"PRUEBA Y AJUSTE DE DISPOSITIVO PROTESICO EXTERNO NO ESPECIFICADO\",\n",
    "\"PSEUDOCOXALGIA\",\n",
    "\"QUEMADURA DE LA MUÃ‘ECA Y DE LA MANO, DE PRIMER GRADO\",\n",
    "\"QUEMADURA DE LAS VÃAS RESPIRATORIAS, PARTE NO ESPECIFICADA\",\n",
    "\"QUEMADURA DE REGION DEL CUERPO Y GRADO NO ESPECIFICADOS\",\n",
    "\"QUEMADURA DE SEGUNDO GRADO, REGION DEL CUERPO NO ESPECIFICADA\",\n",
    "\"QUEMADURA DEL HOMBRO Y MIEMBRO SUPERIOR, DE PRIMER GRADO, EXCEPTO DE LA MUÃ‘ECA Y DE LA MANO\",\n",
    "\"QUEMADURAS QUE AFECTAN MENOS DEL 10% DE LA SUPERFICIE DEL CUERPO\",\n",
    "\"QUISTE DEL COLEDOCO\",\n",
    "\"QUISTE EPIDERMICO\",\n",
    "\"QUISTE FOLICULAR DE LA PIEL Y DEL TEJIDO SUBCUTÃNEO, SIN OTRA ESPECIFICACION\",\n",
    "\"QUISTE SINOVIAL DEL HUECO POPLÃTEO (DE BAKER)\",\n",
    "\"RADIODERMATITIS AGUDA\",\n",
    "\"REACCION AL ESTRES AGUDO\",\n",
    "\"RETENCION DE ORINA\",\n",
    "\"RETINOPATIAS DEL FONDO Y CAMBIOS VASCULARES RETINIANOS\",\n",
    "\"RINOFARINGITIS AGUDA (RESFRIADO COMUN)\",\n",
    "\"RUPTURA ESPONTÃNEA DE TENDONES EXTENSORES\",\n",
    "\"RUPTURA TRAUMATICA DE DISCO INTERVERTEBRAL LUMBAR\",\n",
    "\"SECUELAS DE ENFERMEDAD CEREBROVASCULAR, NO ESPECIFICADA COMO HEMORRAGICA U OCLUSIVA\",\n",
    "\"SECUELAS DE FRACTURA DEL FEMUR\",\n",
    "\"SECUELAS DE HERIDA DE MIEMBRO INFERIOR\",\n",
    "\"SECUELAS DE INFARTO CEREBRAL\",\n",
    "\"SECUELAS DE LESIONES AUTO INFLIGIDAS\",\n",
    "\"SECUELAS DE OTRAS ENFERMEDADES CEREBROVASCULARES, ESPECIFICADAS\",\n",
    "\"SECUELAS DE TRAUMATISMO DE TENDON Y MUSCULO DE MIEMBRO SUPERIOR\",\n",
    "\"SECUELAS DE TRAUMATISMO NO ESPECIFICADO DE LA CABEZA\",\n",
    "\"SECUELAS DE TRAUMATISMO SUPERFICIAL DE LA CABEZA\",\n",
    "\"SENILIDAD\",\n",
    "\"SEPTICEMIA, NO ESPECIFICADA\",\n",
    "\"SINCOPE Y COLAPSO\",\n",
    "\"SINDROME DE CEFALEA EN RACIMOS\",\n",
    "\"SINDROME DE LA ARTICULACIÃ“N CONDROCOSTAL (TIETZE)\",\n",
    "\"SINDROME DEL COLON IRRITABLE CON DIARREA\",\n",
    "\"SINDROME DEL COLON IRRITABLE SIN DIARREA\",\n",
    "\"SINDROME DEL MANGUITO ROTATORIO\",\n",
    "\"SINDROME DEL TUNEL CALCANEO\",\n",
    "\"SINDROME DEL TUNEL CARPIANO\",\n",
    "\"SINDROME HEPATORRENAL\",\n",
    "\"SINDROMES VERTIGINOSOS EN ENFERMEDADES CLASIFICADAS EN OTRA PARTE\",\n",
    "\"SINOVITIS Y TENOSINOVITIS, NO ESPECIFICADA\",\n",
    "\"SINUSITIS AGUDA, NO ESPECIFICADA\",\n",
    "\"SOMNOLENCIA\",\n",
    "\"TAQUICARDIA PAROXISTICA, NO ESPECIFICADA\",\n",
    "\"TAQUICARDIA SUPRAVENTRICULAR\",\n",
    "\"TAQUICARDIA VENTRICULAR\",\n",
    "\"TAQUICARDIA, NO ESPECIFICADA\",\n",
    "\"TEMBLOR NO ESPECIFICADO\",\n",
    "\"TENDINITIS CALCIFICANTE DEL HOMBRO\",\n",
    "\"TENDINITIS DEL BICEPS\",\n",
    "\"TENDINITIS DEL GLUTEO\",\n",
    "\"TENDINITIS PERONEAL\",\n",
    "\"TENDINITIS ROTULIANA\",\n",
    "\"TENESMO VESICAL\",\n",
    "\"TENOSINOVITIS DE ESTILOIDES RADIAL (DE QUERVAIN)\",\n",
    "\"TORSION DEL TESTICULO\",\n",
    "\"TORTICOLIS ESPASMODICA\",\n",
    "\"TRANSFUSIÃ“N DE SANGRE, (SIN DIAGNÃ“STICO INFORMADO)\",\n",
    "\"TRAQUEITIS AGUDA\",\n",
    "\"TRAQUEOSTOMIA\",\n",
    "\"TRAST.MENT.Y DE COMPORT. DEBIDOS A INTOXIC. AGUDA POR USO DE OTROS ESTIMULANTES, INCL. CAFEINA\",\n",
    "\"TRASTORNO AFECTIVO BIPOLAR, ACTUALMENTE EN REMISION\",\n",
    "\"TRASTORNO AFECTIVO BIPOLAR, EPISODIO DEPRESIVO GRAVE PRESENTE SIN SINTOMAS PSICÃ“TICOS\",\n",
    "\"TRASTORNO DE ANSIEDAD GENERALIZADA\",\n",
    "\"TRASTORNO DE ANSIEDAD, NO ESPECIFICADO\",\n",
    "\"TRASTORNO DE LA CONDUCTA, NO ESPECIFICADO\",\n",
    "\"TRASTORNO DE LA FUNCION VESTIBULAR, NO ESPECIFICADO\",\n",
    "\"TRASTORNO DE LA PERSONALIDAD ANSIOSA (EVASIVA, ELUSIVA)\",\n",
    "\"TRASTORNO DE LA PERSONALIDAD EMOCIONALMENTE INESTABLE\",\n",
    "\"TRASTORNO DE LA PROSTATA, NO ESPECIFICADO\",\n",
    "\"TRASTORNO DE LA ROTULA, NO ESPECIFICADO\",\n",
    "\"TRASTORNO DE LA URETRA, NO ESPECIFICADO\",\n",
    "\"TRASTORNO DE LOS DISCOS INTERVERTEBRALES, NO ESPECIFICADO\",\n",
    "\"TRASTORNO DE PANICO (ANSIEDAD PAROXISTICA EPISODICA)\",\n",
    "\"TRASTORNO DE SOMATIZACION\",\n",
    "\"TRASTORNO DEL SISTEMA URINARIO, NO ESPECIFICADO\",\n",
    "\"TRASTORNO DEPRESIVO RECURRENTE, EPISODIO DEPRESIVO GRAVE PRESENTE SIN SINTOMAS PSICÃ“TICOS\",\n",
    "\"TRASTORNO DEPRESIVO RECURRENTE, EPISODIO DEPRESIVO GRAVE PRESENTE, CON SINTOMAS PSICÃ“TICOS\",\n",
    "\"TRASTORNO DISOCIATIVO (DE CONVERSION), NO ESPECIFICADO\",\n",
    "\"TRASTORNO ESPECIFICO DE LA PRONUNCIACION\",\n",
    "\"TRASTORNO FUNCIONAL INTESTINAL, NO ESPECIFICADO\",\n",
    "\"TRASTORNO HEMORRÃGICO DEBIDO A ANTICOAGULANTES CIRCULANTES\",\n",
    "\"TRASTORNO MIXTO DE ANSIEDAD Y DEPRESION\",\n",
    "\"TRASTORNO PSICOTICO AGUDO Y TRANSITORIO, NO ESPECIFICADO\",\n",
    "\"TRASTORNO QUE AFECTA AL MECANISMO DE LA INMUNIDAD, NO ESPECIFICADO\",\n",
    "\"TRASTORNO SINOVIAL Y TENDINOSO, NO ESPECIFICADO\",\n",
    "\"TRASTORNO SUDORIPARO APOCRINO, NO ESPECIFICADO\",\n",
    "\"TRASTORNO VASCULAR AGUDO DE LOS INTESTINOS\",\n",
    "\"TRASTORNO VASCULAR DEL INTESTINO, NO ESPECIFICADO\",\n",
    "\"TRASTORNO VENOSO, NO ESPECIFICADO\",\n",
    "\"TRASTORNOS DE DISCO LUMBAR Y OTROS, CON RADICULOPATIA\",\n",
    "\"TRASTORNOS DE LA VALVULA PULMONAR EN ENFERMEDADES CLASIFICADAS EN OTROS CAPITULOS\",\n",
    "\"TRASTORNOS DEL HIGADO EN OTRAS ENFERMEDADES CLASIFICADAS EN OTRA PARTE\",\n",
    "\"TRASTORNOS DEL METABOLISMO DE LOS ÃCIDOS GRASOS\",\n",
    "\"TRASTORNOS DEL NERVIO VAGO\",\n",
    "\"TRASTORNOS INFLAMATORIOS DE LA MAMA\",\n",
    "\"TRASTORNOS RESPIRATORIOS EN OTRAS ENFERMEDADES CLASIFICADAS EN OTROS CAPITULOS\",\n",
    "\"TRASTORNOS SISTEMICOS DEL TEJIDO CONJUNTIVO EN OTRAS ENFERMEDADES CLASIFICADAS EN OTROS CAPITULOS\",\n",
    "\"TRAUMATISMO CEREBRAL DIFUSO\",\n",
    "\"TRAUMATISMO CEREBRAL FOCAL\",\n",
    "\"TRAUMATISMO DE LA CABEZA, NO ESPECIFICADO\",\n",
    "\"TRAUMATISMO DE LA PIERNA, NO ESPECIFICADO\",\n",
    "\"TRAUMATISMO DE OTROS Ã“RGANOS INTRAABDOMINALES\",\n",
    "\"TRAUMATISMO DE OTROS VASOS SANGUINEOS DEL TORAX\",\n",
    "\"TRAUMATISMO DEL OJO Y DE LA ORBITA, NO ESPECIFICADO\",\n",
    "\"TRAUMATISMO DEL PIE Y DEL TOBILLO, NO ESPECIFICADO\",\n",
    "\"TRAUMATISMO DEL TENDON Y MUSCULO EXTENSOR DE OTRO(S) DEDO(S) A NIVEL DE LA MUÃ‘ECA Y DE MANO\",\n",
    "\"TRAUMATISMO DEL TORAX, NO ESPECIFICADO\",\n",
    "\"TRAUMATISMO NO ESPECIFICADO DE LA CADERA Y DEL MUSLO\",\n",
    "\"TRAUMATISMO POR APLASTAMIENTO DE LA RODILLA\",\n",
    "\"TRAUMATISMO SUPERFICIAL DE LA CABEZA, PARTE NO ESPECIFICADA\",\n",
    "\"TRAUMATISMO SUPERFICIAL DE LA NARIZ\",\n",
    "\"TRAUMATISMO SUPERFICIAL DE OTRAS PARTES DE LA CABEZA\",\n",
    "\"TRAUMATISMO SUPERFICIAL DE OTRAS PARTES Y DE LAS NO ESPECIFICADAS DEL TORAX\",\n",
    "\"TRAUMATISMO SUPERFICIAL DEL ABDOMEN, DE LA REGION LUMBOSACRA Y DE LA PELVIS, PARTE NO ESPECIF.\",\n",
    "\"TRAUMATISMO SUPERFICIAL DEL CUERO CABELLUDO\",\n",
    "\"TRAUMATISMO SUPERFICIAL DEL LABIO Y DE LA CAVIDAD BUCAL\",\n",
    "\"TRAUMATISMO, NO ESPECIFICADO\",\n",
    "\"TRAUMATISMOS MULTIPLES DE LA CABEZA\",\n",
    "\"TRAUMATISMOS MULTIPLES DE LA PIERNA\",\n",
    "\"TRAUMATISMOS MULTIPLES, NO ESPECIFICADOS\",\n",
    "\"TRAUMATISMOS SUPERFICIALES MULTIPLES DE LA CABEZA\",\n",
    "\"TRAUMATISMOS SUPERFICIALES MULTIPLES DEL HOMBRO Y DEL BRAZO\",\n",
    "\"TRAUMATISMOS SUPERFICIALES MULTIPLES, NO ESPECIFICADOS\",\n",
    "\"TRAUMATISMOS SUPERFICIALES QUE AFECTAN LA CABEZA CON EL CUELLO\",\n",
    "\"TROMBOCITOPENIA NO ESPECIFICADA\",\n",
    "\"TROMBOFLEBITIS MIGRATORIA\",\n",
    "\"TUBERCULOSIS DE PULMÃ“N, SIN EXAMEN BACTERIOLÃ“GICO E HISTOLÃ“GICO\",\n",
    "\"TUMOR BENIGNO DE OTRAS PARTES ESPECIFICADAS DEL SISTEMA NERVIOSO CENTRAL\",\n",
    "\"TUMOR BENIGNO DEL COLON, PARTE NO ESPECIFICADA\",\n",
    "\"TUMOR BENIGNO DEL ESTOMAGO\",\n",
    "\"TUMOR DE COMPORTAMIENTO INCIERTO O DESCONOCIDO DE Ã“RGANOS DIGESTIVOS, SITIO NO ESPECIFICADO\",\n",
    "\"TUMOR DE COMPORTAMIENTO INCIERTO O DESCONOCIDO DE HÃGADO, DE VESÃCULA BILIAR Y CONDUCTO BILIAR\",\n",
    "\"TUMOR DE COMPORTAMIENTO INCIERTO O DESCONOCIDO DE LA GLÃNDULA HIPÃ“FISIS\",\n",
    "\"TUMOR DE COMPORTAMIENTO INCIERTO O DESCONOCIDO DE LA MEDULA ESPINAL\",\n",
    "\"TUMOR DE COMPORTAMIENTO INCIERTO O DESCONOCIDO DE LA PELVIS RENAL\",\n",
    "\"TUMOR DE COMPORTAMIENTO INCIERTO O DESCONOCIDO DE LAS MENINGES CEREBRALES\",\n",
    "\"TUMOR DE COMPORTAMIENTO INCIERTO O DESCONOCIDO DE OTROS Ã“RGANOS DIGESTIVOS ESPECIFICADOS\",\n",
    "\"TUMOR DE COMPORTAMIENTO INCIERTO O DESCONOCIDO DE OTROS Ã“RGANOS GENITALES FEMENINOS\",\n",
    "\"TUMOR DE COMPORTAMIENTO INCIERTO O DESCONOCIDO DE OTROS SITIOS ESPECIFICADOS\",\n",
    "\"TUMOR DE COMPORTAMIENTO INCIERTO O DESCONOCIDO DEL ENCÃ‰FALO, PARTE NO ESPECIFICADA\",\n",
    "\"TUMOR DE COMPORTAMIENTO INCIERTO O DESCONOCIDO DEL ESTOMAGO\",\n",
    "\"TUMOR DE COMPORTAMIENTO INCIERTO O DESCONOCIDO DEL MEDIASTINO\",\n",
    "\"TUMOR DE COMPORTAMIENTO INCIERTO O DESCONOCIDO DEL RETROPERITONEO\",\n",
    "\"TUMOR MALIGNO DE LA CABEZA DEL PÃNCREAS\",\n",
    "\"TUMOR MALIGNO DE LA COLA DEL PÃNCREAS\",\n",
    "\"TUMOR MALIGNO DE LA MAMA, PARTE NO ESPECIFICADA\",\n",
    "\"TUMOR MALIGNO DE LA PLEURA\",\n",
    "\"TUMOR MALIGNO DE LA VESÃCULA BILIAR\",\n",
    "\"TUMOR MALIGNO DEL COLON, PARTE NO ESPECIFICADA\",\n",
    "\"TUMOR MALIGNO DEL CUERPO DEL ESTOMAGO\",\n",
    "\"TUMOR MALIGNO DEL ESÃ“FAGO, PORCIÃ“N TORÃCICA\",\n",
    "\"TUMOR MALIGNO DEL ESTOMAGO, PARTE NO ESPECIFICADA\",\n",
    "\"TUMOR MALIGNO DEL L+OBULO FRONTAL\",\n",
    "\"TUMOR MALIGNO DEL RECTO\",\n",
    "\"ULCERA CRONICA DE LA PIEL, NO CLASIFICADA EN OTRA PARTE\",\n",
    "\"ULCERA DE MIEMBRO INFERIOR, NO CLASIFICADA EN OTRA PARTE\",\n",
    "\"ULCERA DUODENAL AGUDA CON HEMORRAGIA\",\n",
    "\"ULCERA DUODENAL AGUDA CON PERFORACION\",\n",
    "\"ULCERA GASTRICA AGUDA CON PERFORACION\",\n",
    "\"ULCERA GASTRICA CRONICA O NO ESPECIFICADA, CON HEMORRAGIA\",\n",
    "\"ULCERA GASTRICA CRONICA SIN HEMORRAGIA NI PERFORACION\",\n",
    "\"ULCERACION E INFLAMACION VULVOVAGINAL EN OTRAS ENFERMEDADES CLASIFICADAS EN OTROS CAPITULOS\",\n",
    "\"URETRITIS EN ENFERMEDADES CLASIFICADAS EN OTRA PARTE\",\n",
    "\"UROPATIA ASOCIADA CON REFLUJO VESICOURETERAL\",\n",
    "\"URTICARIA ALERGICA\",\n",
    "\"USO NOCIVO DE MULTIPLES DROGAS Y DE OTRAS SUSTANCIAS PSICOACTIVAS (ABUSO)\",\n",
    "\"USO NOCIVO DE SEDANTES O HIPNÃ“TICOS (ABUSO)\",\n",
    "\"VARICES EN OTROS SITIOS ESPECIFICADOS\",\n",
    "\"VARICES ESCROTALES\",\n",
    "\"VARICES ESOFAGICAS CON HEMORRAGIA\",\n",
    "\"VENAS VARICOSAS DE LOS MIEMBROS INFERIORES CON INFLAMACION\",\n",
    "\"VENAS VARICOSAS DE LOS MIEMBROS INFERIORES CON ULCERA E INFLAMACION\",\n",
    "\"VENAS VARICOSAS DE LOS MIEMBROS INFERIORES CON ULCERA\",\n",
    "\"VENAS VARICOSAS DE LOS MIEMBROS INFERIORES SIN ULCERA NI INFLAMACION\",\n",
    "\"VERTIGO DE ORIGEN CENTRAL\",\n",
    "\"VERTIGO PAROXISTICO BENIGNO\",\n",
    "\"VOMITOS ASOCIADOS CON OTRAS ALTERACIONES PSICOLOGICAS\",\n",
    "])"
   ]
  },
  {
   "cell_type": "code",
   "execution_count": null,
   "metadata": {},
   "outputs": [],
   "source": [
    "X[:,26] = le_diag.transform(X[:,26])"
   ]
  },
  {
   "cell_type": "markdown",
   "metadata": {},
   "source": [
    "Asignación de la variable dependiente a predecir (categoría), al vector y"
   ]
  },
  {
   "cell_type": "code",
   "execution_count": null,
   "metadata": {},
   "outputs": [],
   "source": [
    "X.shape"
   ]
  },
  {
   "cell_type": "markdown",
   "metadata": {},
   "source": [
    " <h1 id=\"Selección de atributos\">Selección de atributos</h1>\n",
    "<p>\n",
    "Se identificará qué parámetros son mas útiles para la predicción,con el fin de reducir la dimensionalidad de la base de datos utilizada para la predicción de categoría. El objetivo de reducir la dimensionalidad de la base de datos es agilizar los procesos de entrenamiento y predicción de la categoria de pacientes.\n",
    "</p>"
   ]
  },
  {
   "cell_type": "code",
   "execution_count": null,
   "metadata": {},
   "outputs": [],
   "source": [
    "from sklearn.feature_selection import SelectKBest, chi2\n",
    "X = SelectKBest(chi2, k=10).fit_transform(X, y)\n",
    "X.shape"
   ]
  },
  {
   "cell_type": "markdown",
   "metadata": {},
   "source": [
    " <h1 id=\"Normalización de datos\">Normalización de datos</h1>\n",
    "<p>\n",
    "Para aplicar el paquete de arboles de desición, los datos deben estar en una escala similar, es por ello que optamos por normalizarlos para que los valores estén en un rango entre -2 y 2. Esta medida no altera los resultados aunque si faborece a la eficiencia de los algoritmos\n",
    "</p>"
   ]
  },
  {
   "cell_type": "code",
   "execution_count": null,
   "metadata": {},
   "outputs": [],
   "source": [
    "X = preprocessing.StandardScaler().fit(X).transform(X)\n",
    "X[0:5]"
   ]
  },
  {
   "cell_type": "markdown",
   "metadata": {},
   "source": [
    " <h1 id=\"Configurando algoritmos\">Configurando algoritmos</h1>\n",
    "<p>\n",
    "En esta sección se definen parámetros necesarios para la correcta aplicación de los algoritmos a implementar, además de seccionar el conjunto de datos en datos de prueba(30%)y de entrenamiento (70%). Los parámetros escogidos pueden ser modificados con el fin de obtener resultados diferentes\n",
    "</p>"
   ]
  },
  {
   "cell_type": "markdown",
   "metadata": {},
   "source": [
    "Carga de paquetes"
   ]
  },
  {
   "cell_type": "code",
   "execution_count": null,
   "metadata": {},
   "outputs": [],
   "source": [
    "from sklearn.model_selection import train_test_split"
   ]
  },
  {
   "cell_type": "markdown",
   "metadata": {},
   "source": [
    "Segmentación del conjunto de datos"
   ]
  },
  {
   "cell_type": "code",
   "execution_count": null,
   "metadata": {},
   "outputs": [],
   "source": [
    "X_trainset, X_testset, y_trainset, y_testset = train_test_split(X, y, test_size=0.3, random_state=3)"
   ]
  },
  {
   "cell_type": "markdown",
   "metadata": {},
   "source": [
    "Resampling del conjunto de datos"
   ]
  },
  {
   "cell_type": "code",
   "execution_count": null,
   "metadata": {},
   "outputs": [],
   "source": [
    "from imblearn.combine import SMOTETomek\n",
    "from imblearn.ensemble import BalancedBaggingClassifier\n",
    "from collections import Counter\n",
    " \n",
    "os_us = SMOTETomek(sampling_strategy='auto',random_state=None,smote=None,tomek=None,n_jobs=None,)\n",
    "X_trainset_res_ST1, y_trainset_res_ST1 = os_us.fit_sample(X_trainset, y_trainset)\n",
    " \n",
    "print (\"Distribution before resampling {}\".format(Counter(y_trainset)))\n",
    "print (\"Distribution labels after resampling {}\".format(Counter(y_trainset_res_ST1)))"
   ]
  },
  {
   "cell_type": "markdown",
   "metadata": {},
   "source": [
    "Árbol de desición"
   ]
  },
  {
   "cell_type": "code",
   "execution_count": null,
   "metadata": {},
   "outputs": [],
   "source": [
    "from sklearn.tree import DecisionTreeClassifier\n",
    "DT= DecisionTreeClassifier(criterion=\"entropy\", max_depth = 4)\n",
    "DT.fit(X_trainset,y_trainset)\n",
    "yhat_1 = DT.predict(X_testset)\n",
    "yhat_prob_1=DT.predict_proba(X_testset)\n",
    "DT_Acc=round(metrics.accuracy_score(y_testset, yhat_1),4)\n",
    "#DT_Jcc=round(jaccard_similarity_score(y_testset, yhat_1),4)\n",
    "DT_lgl=round(log_loss(y_testset, yhat_prob_1),4)\n",
    "DT_F1=f1_score(y_testset, yhat_1, average='weighted') "
   ]
  },
  {
   "cell_type": "code",
   "execution_count": null,
   "metadata": {},
   "outputs": [],
   "source": [
    "DT_GS = DecisionTreeClassifier(ccp_alpha=0.0, class_weight=None, criterion='entropy',\n",
    "                       max_depth=19, max_features=None, max_leaf_nodes=None,\n",
    "                       min_impurity_decrease=0.0, min_impurity_split=None,\n",
    "                       min_samples_leaf=1, min_samples_split=2,\n",
    "                       min_weight_fraction_leaf=0.0,\n",
    "                       random_state=42, splitter='best')\n",
    "DT_GS.fit(X_trainset,y_trainset)\n",
    "DT_GS_ST=DT_GS.fit(X_trainset_res_ST1, y_trainset_res_ST1)"
   ]
  },
  {
   "cell_type": "code",
   "execution_count": null,
   "metadata": {},
   "outputs": [],
   "source": [
    "DT_parameters = [{'criterion': ['entropy', 'gini'], 'max_depth': np.arange(3, 21)},{'min_samples_leaf': [5, 10, 20, 50, 100]}]\n",
    "DT_GS = GridSearchCV(DecisionTreeClassifier(random_state=42), DT_parameters, verbose=1, cv=5, scoring='balanced_accuracy')\n",
    "DT_GS.fit(X_trainset,y_trainset)\n",
    "DT_GS_ST=DT_GS.fit(X_trainset_res_ST1, y_trainset_res_ST1)"
   ]
  },
  {
   "cell_type": "code",
   "execution_count": null,
   "metadata": {},
   "outputs": [],
   "source": [
    "DT_GS.best_estimator_"
   ]
  },
  {
   "cell_type": "code",
   "execution_count": null,
   "metadata": {},
   "outputs": [],
   "source": [
    "yhat_1_GS= DT_GS.predict(X_testset)\n",
    "yhat_prob_1_GS=DT_GS.predict_proba(X_testset)\n",
    "DT_Acc_GS=round(metrics.accuracy_score(y_testset, yhat_1_GS),4)\n",
    "#DT_Jcc_GS=round(jaccard_similarity_score(y_testset, yhat_1_GS),4)\n",
    "DT_lgl_GS=round(log_loss(y_testset, yhat_prob_1_GS),4)\n",
    "DT_F1_GS=round(f1_score(y_testset, yhat_1_GS, average='weighted'),4) "
   ]
  },
  {
   "cell_type": "code",
   "execution_count": null,
   "metadata": {},
   "outputs": [],
   "source": [
    "yhat_1_GS_ST= DT_GS_ST.predict(X_testset)\n",
    "yhat_prob_1_GS=DT_GS.predict_proba(X_testset)\n",
    "DT_Acc_GS_ST=round(metrics.accuracy_score(y_testset, yhat_1_GS_ST),4)\n",
    "#DT_Jcc_GS_ST=round(jaccard_similarity_score(y_testset, yhat_1_GS_ST),4)\n",
    "#DT_lgl_GS=round(log_loss(y_testset, yhat_prob_1_GS_ST),4)\n",
    "DT_F1_GS_ST=round(f1_score(y_testset, yhat_1_GS_ST, average='weighted'),4) "
   ]
  },
  {
   "cell_type": "code",
   "execution_count": null,
   "metadata": {},
   "outputs": [],
   "source": [
    "resultados_DT = {'índices de rendimiento':['Accuracy','F1-Score'],\n",
    "             'Árboles de decisión':[DT_Acc,DT_F1],\n",
    "             'Grid Search':[DT_Acc_GS,DT_F1_GS],\n",
    "                'GS+SMOTE-Tomek':[DT_Acc_GS_ST,DT_F1_GS_ST]}\n",
    "Tabla_resultados_DT=pd.DataFrame(resultados_DT)\n",
    "print(Tabla_resultados_DT)"
   ]
  },
  {
   "cell_type": "code",
   "execution_count": null,
   "metadata": {},
   "outputs": [],
   "source": [
    "import eli5\n",
    "from eli5.sklearn import PermutationImportance"
   ]
  },
  {
   "cell_type": "code",
   "execution_count": null,
   "metadata": {},
   "outputs": [],
   "source": [
    "perm = PermutationImportance(DT, random_state=1).fit(X, y)\n",
    "eli5.show_weights(perm, feature_names =X.columns.tolist())"
   ]
  },
  {
   "cell_type": "code",
   "execution_count": null,
   "metadata": {},
   "outputs": [],
   "source": [
    "import shap\n",
    "ex = shap.TreeExplainer(DT)\n",
    "shap_values = ex.shap_values(X)\n",
    "shap.summary_plot(shap_values, X)"
   ]
  },
  {
   "cell_type": "code",
   "execution_count": null,
   "metadata": {},
   "outputs": [],
   "source": [
    "# Kerner Explainer\n",
    "explainer = shap.KernelExplainer(DT.predict_proba,X[:100])\n",
    "shap_values = explainer.shap_values(X[:100])\n",
    "shap.summary_plot(shap_values, X[:100])"
   ]
  },
  {
   "cell_type": "markdown",
   "metadata": {},
   "source": [
    "Bosque de desición"
   ]
  },
  {
   "cell_type": "code",
   "execution_count": null,
   "metadata": {},
   "outputs": [],
   "source": [
    "from sklearn.ensemble import RandomForestClassifier\n",
    "RF= RandomForestClassifier(max_depth=2, random_state=0)\n",
    "RF.fit(X_trainset,y_trainset)\n",
    "yhat_2 = RF.predict(X_testset)\n",
    "yhat_prob_2=RF.predict_proba(X_testset)\n",
    "RF_Acc=round(metrics.accuracy_score(y_testset, yhat_2),4)\n",
    "#RF_Jcc=round(jaccard_similarity_score(y_testset, yhat_2),4)\n",
    "RF_lgl=round(log_loss(y_testset, yhat_prob_2),4)\n",
    "RF_F1=f1_score(y_testset, yhat_2, average='weighted') "
   ]
  },
  {
   "cell_type": "code",
   "execution_count": null,
   "metadata": {},
   "outputs": [],
   "source": [
    "RF_GS =RandomForestClassifier(bootstrap=True, ccp_alpha=0.0, class_weight=None,\n",
    "                       criterion='gini', max_depth=20, max_features='auto',\n",
    "                       max_leaf_nodes=None, max_samples=None,\n",
    "                       min_impurity_decrease=0.0, min_impurity_split=None,\n",
    "                       min_samples_leaf=1, min_samples_split=2,\n",
    "                       min_weight_fraction_leaf=0.0, n_estimators=400,\n",
    "                       n_jobs=None, oob_score=False, random_state=0, verbose=0,\n",
    "                       warm_start=False)\n",
    "RF_GS.fit(X_trainset,y_trainset)\n",
    "DT_GS_ST=DT_GS.fit(X_trainset_res_ST1, y_trainset_res_ST1)"
   ]
  },
  {
   "cell_type": "code",
   "execution_count": null,
   "metadata": {},
   "outputs": [],
   "source": [
    "RF_parameters ={ 'n_estimators': [100,200,300,400,500],'criterion': ['entropy', 'gini'], 'max_depth': np.arange(3, 21)},{'min_samples_leaf': [5, 10, 20, 50, 100]}\n",
    "RF_GS = GridSearchCV(estimator=RF,param_grid=RF_parameters, cv= 3,scoring=\"accuracy\")\n",
    "RF_GS.fit(X_trainset,y_trainset)\n",
    "RF_GS_ST=RF_GS.fit(X_trainset_res_ST1, y_trainset_res_ST1)"
   ]
  },
  {
   "cell_type": "code",
   "execution_count": null,
   "metadata": {},
   "outputs": [],
   "source": [
    "RF_GS.best_estimator_"
   ]
  },
  {
   "cell_type": "code",
   "execution_count": null,
   "metadata": {},
   "outputs": [],
   "source": [
    "yhat_2_GS= RF_GS.predict(X_testset)\n",
    "yhat_prob_2_GS=RF_GS.predict_proba(X_testset)\n",
    "RF_Acc_GS=round(metrics.accuracy_score(y_testset, yhat_2_GS),4)\n",
    "#RF_Jcc_GS=round(jaccard_similarity_score(y_testset, yhat_2_GS),4)\n",
    "#RF_lgl_GS=round(log_loss(y_testset, yhat_prob_2_GS),4)\n",
    "RF_F1_GS=round(f1_score(y_testset, yhat_2_GS, average='weighted'),4) "
   ]
  },
  {
   "cell_type": "code",
   "execution_count": null,
   "metadata": {},
   "outputs": [],
   "source": [
    "yhat_2_GS_ST= DT_GS_ST.predict(X_testset)\n",
    "yhat_prob_2_GS=DT_GS.predict_proba(X_testset)\n",
    "RF_Acc_GS_ST=round(metrics.accuracy_score(y_testset, yhat_2_GS_ST),4)\n",
    "#RF_Jcc_GS_ST=round(jaccard_similarity_score(y_testset, yhat_2_GS_ST),4)\n",
    "#DT_lgl_GS=round(log_loss(y_testset, yhat_prob_1_GS_ST),4)\n",
    "RF_F1_GS_ST=round(f1_score(y_testset, yhat_2_GS_ST, average='weighted'),4) "
   ]
  },
  {
   "cell_type": "code",
   "execution_count": null,
   "metadata": {},
   "outputs": [],
   "source": [
    "resultados_RF = {'índices de rendimiento':['Accuracy','F1-Score'],\n",
    "             'Bosque de decisión':[RF_Acc,RF_F1],\n",
    "             'Grid Search':[RF_Acc_GS,RF_F1_GS],\n",
    "                'GS+SMOTE-Tomek':[RF_Acc_GS_ST,RF_F1_GS_ST]}\n",
    "Tabla_resultados_RF=pd.DataFrame(resultados_RF)\n",
    "print(Tabla_resultados_RF)"
   ]
  },
  {
   "cell_type": "code",
   "execution_count": null,
   "metadata": {},
   "outputs": [],
   "source": [
    "import shap\n",
    "ex = shap.TreeExplainer(RF)\n",
    "shap_values = ex.shap_values(X)\n",
    "shap.summary_plot(shap_values, X)"
   ]
  },
  {
   "cell_type": "code",
   "execution_count": null,
   "metadata": {},
   "outputs": [],
   "source": [
    "# Kerner Explainer\n",
    "explainer = shap.KernelExplainer(RF.predict_proba,X[:100])\n",
    "shap_values = explainer.shap_values(X[:100])\n",
    "shap.summary_plot(shap_values, X[:100])"
   ]
  },
  {
   "cell_type": "markdown",
   "metadata": {},
   "source": [
    "Regresión logística (multi-class)"
   ]
  },
  {
   "cell_type": "code",
   "execution_count": null,
   "metadata": {},
   "outputs": [],
   "source": [
    "from sklearn.linear_model import LogisticRegression\n",
    "from sklearn.metrics import confusion_matrix\n",
    "LR = LogisticRegression(C=0.01, solver='newton-cg',penalty='l2',multi_class='ovr').fit(X_trainset,y_trainset)\n",
    "yhat_3= LR.predict(X_testset)\n",
    "yhat_prob_3=LR.predict_proba(X_testset)\n",
    "LR_Acc=round(metrics.accuracy_score(y_testset, yhat_3),4)\n",
    "#LR_Jcc=round(jaccard_similarity_score(y_testset, yhat_3),4)\n",
    "LR_lgl=round(log_loss(y_testset, yhat_prob_3),4)\n",
    "LR_F1=f1_score(y_testset, yhat_3, average='weighted') "
   ]
  },
  {
   "cell_type": "code",
   "execution_count": null,
   "metadata": {},
   "outputs": [],
   "source": [
    "LR_GS = LogisticRegression(C=0.1, class_weight=None, dual=False, fit_intercept=True,\n",
    "                   intercept_scaling=1, l1_ratio=None, max_iter=100,\n",
    "                   multi_class='ovr', n_jobs=None, penalty='l2',\n",
    "                   random_state=None, solver='newton-cg', tol=0.0001, verbose=0,\n",
    "                   warm_start=False)\n",
    "LR_GS.fit(X_trainset,y_trainset)\n",
    "LR_GS_ST=LR_GS.fit(X_trainset_res_ST1, y_trainset_res_ST1)"
   ]
  },
  {
   "cell_type": "code",
   "execution_count": null,
   "metadata": {},
   "outputs": [],
   "source": [
    "LR_parameters ={'C':(0.1,1,10), 'penalty':['l1','l2','elasticnet']}\n",
    "LR_GS = GridSearchCV(estimator=LR,param_grid=LR_parameters, verbose=True, n_jobs=-1,cv=3)\n",
    "LR_GS.fit(X_trainset,y_trainset)\n",
    "LR_GS_ST=LR_GS.fit(X_trainset_res_ST1, y_trainset_res_ST1)"
   ]
  },
  {
   "cell_type": "code",
   "execution_count": null,
   "metadata": {},
   "outputs": [],
   "source": [
    "LR_GS.best_estimator_"
   ]
  },
  {
   "cell_type": "code",
   "execution_count": null,
   "metadata": {},
   "outputs": [],
   "source": [
    "yhat_3_GS= LR_GS.predict(X_testset)\n",
    "yhat_prob_3_GS=LR_GS.predict_proba(X_testset)\n",
    "LR_Acc_GS=round(metrics.accuracy_score(y_testset, yhat_3_GS),4)\n",
    "#LR_Jcc_GS=round(jaccard_similarity_score(y_testset, yhat_3_GS),4)\n",
    "LR_lgl_GS=round(log_loss(y_testset, yhat_prob_3_GS),4)\n",
    "LR_F1_GS=round(f1_score(y_testset, yhat_3_GS, average='weighted'),4) "
   ]
  },
  {
   "cell_type": "code",
   "execution_count": null,
   "metadata": {},
   "outputs": [],
   "source": [
    "yhat_3_GS= LR_GS.predict(X_testset)\n",
    "yhat_prob_3_GS=LR_GS.predict_proba(X_testset)\n",
    "LR_Acc_GS=round(metrics.accuracy_score(y_testset, yhat_3_GS),4)\n",
    "#LR_Jcc_GS=round(jaccard_similarity_score(y_testset, yhat_3_GS),4)\n",
    "LR_lgl_GS=round(log_loss(y_testset, yhat_prob_3_GS),4)\n",
    "LR_F1_GS=round(f1_score(y_testset, yhat_3_GS, average='weighted'),4) "
   ]
  },
  {
   "cell_type": "code",
   "execution_count": null,
   "metadata": {},
   "outputs": [],
   "source": [
    "yhat_3_GS_ST= LR_GS_ST.predict(X_testset)\n",
    "#yhat_prob_2_GS=DT_GS.predict_proba(X_testset)\n",
    "LR_Acc_GS_ST=round(metrics.accuracy_score(y_testset, yhat_3_GS_ST),4)\n",
    "#LR_Jcc_GS_ST=round(jaccard_similarity_score(y_testset, yhat_3_GS_ST),4)\n",
    "#DT_lgl_GS=round(log_loss(y_testset, yhat_prob_1_GS_ST),4)\n",
    "LR_F1_GS_ST=round(f1_score(y_testset, yhat_3_GS_ST, average='weighted'),4) "
   ]
  },
  {
   "cell_type": "code",
   "execution_count": null,
   "metadata": {},
   "outputs": [],
   "source": [
    "resultados_LR = {'índices de rendimiento':['Accuracy','F1-Score'],\n",
    "             'Regresión Logística':[LR_Acc,LR_F1],\n",
    "             'Grid Search':[LR_Acc_GS,LR_F1_GS],\n",
    "                 'GS+SMOTE-Tomek':[LR_Acc_GS_ST,LR_F1_GS_ST]}\n",
    "Tabla_resultados_LR=pd.DataFrame(resultados_LR)\n",
    "print(Tabla_resultados_LR)"
   ]
  },
  {
   "cell_type": "code",
   "execution_count": null,
   "metadata": {},
   "outputs": [],
   "source": [
    "# Kerner Explainer\n",
    "explainer = shap.KernelExplainer(LR.predict_proba,X[:100])\n",
    "shap_values = explainer.shap_values(X[:100])\n",
    "shap.summary_plot(shap_values, X[:100])"
   ]
  },
  {
   "cell_type": "markdown",
   "metadata": {},
   "source": [
    "Redes Neuronales"
   ]
  },
  {
   "cell_type": "code",
   "execution_count": null,
   "metadata": {},
   "outputs": [],
   "source": [
    "from sklearn.neural_network import MLPClassifier\n",
    "NN = MLPClassifier(solver='lbfgs', alpha=1e-5, hidden_layer_sizes=(5, 2), random_state=1).fit(X_trainset,y_trainset)\n",
    "yhat_4 = NN.predict(X_testset)\n",
    "yhat_prob_4=NN.predict_proba(X_testset)\n",
    "NN_Acc=round(metrics.accuracy_score(y_testset, yhat_4),4)\n",
    "#NN_Jcc=round(jaccard_similarity_score(y_testset, yhat_3),4)\n",
    "NN_lgl=round(log_loss(y_testset, yhat_prob_4),4)\n",
    "NN_F1=f1_score(y_testset, yhat_4, average='weighted') "
   ]
  },
  {
   "cell_type": "code",
   "execution_count": null,
   "metadata": {},
   "outputs": [],
   "source": [
    "NN_GS = MLPClassifier(activation='tanh', alpha=0.0001, batch_size='auto', beta_1=0.9,\n",
    "              beta_2=0.999, early_stopping=False, epsilon=1e-08,\n",
    "              hidden_layer_sizes=(50, 100, 50), learning_rate='constant',\n",
    "              learning_rate_init=0.001, max_fun=15000, max_iter=200,\n",
    "              momentum=0.9, n_iter_no_change=10, nesterovs_momentum=True,\n",
    "              power_t=0.5, random_state=1, shuffle=True, solver='adam',\n",
    "              tol=0.0001, validation_fraction=0.1, verbose=False,\n",
    "              warm_start=False)\n",
    "NN_GS.fit(X_trainset,y_trainset)\n",
    "NN_GS_ST=NN_GS.fit(X_trainset_res_ST1, y_trainset_res_ST1)"
   ]
  },
  {
   "cell_type": "code",
   "execution_count": null,
   "metadata": {},
   "outputs": [],
   "source": [
    "NN_parameters = {'hidden_layer_sizes': [(50,50,50), (50,100,50), (100,)],'activation': ['tanh', 'relu'],\n",
    "    'solver': ['sgd', 'adam'],'alpha': [0.0001, 0.05],'learning_rate': ['constant','adaptive']}\n",
    "\n",
    "NN_GS = GridSearchCV(estimator=NN,param_grid=NN_parameters, cv= 3, verbose=True,scoring=\"accuracy\")\n",
    "NN_GS.fit(X_trainset,y_trainset)\n",
    "NN_GS_ST=NN_GS.fit(X_trainset_res_ST1, y_trainset_res_ST1)"
   ]
  },
  {
   "cell_type": "code",
   "execution_count": null,
   "metadata": {},
   "outputs": [],
   "source": [
    "NN_GS.best_estimator_"
   ]
  },
  {
   "cell_type": "code",
   "execution_count": null,
   "metadata": {},
   "outputs": [],
   "source": [
    "yhat_4_GS= NN_GS.predict(X_testset)\n",
    "#yhat_prob_4_GS=NN_GS.predict_proba(X_testset)\n",
    "NN_Acc_GS=round(metrics.accuracy_score(y_testset, yhat_4_GS),4)\n",
    "#NN_Jcc_GS=round(jaccard_similarity_score(y_testset, yhat_4_GS),4)\n",
    "#NN_lgl_GS=round(log_loss(y_testset, yhat_prob_4_GS),4)\n",
    "NN_F1_GS=round(f1_score(y_testset, yhat_4_GS, average='weighted'),4) "
   ]
  },
  {
   "cell_type": "code",
   "execution_count": null,
   "metadata": {},
   "outputs": [],
   "source": [
    "yhat_4_GS_ST= NN_GS_ST.predict(X_testset)\n",
    "#yhat_prob_2_GS=DT_GS.predict_proba(X_testset)\n",
    "NN_Acc_GS_ST=round(metrics.accuracy_score(y_testset, yhat_4_GS_ST),4)\n",
    "#NN_Jcc_GS_ST=round(jaccard_similarity_score(y_testset, yhat_4_GS_ST),4)\n",
    "#DT_lgl_GS=round(log_loss(y_testset, yhat_prob_1_GS_ST),4)\n",
    "NN_F1_GS_ST=round(f1_score(y_testset, yhat_4_GS_ST, average='weighted'),4) "
   ]
  },
  {
   "cell_type": "code",
   "execution_count": null,
   "metadata": {},
   "outputs": [],
   "source": [
    "resultados_NN = {'índices de rendimiento':['Accuracy','F1-Score'],\n",
    "             'Red Neuronal':[NN_Acc,NN_F1],\n",
    "             'Grid Search':[NN_Acc_GS,NN_F1_GS],\n",
    "                'GS+SMOTE-Tomek':[NN_Acc_GS_ST,NN_F1_GS_ST]}\n",
    "Tabla_resultados_NN=pd.DataFrame(resultados_NN)\n",
    "print(Tabla_resultados_NN)"
   ]
  },
  {
   "cell_type": "code",
   "execution_count": null,
   "metadata": {},
   "outputs": [],
   "source": [
    "data_DF=pd.DataFrame(X, columns=df_hosp.columns)\n",
    "data_DF"
   ]
  },
  {
   "cell_type": "code",
   "execution_count": null,
   "metadata": {},
   "outputs": [],
   "source": [
    "import eli5\n",
    "from eli5.sklearn import PermutationImportance\n",
    "perm = PermutationImportance(NN, random_state=1).fit(data_DF, y)\n",
    "eli5.show_weights(perm, feature_names =data_DF.columns.tolist())"
   ]
  },
  {
   "cell_type": "code",
   "execution_count": null,
   "metadata": {},
   "outputs": [],
   "source": [
    "# Kerner Explainer\n",
    "import shap\n",
    "explainer = shap.KernelExplainer(NN.predict_proba,data_DF[:100])\n",
    "shap_values = explainer.shap_values(data_DF[:100])\n",
    "shap.summary_plot(shap_values, data_DF[:100])"
   ]
  },
  {
   "cell_type": "markdown",
   "metadata": {},
   "source": [
    "Support Vector Machine"
   ]
  },
  {
   "cell_type": "code",
   "execution_count": null,
   "metadata": {},
   "outputs": [],
   "source": [
    "from sklearn import svm\n",
    "SVM = svm.SVC(kernel='rbf',decision_function_shape='ovo', probability=True)\n",
    "SVM.fit(X_trainset, y_trainset) \n",
    "yhat_5 = SVM.predict(X_testset)\n",
    "yhat_prob_5=SVM.predict_proba(X_testset)\n",
    "SVM_Acc=round(metrics.accuracy_score(y_testset, yhat_5),4)\n",
    "#SVM_Jcc=round(jaccard_similarity_score(y_testset, yhat_5),4)\n",
    "SVM_lgl=round(log_loss(y_testset, yhat_prob_5),4)\n",
    "SVM_F1=f1_score(y_testset, yhat_5, average='weighted') "
   ]
  },
  {
   "cell_type": "code",
   "execution_count": null,
   "metadata": {},
   "outputs": [],
   "source": [
    "SVM_parameters ={'C': [0.1,1, 10, 100], 'gamma': [1,0.1,0.01,0.001],'kernel': ['rbf', 'poly', 'sigmoid']}\n",
    "SVM_GS = GridSearchCV(estimator=SVM,param_grid=SVM_parameters, cv= 3, verbose=True, n_jobs=-1)\n",
    "SVM_GS.fit(X_trainset,y_trainset)\n",
    "SVM_GS_ST=SVM_GS.fit(X_trainset_res_ST1, y_trainset_res_ST1)"
   ]
  },
  {
   "cell_type": "code",
   "execution_count": null,
   "metadata": {},
   "outputs": [],
   "source": [
    "SVM_GS.best_estimator_"
   ]
  },
  {
   "cell_type": "code",
   "execution_count": null,
   "metadata": {},
   "outputs": [],
   "source": [
    "yhat_5_GS= SVM_GS.predict(X_testset)\n",
    "yhat_prob_5_GS=SVM_GS.predict_proba(X_testset)\n",
    "SVM_Acc_GS=round(metrics.accuracy_score(y_testset, yhat_5_GS),4)\n",
    "#SVM_Jcc_GS=round(jaccard_similarity_score(y_testset, yhat_5_GS),4)\n",
    "SVM_lgl_GS=round(log_loss(y_testset, yhat_prob_5_GS),4)\n",
    "SVM_F1_GS=round(f1_score(y_testset, yhat_5_GS, average='weighted'),4) "
   ]
  },
  {
   "cell_type": "code",
   "execution_count": null,
   "metadata": {},
   "outputs": [],
   "source": [
    "yhat_5_GS_ST= NN_GS_ST.predict(X_testset)\n",
    "#yhat_prob_2_GS=DT_GS.predict_proba(X_testset)\n",
    "SVM_Acc_GS_ST=round(metrics.accuracy_score(y_testset, yhat_5_GS_ST),4)\n",
    "SVM_Jcc_GS_ST=round(jaccard_similarity_score(y_testset, yhat_5_GS_ST),4)\n",
    "#DT_lgl_GS=round(log_loss(y_testset, yhat_prob_1_GS_ST),4)\n",
    "SVM_F1_GS_ST=round(f1_score(y_testset, yhat_5_GS_ST, average='weighted'),4) "
   ]
  },
  {
   "cell_type": "code",
   "execution_count": null,
   "metadata": {},
   "outputs": [],
   "source": [
    "resultados_SVM = {'índices de rendimiento':['Accuracy','Jaccard','F1-Score'],\n",
    "             'Red Neuronal':[SVM_Acc,SVM_Jcc,SVM_F1],\n",
    "             'Grid Search':[SVM_Acc_GS,SVM_Jcc_GS,SVM_F1_GS],\n",
    "             'GS+SMOTE-Tomek':[SVM_Acc_GS_ST,SVM_Jcc_GS_ST,SVM_F1_GS_ST]}\n",
    "Tabla_resultados_SVM=pd.DataFrame(resultados_SVM)\n",
    "print(Tabla_resultados_SVM)"
   ]
  },
  {
   "cell_type": "code",
   "execution_count": null,
   "metadata": {},
   "outputs": [],
   "source": [
    "# Kerner Explainer\n",
    "explainer = shap.KernelExplainer(SVM.predict_proba,X[:100])\n",
    "shap_values = explainer.shap_values(X[:100])\n",
    "shap.summary_plot(shap_values, X[:100])"
   ]
  },
  {
   "cell_type": "code",
   "execution_count": null,
   "metadata": {},
   "outputs": [],
   "source": [
    "resultados = {'Algoritmos de clasificación':['Árboles de decisión','AD+GS','Bosques de decisión','BD+GS','Regresión Logística','RL+GS','Red Neuronal','RN+GS'],\n",
    "             'Accuracy':[DT_Acc,DT_Acc_GS,RF_Acc,RF_Acc_GS,LR_Acc,LR_Acc_GS,NN_Acc,NN_Acc_GS],\n",
    "                     'F1-Score':[DT_F1,DT_F1_GS,RF_F1,RF_F1_GS,LR_F1,LR_F1_GS,NN_F1,NN_F1_GS]}\n",
    "Tabla_resultados=pd.DataFrame(resultados)\n",
    "print(Tabla_resultados)\n"
   ]
  },
  {
   "cell_type": "markdown",
   "metadata": {},
   "source": [
    " <h1 id=\"Matrices de confusión\">Matrices de confusión</h1>\n",
    "<p>\n",
    "En esta sección se construyen matrices de confusión para evaluar la eficacia de cada algoritmo\n",
    "</p>"
   ]
  },
  {
   "cell_type": "code",
   "execution_count": null,
   "metadata": {},
   "outputs": [],
   "source": [
    "from sklearn.metrics import classification_report, confusion_matrix\n",
    "import matplotlib.pyplot as plt\n",
    "import itertools\n",
    "def plot_confusion_matrix(cm, classes,\n",
    "                          normalize=False,\n",
    "                          title='Matriz de confusión',\n",
    "                          cmap=plt.cm.Blues):\n",
    "    \"\"\"\n",
    "    Esta función muestra y dibuja la matriz de confusión.\n",
    "    La normalización se puede aplicar estableciendo el valor `normalize=True`.\n",
    "    \"\"\"\n",
    "    if normalize:\n",
    "        cm = cm.astype('float') / cm.sum(axis=1)[:, np.newaxis]\n",
    "        print(\"Matriz de confusión normalizada\")\n",
    "    else:\n",
    "        print('Matriz de confusión sin normalización')\n",
    "\n",
    "    #print(cm)\n",
    "\n",
    "    plt.imshow(cm, interpolation='nearest', cmap=cmap)\n",
    "    plt.title(title)\n",
    "    plt.colorbar()\n",
    "    tick_marks = np.arange(len(classes))\n",
    "    plt.xticks(tick_marks, classes, rotation=45)\n",
    "    plt.yticks(tick_marks, classes)\n",
    "\n",
    "    fmt = '.2f' if normalize else 'd'\n",
    "    thresh = cm.max() / 2.\n",
    "    for i, j in itertools.product(range(cm.shape[0]), range(cm.shape[1])):\n",
    "        plt.text(j, i, format(cm[i, j], fmt),\n",
    "                 horizontalalignment=\"center\",\n",
    "                 color=\"white\" if cm[i, j] > thresh else \"black\")\n",
    "\n",
    "    plt.tight_layout()\n",
    "    plt.ylabel('Etiqueta Real')\n",
    "    plt.xlabel('Etiqueta Predicha')\n"
   ]
  },
  {
   "cell_type": "markdown",
   "metadata": {},
   "source": [
    "Árbol de decisión"
   ]
  },
  {
   "cell_type": "code",
   "execution_count": null,
   "metadata": {},
   "outputs": [],
   "source": [
    "cnf_matrix = confusion_matrix(y_testset, yhat_1, labels=['A.P.S','DOMICILIO','HOSPITALIZAR','OTRO','OTRO ESTABLECIMIENTO'])\n",
    "np.set_printoptions(precision=2)\n",
    "plt.figure()\n",
    "plot_confusion_matrix(cnf_matrix, classes=['A.P.S','DOMICILIO','HOSPITALIZAR','OTRO','OTRO ESTABLECIMIENTO'],normalize= False,  title='Matriz de confusión árbol de decisión')"
   ]
  },
  {
   "cell_type": "markdown",
   "metadata": {},
   "source": [
    "Bosque de decisión"
   ]
  },
  {
   "cell_type": "code",
   "execution_count": null,
   "metadata": {},
   "outputs": [],
   "source": [
    "cnf_matrix = confusion_matrix(y_testset, yhat_2_GS_ST, labels=['A.P.S','DOMICILIO','HOSPITALIZAR','OTRO','OTRO ESTABLECIMIENTO'])\n",
    "np.set_printoptions(precision=2)\n",
    "plt.figure()\n",
    "plot_confusion_matrix(cnf_matrix, classes=['A.P.S','DOMICILIO','HOSPITALIZAR','OTRO','OTRO ESTABLECIMIENTO'],normalize= False,  title='Matriz de confusión bosque de decisión + ST')"
   ]
  },
  {
   "cell_type": "markdown",
   "metadata": {},
   "source": [
    "Regresión Logística"
   ]
  },
  {
   "cell_type": "code",
   "execution_count": null,
   "metadata": {},
   "outputs": [],
   "source": [
    "cnf_matrix = confusion_matrix(y_testset, yhat_3_GS_ST, labels=['A.P.S','DOMICILIO','HOSPITALIZAR','OTRO','OTRO ESTABLECIMIENTO'])\n",
    "np.set_printoptions(precision=2)\n",
    "plt.figure()\n",
    "plot_confusion_matrix(cnf_matrix, classes=['A.P.S','DOMICILIO','HOSPITALIZAR','OTRO','OTRO ESTABLECIMIENTO'],normalize= False,  title='Matriz de confusión regresión logística +ST')"
   ]
  },
  {
   "cell_type": "markdown",
   "metadata": {},
   "source": [
    "Red neuronal"
   ]
  },
  {
   "cell_type": "code",
   "execution_count": null,
   "metadata": {},
   "outputs": [],
   "source": [
    "cnf_matrix = confusion_matrix(y_testset, yhat_4_GS_ST, labels=['A.P.S','DOMICILIO','HOSPITALIZAR','OTRO','OTRO ESTABLECIMIENTO'])\n",
    "np.set_printoptions(precision=2)\n",
    "plt.figure()\n",
    "plot_confusion_matrix(cnf_matrix, classes=['A.P.S','DOMICILIO','HOSPITALIZAR','OTRO','OTRO ESTABLECIMIENTO'],normalize= False,  title='Matriz de confusión red neuronal +ST')"
   ]
  },
  {
   "cell_type": "markdown",
   "metadata": {},
   "source": [
    "Support Vector Machine"
   ]
  },
  {
   "cell_type": "code",
   "execution_count": null,
   "metadata": {},
   "outputs": [],
   "source": [
    "cnf_matrix = confusion_matrix(y_testset, yhat_5, labels=['A.P.S','DOMICILIO','HOSPITALIZAR','OTRO','OTRO ESTABLECIMIENTO'])\n",
    "np.set_printoptions(precision=2)\n",
    "plt.figure()\n",
    "plot_confusion_matrix(cnf_matrix, classes=['A.P.S','DOMICILIO','HOSPITALIZAR','OTRO','OTRO ESTABLECIMIENTO'],normalize= False,  title='Matriz de confusión SVM')"
   ]
  }
 ],
 "metadata": {
  "kernelspec": {
   "display_name": "Python 3 (ipykernel)",
   "language": "python",
   "name": "python3"
  },
  "language_info": {
   "codemirror_mode": {
    "name": "ipython",
    "version": 3
   },
   "file_extension": ".py",
   "mimetype": "text/x-python",
   "name": "python",
   "nbconvert_exporter": "python",
   "pygments_lexer": "ipython3",
   "version": "3.9.7"
  }
 },
 "nbformat": 4,
 "nbformat_minor": 4
}

{
 "cells": [
  {
   "cell_type": "markdown",
   "metadata": {},
   "source": [
    "<h1 align=center><font size = 5>Machine Learning models for aiding the decision-making process in emergency departments</font></h1>"
   ]
  },
  {
   "cell_type": "markdown",
   "metadata": {},
   "source": [
    "<h1>Limpieza de datos<h1>\n",
    "<h3>Descripción</h3>\n",
    "<p>\n",
    "En esta sección se lleva a cabo el tratamiento de datos para posteriormente hacer uso de ellos en el entrenamiento de algoritmos y en la predicción de variables. Parte con la lectura de datos y la observación de las variables que los describen: Despues de ello, algunas variables serán modificadas para adecuarlas a las necesidades de los algoritmos que se implementarán.\n",
    "</p>"
   ]
  },
  {
   "cell_type": "markdown",
   "metadata": {},
   "source": [
    "<h1 id=\"Descripción de datos\">Descripción de datos</h1>\n",
    "<p>\n",
    "Los datos utilizados fueros proporcionados por el Hospital San Juan de Dios, Curicó, Chile y corresponden a 130.021 registros de pacientes que asistieron a urgencias durante el periodo comprendido entre el 1 de enero de 2018 y agosto de 2019\n",
    "<ul>\n",
    "    <li>Datos: <a href=\"https://drive.google.com/open?id=1zlQ8G4i1nbmmL0HIxksbRMowWgTtPRsK\" target=\"_blank\">https://drive.google.com/open?id=1zlQ8G4i1nbmmL0HIxksbRMowWgTtPRsK</a></li>\n",
    "    <li>Tipo de datos: csv</li>\n",
    "</ul>\n",
    "<p>\n",
    "Las variables presentes en los datos se describen a continuación:\n",
    "<ul>    \n",
    "   <li><b>ID_PACIENTE</b>: corresponde a un valor único por registro</li>\n",
    "   <li><b>PAC_EDAD</b>: corresponde a la edad del paciente en enteros</li>\n",
    "   <li><b>COMUNA</b>: corresponde a la comuna de residencia del paciente</li>\n",
    "   <li><b>PREVISION</b>: corresponde a la prevision del paciente en string</li>\n",
    "   <li><b>MOTIVO_CONSULTA</b>: corresponde a la razón por la que el paciente acude al servicio de urgencias string</li>\n",
    "   <li><b>MEDIO</b>: corresponde al medio de llegada, mediante el que el paciente acude al servicio de urgencias</li>\n",
    "   <li><b>HORA_INSCRIPCION</b>: corresponde a la hora en la que el paciente fue registrado</li>\n",
    "   <li><b>SEXO</b>: corresponde al sexo del paciente</li>\n",
    "   <li><b>CAT</b>: corresponde a la categoría de gravedad asignada al paciente en el proceso de Triage</li>\n",
    "   <li><b>HORA_CAT</b>: corresponde a la hora de categorización del paciente</li>\n",
    "   <li><b>DESC_EVENTO</b>: corresponde a una descripción en texto libre del motivo de consulta</li>\n",
    "   <li><b>PRESION</b>: corresponde la presión sistólica y diastólica del paciente separadas por un \"/\"</li>\n",
    "   <li><b>ALERGIA</b>: Corresponde a una decripción, en texto libre, de la o las alergias que presenta el paciente, principalmente a medicamentos</li>\n",
    "   <li><b>SATO2</b>: Dato numérico que representa la saturometria del paciente (Nivel de oxigeno en la sangre)</li>\n",
    "   <li><b>TEMPERATURA</b>: corresponde a la temperatura corporal del paciente en el momento de la categorización</li>\n",
    "   <li><b>GLASGOW</b>: corresponde a al nivel registrado por el paciente en la escala Glasgow</li>\n",
    "   <li><b>DM</b>: corresponde si el paciente presenta o no Diabetes Mellitus</li>\n",
    "   <li><b>EVA</b>: corresponde si se aplica al paciente una evaluación de vias aéreas</li>\n",
    "   <li><b>HGT</b>: corresponde a la medida de azucar en la sangre del paciente</li>\n",
    "   <li><b>LCFA</b>: corresponde a la medida de azucar en la sangre del paciente</li>\n",
    "   <li><b>FR</b>: corresponde a la medida de azucar en la sangre del paciente</li>\n",
    "   <li><b>HTA</b>: corresponde a la medida de azucar en la sangre del paciente</li>\n",
    "   <li><b>HORA_ATENCION</b>: corresponde a la hora en la que el paciente recibió atención médca</li>\n",
    "   <li><b>DIAGNOSTICO_PRINCIPAL</b>: corresponde a la medida de azucar en la sangre del paciente</li>\n",
    "   <li><b>URG_TRA_GLOSA</b>: corresponde a la descripción, en texto libre, del tratamiento indicado al paciente por el médico tratante</li>\n",
    "   <li><b>URD_IND_GLOSA</b>: corresponde a la descripción, en texto libre, de indicaciones al paciente por el médico \n",
    "   <li><b>DESTINO</b>: Corresponde al destino del paciente, sea hospitalización, alta o derivación a otro establecimiento de salud de mayor o menor complejidad</li>\n",
    "   <li><b>HOTA_TERMINO_ATENCION</b>: hora en la que el paciente es liberado de la supervisión del médico tratante, sea por que es dado de alta o por que es derivado a otra unidad de atención, como pabellón quirúrgico o sala de hospitalización</li>\n",
    "   <li><b>VIOLENCIA</b>: INdica si el paciente que consulta fué victima de violencia de género</li>\n",
    "   <li><b>HORA_OBS</b>:Corresponde ala horaen que el paciente es ingresado a observación</li>\n",
    "   \n",
    "      \n",
    "</ul>\n",
    "</p>"
   ]
  },
  {
   "cell_type": "markdown",
   "metadata": {},
   "source": [
    "Lectura de datos"
   ]
  },
  {
   "cell_type": "code",
   "execution_count": null,
   "metadata": {},
   "outputs": [],
   "source": [
    "import pandas as pd\n",
    "#archivo = 'Desktop/Tesis/Tesis/Scripts Tesis/Datos2018_Urgencia.csv' #Copie acá la dirección en la que descargó el archivo\n",
    "archivo=\"BBDD_HC.csv\"\n",
    "df_cat = pd.read_csv(archivo,encoding='latin-1',sep=\",\")"
   ]
  },
  {
   "cell_type": "markdown",
   "metadata": {},
   "source": [
    "Considerando que no todos los datos son necesarios para las predicciones requeridas, se hará un subgrupo con las variables relacionadas con la categorización de pacientes, que es la primera variable respuesta a predecir."
   ]
  },
  {
   "cell_type": "code",
   "execution_count": null,
   "metadata": {},
   "outputs": [],
   "source": [
    "df_cat = df_urg[['ID_PACIENTE_caller','PAC_EDAD','SEXO','PRESION','HORA_INSCRIPCION' ,'MOTIVO_CONSULTA', 'MEDIO','CAT','SATO2', 'TEMPERATURA',\n",
    "        'HGT','DESTINO','DIAS_HOSP']]\n"
   ]
  },
  {
   "cell_type": "markdown",
   "metadata": {},
   "source": [
    "Haciendo uso de la base de datos representada por el subgrupo df_cat, identificaremos cuantos datos perdidos hay por columna"
   ]
  },
  {
   "cell_type": "code",
   "execution_count": null,
   "metadata": {},
   "outputs": [],
   "source": [
    "missing_data = df_cat.isnull()\n",
    "\n",
    "    \n",
    "for column in missing_data.columns.values.tolist():\n",
    "    print(column)\n",
    "    print (missing_data[column].value_counts())\n",
    "    print(\"\") "
   ]
  },
  {
   "cell_type": "code",
   "execution_count": null,
   "metadata": {},
   "outputs": [],
   "source": [
    "import numpy as np\n",
    "df_cat['DIAS_HOSP'].fillna(0,inplace=True)\n",
    "df_cat['DIAS_HOSP']=pd.to_numeric(df_cat['DIAS_HOSP'], downcast='integer')"
   ]
  },
  {
   "cell_type": "markdown",
   "metadata": {},
   "source": [
    " <h1 id=\"Observación y análisis de datos\">Observación de datos</h1>\n",
    "<p>\n",
    "Antes de aplicar correcciones y/o transforomaciones a los datos observaremos su comportamiento, para ello se utilizarán paquetes que se importan a continuación\n",
    "</p>"
   ]
  },
  {
   "cell_type": "code",
   "execution_count": null,
   "metadata": {},
   "outputs": [],
   "source": [
    "import matplotlib as plt\n",
    "%matplotlib inline"
   ]
  },
  {
   "cell_type": "code",
   "execution_count": null,
   "metadata": {},
   "outputs": [],
   "source": [
    "# Observar datos PAC_EDAD\n",
    "df_cat['PAC_EDAD'].describe()\n",
    "plt.pyplot.hist(df_cat['PAC_EDAD'])\n",
    "plt.pyplot.xlabel(\"Edad\")\n",
    "plt.pyplot.ylabel(\"Frecuencias\")\n",
    "plt.pyplot.title(\"Edad de pacientes\")"
   ]
  },
  {
   "cell_type": "markdown",
   "metadata": {},
   "source": [
    "Se puede observar que gran parte de los pacientes consultantes son jóvenes, es relevante mencionar que algunos de ellos, los pacientes del tipo pedíatrico (hasta 15 años) no forman parte del problema que motiva este estudio, no obstante no se restarán de la experimentación, por el aporte de información que proporcionan."
   ]
  },
  {
   "cell_type": "code",
   "execution_count": null,
   "metadata": {},
   "outputs": [],
   "source": [
    "#Observar datos COMUNA\n",
    "df_cat['COMUNA'].value_counts()\n",
    "cont_comuna = df_cat['COMUNA'].value_counts().to_frame()\n",
    "cont_comuna .rename(columns={\"Comuna\":\"Conteo\"}, inplace=True)\n",
    "cont_comuna .index_name=\"Comuna\"\n",
    "cont_comuna"
   ]
  },
  {
   "cell_type": "code",
   "execution_count": null,
   "metadata": {},
   "outputs": [],
   "source": [
    "#Observar datos DESTINO\n",
    "df_cat['DESTINO'].value_counts()\n",
    "cont_destino = df_cat['DESTINO'].value_counts().to_frame()\n",
    "cont_destino .rename(columns={\"Destino\":\"Conteo\"}, inplace=True)\n",
    "cont_destino .index_name=\"Destino\"\n",
    "cont_destino"
   ]
  },
  {
   "cell_type": "markdown",
   "metadata": {},
   "source": [
    "Como era de esperarse, un gran porcentaje de los pacientes porvienen de la comuna en la que se ubica el hospital y comunas cercanas."
   ]
  },
  {
   "cell_type": "code",
   "execution_count": null,
   "metadata": {},
   "outputs": [],
   "source": [
    "#Observar datos PREVISION\n",
    "df_cat['PREVISION'].value_counts()\n",
    "cont_prevision = df_cat['PREVISION'].value_counts().to_frame()\n",
    "cont_prevision .rename(columns={\"Previsión\":\"Conteo\"}, inplace=True)\n",
    "cont_prevision .index_name=\"Previsión\"\n",
    "cont_prevision"
   ]
  },
  {
   "cell_type": "code",
   "execution_count": null,
   "metadata": {},
   "outputs": [],
   "source": [
    "#Observar datos MOTIVO_CONSULTA\n",
    "cont_motivo_consulta = df_cat['MOTIVO_CONSULTA'].value_counts().to_frame()\n",
    "cont_motivo_consulta .rename(columns={\"Motivo de consulta\":\"Conteo\"}, inplace=True)\n",
    "cont_motivo_consulta.index_name=\"Motivo de consulta\"\n",
    "cont_motivo_consulta"
   ]
  },
  {
   "cell_type": "code",
   "execution_count": null,
   "metadata": {},
   "outputs": [],
   "source": [
    "#Observar datos MEDIO\n",
    "cont_medio_llegada = df_cat['MEDIO'].value_counts().to_frame()\n",
    "cont_medio_llegada .rename(columns={\"Medio llegada\":\"Conteo\"}, inplace=True)\n",
    "cont_medio_llegada .index_name=\"Medio llegada\"\n",
    "cont_medio_llegada"
   ]
  },
  {
   "cell_type": "code",
   "execution_count": null,
   "metadata": {},
   "outputs": [],
   "source": [
    "#Observar datos SEXO\n",
    "cont_sexo = df_cat['SEXO'].value_counts().to_frame()\n",
    "cont_sexo .rename(columns={\"Sexo\":\"Conteo\"}, inplace=True)\n",
    "cont_sexo.index_name=\"Sexo\"\n",
    "cont_sexo"
   ]
  },
  {
   "cell_type": "code",
   "execution_count": null,
   "metadata": {},
   "outputs": [],
   "source": [
    "#Observar datos DESC_EVENTO\n",
    "cont_desc_evento = df_cat['DESC_EVENTO'].value_counts().to_frame()\n",
    "cont_desc_evento.rename(columns={\"Descripción de consulta\":\"Conteo\"}, inplace=True)\n",
    "cont_desc_evento.index_name=\"Descripción del evento\"\n",
    "cont_desc_evento"
   ]
  },
  {
   "cell_type": "code",
   "execution_count": null,
   "metadata": {},
   "outputs": [],
   "source": [
    "#Observar SATO2\n",
    "df_cat['SATO2'].describe()\n",
    "plt.pyplot.hist(df_cat['SATO2'])\n",
    "plt.pyplot.xlabel(\"Saturación\")\n",
    "plt.pyplot.ylabel(\"Frecuencias\")\n",
    "plt.pyplot.title(\"Saturación de pacientes\")\n",
    "df_cat['SATO2'].describe()"
   ]
  },
  {
   "cell_type": "code",
   "execution_count": null,
   "metadata": {},
   "outputs": [],
   "source": [
    "#Observar TEMPERATURA\n",
    "df_cat['TEMPERATURA'].describe()\n",
    "plt.pyplot.hist(df_cat['TEMPERATURA'])\n",
    "plt.pyplot.xlabel(\"TEMPERATURA\")\n",
    "plt.pyplot.ylabel(\"TEMPERATURA\")\n",
    "plt.pyplot.title(\"Temperatura de pacientes\")"
   ]
  },
  {
   "cell_type": "code",
   "execution_count": null,
   "metadata": {},
   "outputs": [],
   "source": [
    "#Observar GLASGOW\n",
    "df_cat['GLASGOW'].describe()\n",
    "plt.pyplot.hist(df_cat['GLASGOW'])\n",
    "plt.pyplot.xlabel(\"GLASGOW\")\n",
    "plt.pyplot.ylabel(\"GLASGOW\")\n",
    "plt.pyplot.title(\"Glasgow pacientes\")\n"
   ]
  },
  {
   "cell_type": "code",
   "execution_count": null,
   "metadata": {},
   "outputs": [],
   "source": [
    "cont_glasgow = df_cat['GLASGOW'].value_counts().to_frame()\n",
    "cont_glasgow .rename(columns={\"Glasgow\":\"Conteo\"}, inplace=True)\n",
    "cont_glasgow.index_name=\"Glasgow\"\n",
    "cont_glasgow"
   ]
  },
  {
   "cell_type": "code",
   "execution_count": null,
   "metadata": {},
   "outputs": [],
   "source": [
    "#Observar DM\n",
    "df_cat['DM'].describe()\n",
    "cont_DM = df_cat['DM'].value_counts().to_frame()\n",
    "cont_DM .rename(columns={\"Dm\":\"Conteo\"}, inplace=True)\n",
    "cont_DM.index_name=\"Dm\"\n",
    "cont_DM"
   ]
  },
  {
   "cell_type": "code",
   "execution_count": null,
   "metadata": {},
   "outputs": [],
   "source": [
    "#Observar EVA\n",
    "df_cat['EVA'].describe()\n",
    "cont_EVA = df_cat['EVA'].value_counts().to_frame()\n",
    "cont_EVA .rename(columns={\"EVA\":\"Conteo\"}, inplace=True)\n",
    "cont_EVA .index_name=\"EVA\"\n",
    "cont_EVA"
   ]
  },
  {
   "cell_type": "code",
   "execution_count": null,
   "metadata": {},
   "outputs": [],
   "source": [
    "#Observar HGT\n",
    "df_cat['HGT'].describe()\n",
    "plt.pyplot.hist(df_cat['HGT'])\n",
    "plt.pyplot.xlabel('HGT')\n",
    "plt.pyplot.ylabel('HGT')\n",
    "plt.pyplot.title(\"HGT de pacientes\")\n"
   ]
  },
  {
   "cell_type": "code",
   "execution_count": null,
   "metadata": {},
   "outputs": [],
   "source": [
    "#Observar FR\n",
    "\n",
    "plt.pyplot.hist(df_cat['FR'])\n",
    "plt.pyplot.xlabel('FR')\n",
    "plt.pyplot.ylabel('FR')\n",
    "plt.pyplot.title(\"FR de pacientes\")\n",
    "df_cat['FR'].describe()"
   ]
  },
  {
   "cell_type": "code",
   "execution_count": null,
   "metadata": {},
   "outputs": [],
   "source": [
    "#Observar HTA\n",
    "df_cat['HTA'].describe()\n",
    "cont_HTA = df_cat['HTA'].value_counts().to_frame()\n",
    "cont_HTA.rename(columns={\"HTA\":\"Conteo\"}, inplace=True)\n",
    "cont_HTA.index_name=\"HTA\"\n",
    "cont_HTA"
   ]
  },
  {
   "cell_type": "code",
   "execution_count": null,
   "metadata": {},
   "outputs": [],
   "source": [
    "#Observar CAT\n",
    "df_cat['CAT'].describe()\n",
    "cont_CAT = df_cat['CAT'].value_counts().to_frame()\n",
    "cont_CAT.rename(columns={\"CAT\":\"Conteo\"}, inplace=True)\n",
    "cont_CAT.index_name=\"CAT\"\n",
    "cont_CAT"
   ]
  },
  {
   "cell_type": "code",
   "execution_count": null,
   "metadata": {},
   "outputs": [],
   "source": [
    "import numpy as np\n",
    "import matplotlib.pyplot as plt \n",
    "datos=[df_cat['CAT']==\"C1\"]\n",
    "\n",
    "plt.boxplot(datos)\n",
    "plt.title(\"Boxplot of categorical variables\")\n",
    "plt.show()"
   ]
  },
  {
   "cell_type": "markdown",
   "metadata": {},
   "source": [
    "<h1 id=\"Corrección de datos\">Corrección de datos</h1>\n",
    "<p>\n",
    "Algunas de las variables de datos presentandatos escritos de forma incorrecta o en formatos en los que no es posible observarlos ni mucho menos analizarlos. Es por ello que se aplicarán ciertas correcciones a tales variables con el fin de disponibilizarlas para futuros análisis.\n",
    "<p>"
   ]
  },
  {
   "cell_type": "code",
   "execution_count": null,
   "metadata": {},
   "outputs": [],
   "source": [
    "from datetime import datetime, date, time, timedelta"
   ]
  },
  {
   "cell_type": "code",
   "execution_count": null,
   "metadata": {},
   "outputs": [],
   "source": [
    "#Corrección de datos HORA_INSCRIPCION\n",
    "df_cat['HORA_INSCRIPCION']=pd.to_datetime(df_cat['HORA_INSCRIPCION'], format= '%d-%m-%Y %H:%M')\n",
    "df_cat['HORA_CAT']=pd.to_datetime(df_cat['HORA_CAT'], format= '%d-%m-%Y %H:%M')\n",
    "df_cat['TIEMPO_ESPERA_CAT'] = (df_cat['HORA_CAT']-df_cat['HORA_INSCRIPCION']).dt.seconds//60\n",
    "df_cat['HORA_INSC'] =df_cat['HORA_INSCRIPCION'].dt.hour\n",
    "df_cat['MIN_INSC'] =df_cat['HORA_INSCRIPCION'].dt.minute\n",
    "df_cat.drop(columns =[\"HORA_INSCRIPCION\"], inplace = True)\n",
    "df_cat.drop(columns =[\"HORA_CAT\"], inplace = True)"
   ]
  },
  {
   "cell_type": "code",
   "execution_count": null,
   "metadata": {},
   "outputs": [],
   "source": [
    "import numpy as np"
   ]
  },
  {
   "cell_type": "code",
   "execution_count": null,
   "metadata": {},
   "outputs": [],
   "source": [
    "#Corrección de datos de presión\n",
    "#Reemplazando valores \"/\" por valores vacíos\n",
    "df_cat['PRESION'].replace('/',np.nan)\n",
    "\n",
    "#Separando las presiones en valores independientes\n",
    "presiones_separadas =  df_cat[\"PRESION\"].str.split(\"/\", n=1, expand=True)\n",
    "presiones_separadas.rename(columns={\"PRESION_SIST\":\"PRESION_DIAST\"}, inplace=True)\n",
    "df_cat['PRESION_SIST']=presiones_separadas[0]\n",
    "df_cat['PRESION_DIAST']=presiones_separadas[1]\n",
    "\n",
    "df_cat['PRESION_SIST']=pd.to_numeric(df_cat['PRESION_SIST'],errors='coerce')\n",
    "df_cat['PRESION_DIAST']=pd.to_numeric(df_cat['PRESION_DIAST'],errors='coerce')\n",
    "\n",
    "df_cat.drop(columns =[\"PRESION\"], inplace = True)"
   ]
  },
  {
   "cell_type": "code",
   "execution_count": null,
   "metadata": {},
   "outputs": [],
   "source": [
    "df_cat.head(5)"
   ]
  },
  {
   "cell_type": "code",
   "execution_count": null,
   "metadata": {},
   "outputs": [],
   "source": [
    "#Transformar SEXO en numérico\n",
    "dummy_sexo = pd.get_dummies(df_cat[\"SEXO\"])\n",
    "df_cat[\"SEXO_M\"]=pd.to_numeric(dummy_sexo[\"MASCULINO\"],errors='coerce')\n",
    "df_cat[\"SEXO_F\"]=pd.to_numeric(dummy_sexo[\"FEMENINO\"],errors='coerce')\n",
    "df_cat.drop(columns =[\"SEXO\"], inplace = True)"
   ]
  },
  {
   "cell_type": "code",
   "execution_count": null,
   "metadata": {},
   "outputs": [],
   "source": [
    "#Transformar MOTIVO_CONSULTA en numérico\n",
    "dummy_MC = pd.get_dummies(df_cat[\"MOTIVO_CONSULTA\"], prefix=\"MOTIVO\")\n",
    "#dummy_MC = pd.to_numeric(dummy_MC,errors='coerce')\n",
    "df_cat = pd.concat([df_cat,dummy_MC], axis = 1)\n",
    "df_cat.drop(columns =[\"MOTIVO_CONSULTA\"], inplace = True)"
   ]
  },
  {
   "cell_type": "code",
   "execution_count": null,
   "metadata": {},
   "outputs": [],
   "source": [
    "#Transformar MEDIO en numérico\n",
    "dummy_MD = pd.get_dummies(df_cat[\"MEDIO\"], prefix=\"MEDIO\")\n",
    "#dummy_MD = pd.to_numeric(dummy_MD,errors='coerce')\n",
    "df_cat = pd.concat([df_cat,dummy_MD], axis = 1)\n",
    "df_cat.drop(columns =[\"MEDIO\"], inplace = True)"
   ]
  },
  {
   "cell_type": "code",
   "execution_count": null,
   "metadata": {},
   "outputs": [],
   "source": [
    "#Transformar DM en numérico\n",
    "dummy_DM = pd.get_dummies(df_cat[\"DM\"], prefix=\"DM\")\n",
    "#df_cat[\"DM_N\"]=pd.to_numeric(dummy_DM[\"N\"],errors='coerce')\n",
    "#df_cat[\"DM_S\"]=pd.to_numeric(dummy_DM[\"S\"],errors='coerce')\n",
    "#df_cat[\"DM_D\"]=pd.to_numeric(dummy_DM[\"D\"],errors='coerce')\n",
    "df_cat = pd.concat([df_cat,dummy_DM], axis = 1)\n",
    "df_cat.drop(columns =[\"DM\"], inplace = True)"
   ]
  },
  {
   "cell_type": "code",
   "execution_count": null,
   "metadata": {},
   "outputs": [],
   "source": [
    "#Transformar LCFA en numérico\n",
    "dummy_LCFA = pd.get_dummies(df_cat[\"LCFA\"], prefix=\"LCFA\")\n",
    "#df_cat[\"LCFA_N\"]=pd.to_numeric(dummy_LCFA[\"N\"],errors='coerce')\n",
    "#df_cat[\"LCFA_S\"]=pd.to_numeric(dummy_LCFA[\"S\"],errors='coerce')\n",
    "#df_cat[\"LCFA_D\"]=pd.to_numeric(dummy_LCFA[\"D\"],errors='coerce')\n",
    "df_cat = pd.concat([df_cat,dummy_LCFA], axis = 1)\n",
    "df_cat.drop(columns =[\"LCFA\"], inplace = True)"
   ]
  },
  {
   "cell_type": "code",
   "execution_count": null,
   "metadata": {},
   "outputs": [],
   "source": [
    "#Transformar HTA en numérico\n",
    "dummy_HTA  = pd.get_dummies(df_cat[\"HTA\"], prefix=\"HTA\")\n",
    "#df_cat[\"HTA_N\"]=pd.to_numeric(dummy_HTA [\"N\"],errors='coerce')\n",
    "#df_cat[\"HTA_S\"]=pd.to_numeric(dummy_HTA [\"S\"],errors='coerce')\n",
    "#df_cat[\"HTA_D\"]=pd.to_numeric(dummy_HTA [\"D\"],errors='coerce')\n",
    "df_cat = pd.concat([df_cat,dummy_LCFA], axis = 1)\n",
    "df_cat.drop(columns =[\"HTA\"], inplace = True)"
   ]
  },
  {
   "cell_type": "code",
   "execution_count": null,
   "metadata": {},
   "outputs": [],
   "source": [
    "#Transformar DESTINO en numérico\n",
    "dummy_DESTINO  = pd.get_dummies(df_cat[\"DESTINO\"], prefix=\"DESTINO\")\n",
    "df_cat = pd.concat([df_cat,dummy_DESTINO ], axis = 1)\n",
    "df_cat.drop(columns =[\"DESTINO\"], inplace = True)"
   ]
  },
  {
   "cell_type": "code",
   "execution_count": null,
   "metadata": {},
   "outputs": [],
   "source": [
    "#Transformar CAT en numérico\n",
    "dummy_CAT  = pd.get_dummies(df_cat[\"CAT\"], prefix=\"CAT\")\n",
    "df_cat = pd.concat([df_cat,dummy_CAT ], axis = 1)\n",
    "df_cat.drop(columns =[\"CAT\"], inplace = True)"
   ]
  },
  {
   "cell_type": "code",
   "execution_count": null,
   "metadata": {},
   "outputs": [],
   "source": [
    "#Transformar previsión en numérico\n",
    "dummy_DIAGNOSTICO_PRINCIPAL = pd.get_dummies(df_cat[\"DIAGNOSTICO_PRINCIPAL\"], prefix=\"DIAG\")\n",
    "df_cat = pd.concat([df_cat,dummy_DIAGNOSTICO_PRINCIPAL ], axis = 1)\n",
    "df_cat.drop(columns =[\"DIAGNOSTICO_PRINCIPAL\"], inplace = True)"
   ]
  },
  {
   "cell_type": "markdown",
   "metadata": {},
   "source": [
    "<h1 id=\"Eliminación de variables\">Eliminación de variables</h1>\n",
    "<p>\n",
    "Algunas de las variables que presenta la base de datos, poseen muchos registros incompletos por lo que intentar imputarlos resulta una tarea compleja y tal vez innecesaria, es por ello que se decide por eliminar algunas variables.\n",
    "<p>"
   ]
  },
  {
   "cell_type": "code",
   "execution_count": null,
   "metadata": {},
   "outputs": [],
   "source": [
    "#Quitando DESC_EVENTO\n",
    "df_cat.drop(columns =[\"DESC_EVENTO\"], inplace = True)"
   ]
  },
  {
   "cell_type": "code",
   "execution_count": null,
   "metadata": {},
   "outputs": [],
   "source": [
    "#Quitando LCFA\n",
    "df_cat.drop(columns =[\"LCFA\"], inplace = True)"
   ]
  },
  {
   "cell_type": "code",
   "execution_count": null,
   "metadata": {},
   "outputs": [],
   "source": [
    "#Quitando HTA\n",
    "df_cat.drop(columns =[\"HTA\"], inplace = True)"
   ]
  },
  {
   "cell_type": "code",
   "execution_count": null,
   "metadata": {},
   "outputs": [],
   "source": [
    "#Quitando HGT\n",
    "df_cat.drop(columns =[\"HGT\"], inplace = True)"
   ]
  },
  {
   "cell_type": "code",
   "execution_count": null,
   "metadata": {},
   "outputs": [],
   "source": [
    "#Quitando SATO2\n",
    "df_cat.drop(columns =[\"SATO2\"], inplace = True)"
   ]
  },
  {
   "cell_type": "code",
   "execution_count": null,
   "metadata": {},
   "outputs": [],
   "source": [
    "#Quitando TEMPERATURA\n",
    "df_cat.drop(columns =[\"TEMPERATURA\"], inplace = True)"
   ]
  },
  {
   "cell_type": "code",
   "execution_count": null,
   "metadata": {},
   "outputs": [],
   "source": [
    "#Quitando GLASGOW\n",
    "df_cat.drop(columns =[\"GLASGOW\"], inplace = True)"
   ]
  },
  {
   "cell_type": "code",
   "execution_count": null,
   "metadata": {},
   "outputs": [],
   "source": [
    "#Quitando EVA\n",
    "df_cat.drop(columns =[\"EVA\"], inplace = True)"
   ]
  },
  {
   "cell_type": "code",
   "execution_count": null,
   "metadata": {},
   "outputs": [],
   "source": [
    "#Quitando FR\n",
    "df_cat.drop(columns =[\"FR\"], inplace = True)"
   ]
  },
  {
   "cell_type": "code",
   "execution_count": null,
   "metadata": {},
   "outputs": [],
   "source": [
    "#Quitando PRESION_SIST\n",
    "df_cat.drop(columns =[\"PRESION_SIST\"], inplace = True)"
   ]
  },
  {
   "cell_type": "code",
   "execution_count": null,
   "metadata": {},
   "outputs": [],
   "source": [
    "#Quitando PRESION_DIAST\n",
    "df_cat.drop(columns =[\"PRESION_DIAST\"], inplace = True)"
   ]
  },
  {
   "cell_type": "code",
   "execution_count": null,
   "metadata": {},
   "outputs": [],
   "source": [
    "#Quitando DM\n",
    "df_cat.drop(columns =[\"DM\"], inplace = True)"
   ]
  },
  {
   "cell_type": "code",
   "execution_count": null,
   "metadata": {},
   "outputs": [],
   "source": [
    "#Quitando ALERGIA\n",
    "df_cat.drop(columns =[\"CAT\"], inplace = True)"
   ]
  },
  {
   "cell_type": "markdown",
   "metadata": {},
   "source": [
    "<h1 id=\"Limpieza de valores faltantes\">Limpieza de valores faltantes</h1>\n",
    "<p>\n",
    "Luego de corregir ciervas variables, es necesario eliminar los datos faltantes en las variables que decidirémos mantener en la base de datos de estudio\n",
    "<p>"
   ]
  },
  {
   "cell_type": "code",
   "execution_count": null,
   "metadata": {},
   "outputs": [],
   "source": [
    "# Limpiando de faltantes las columnas\n",
    "df_cat.dropna(subset=[\"TEMPERATURA\"], axis=0, inplace = True)"
   ]
  },
  {
   "cell_type": "code",
   "execution_count": null,
   "metadata": {},
   "outputs": [],
   "source": [
    "df_cat.dropna(subset=[\"SATO2\"], axis=0, inplace = True)"
   ]
  },
  {
   "cell_type": "code",
   "execution_count": null,
   "metadata": {},
   "outputs": [],
   "source": [
    "df_cat.dropna(subset=[\"FR\"], axis=0, inplace = True)"
   ]
  },
  {
   "cell_type": "code",
   "execution_count": null,
   "metadata": {},
   "outputs": [],
   "source": [
    "df_cat.dropna(subset=[\"HGT\"], axis=0, inplace = True)"
   ]
  },
  {
   "cell_type": "code",
   "execution_count": null,
   "metadata": {},
   "outputs": [],
   "source": [
    "df_cat.dropna(subset=[\"PRESION_SIST\"], axis=0, inplace = True)"
   ]
  },
  {
   "cell_type": "code",
   "execution_count": null,
   "metadata": {},
   "outputs": [],
   "source": [
    "df_cat.dropna(subset=[\"PRESION_DIAST\"], axis=0, inplace = True)"
   ]
  },
  {
   "cell_type": "code",
   "execution_count": null,
   "metadata": {},
   "outputs": [],
   "source": [
    "df_cat.dropna(subset=[\"GLASGOW\"], axis=0, inplace = True)"
   ]
  },
  {
   "cell_type": "code",
   "execution_count": null,
   "metadata": {},
   "outputs": [],
   "source": [
    "df_cat.dropna(subset=[\"EVA\"], axis=0, inplace = True)"
   ]
  },
  {
   "cell_type": "code",
   "execution_count": null,
   "metadata": {},
   "outputs": [],
   "source": [
    "df_cat.dropna(subset=[\"DESC_EVENTO\"], axis=0, inplace = True)"
   ]
  },
  {
   "cell_type": "code",
   "execution_count": null,
   "metadata": {},
   "outputs": [],
   "source": [
    "df_cat.dropna(subset=[\"DIAS_HOSP\"], axis=0, inplace = True)"
   ]
  },
  {
   "cell_type": "markdown",
   "metadata": {},
   "source": [
    "<h1 id=\"Guardado de la base de datos corregida\">Guardado de la base de datos corregida</h1>\n",
    "<p>\n",
    "Se guarda la base de datos tratada para utilizarla posteriormente\n",
    "<p>"
   ]
  },
  {
   "cell_type": "code",
   "execution_count": null,
   "metadata": {},
   "outputs": [],
   "source": [
    "df_cat.shape"
   ]
  },
  {
   "cell_type": "code",
   "execution_count": null,
   "metadata": {},
   "outputs": [],
   "source": [
    "#df_cat.to_csv('df_cat_numeros.csv')"
   ]
  },
  {
   "cell_type": "code",
   "execution_count": null,
   "metadata": {},
   "outputs": [],
   "source": [
    "df_cat.to_csv('df_ final.csv')"
   ]
  },
  {
   "cell_type": "markdown",
   "metadata": {},
   "source": [
    "<h1 id=\"Transformación de texto a vectores\">Transformación de texto a vectores</h1>\n",
    "<p>\n",
    "Con el fin de no eliminar los registros de texto y hacer uso de ellos, se transformarán a una representación vectorial basada en ell uso de un modelo entrenado con palabras en español.\n",
    "<p>"
   ]
  },
  {
   "cell_type": "code",
   "execution_count": null,
   "metadata": {},
   "outputs": [],
   "source": [
    "import pandas as pd\n",
    "import numpy as np\n",
    "#archivo = 'Desktop/Tesis/Tesis/Scripts Tesis/Datos2018_Urgencia.csv' #Copie acá la dirección en la que descargó el archivo\n",
    "archivo=\"df_ final.csv\"\n",
    "df_cat = pd.read_csv(archivo,encoding='latin-1',sep=\",\")"
   ]
  },
  {
   "cell_type": "code",
   "execution_count": null,
   "metadata": {},
   "outputs": [],
   "source": [
    "df_cat=df_cat.loc[:, ~df_cat.columns.str.contains('^Unnamed')]"
   ]
  },
  {
   "cell_type": "code",
   "execution_count": null,
   "metadata": {},
   "outputs": [],
   "source": [
    "df_cat.head(5)"
   ]
  },
  {
   "cell_type": "code",
   "execution_count": null,
   "metadata": {},
   "outputs": [],
   "source": [
    "df_cat.shape"
   ]
  },
  {
   "cell_type": "code",
   "execution_count": null,
   "metadata": {},
   "outputs": [],
   "source": [
    "# opción 2: cargar una cantidad fija de vectores (más rápido dependiendo de la cantidad cargada)\n",
    "from gensim.models.keyedvectors import KeyedVectors\n",
    "wordvectors_file_vec = 'cwlce.vec'\n",
    "cantidad = 100000\n",
    "wordvectors = KeyedVectors.load_word2vec_format(wordvectors_file_vec, limit=cantidad)"
   ]
  },
  {
   "cell_type": "code",
   "execution_count": null,
   "metadata": {},
   "outputs": [],
   "source": [
    "import nltk\n",
    "nltk.download('stopwords')\n",
    "#from nltk.corpus import stopwords"
   ]
  },
  {
   "cell_type": "code",
   "execution_count": null,
   "metadata": {},
   "outputs": [],
   "source": [
    "for i in range(300):df_cat['Desc_'+str(i)]=0"
   ]
  },
  {
   "cell_type": "code",
   "execution_count": null,
   "metadata": {},
   "outputs": [],
   "source": [
    "from time import time"
   ]
  },
  {
   "cell_type": "code",
   "execution_count": null,
   "metadata": {},
   "outputs": [],
   "source": [
    "#Generación de vectores\n",
    "Tiempo_inicio=time()\n",
    "contador=0\n",
    "vector1=[]\n",
    "vector2=[]\n",
    "#df_cat.shape[0]\n",
    "for k in range(10000,11000):\n",
    "    sentence = []\n",
    "    try:\n",
    "        text = df_cat['DESC_EVENTO'].iloc[k]\n",
    "        text = text.replace('.', ' ').replace(',',' ')\n",
    "        text = text.split(' ')\n",
    "        #print(text)\n",
    "        for j in range(0,300):\n",
    "\n",
    "            for i in range(0,len(text)):\n",
    "                \n",
    "                #if not i in stopwords:\n",
    "                    try:\n",
    "                        vector = wordvectors.get_vector(text[i].lower())\n",
    "                        sentence.append(vector)\n",
    "                        vector1.append(sentence[i][j])\n",
    "                        vector2.append(np.mean(vector1))\n",
    "                        vector1=[]\n",
    "                    except:\n",
    "                        print(\"word out vocabulary\")\n",
    "            df_cat.iloc[k,j+3]=vector2[0]\n",
    "            vector2=[]\n",
    "            \n",
    "            \n",
    "                \n",
    "    except: \n",
    "            print(\"There is not a sentence\")\n",
    "    \n",
    "Tiempo_fin=time()\n",
    "Tiempo_ejecucion=((Tiempo_fin-Tiempo_inicio)/60) #Tiempo de ejecución en minutos\n",
    "print(Tiempo_ejecucion,\"segundos\")        "
   ]
  },
  {
   "cell_type": "code",
   "execution_count": null,
   "metadata": {},
   "outputs": [],
   "source": [
    "df_cat.iloc[9989,200]\n",
    "#df_cat.shape"
   ]
  }
 ],
 "metadata": {
  "kernelspec": {
   "display_name": "Python 3 (ipykernel)",
   "language": "python",
   "name": "python3"
  },
  "language_info": {
   "codemirror_mode": {
    "name": "ipython",
    "version": 3
   },
   "file_extension": ".py",
   "mimetype": "text/x-python",
   "name": "python",
   "nbconvert_exporter": "python",
   "pygments_lexer": "ipython3",
   "version": "3.9.7"
  }
 },
 "nbformat": 4,
 "nbformat_minor": 4
}

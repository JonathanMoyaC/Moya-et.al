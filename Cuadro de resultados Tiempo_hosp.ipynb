{
 "cells": [
  {
   "cell_type": "markdown",
   "metadata": {},
   "source": [
    "<h1 align=center><font size = 5>Machine Learning models for aiding the decision-making process in emergency departments</font></h1>"
   ]
  },
  {
   "cell_type": "markdown",
   "metadata": {},
   "source": [
    "<h1>Tabla comparativa de algoritmos<h1>\n",
    "<h3>Descripción</h3>\n",
    "<p>\n",
    "En este script se desarrollará una serie de predicciones basadas en datos del hospital San Juan de Dios Curicó, correspondientes al año 2018 representados por registros de urgencias. El objetivo es predecir, mediante un conjunto de algoritmos, la necesidad de hospitalización de un paciente de urgencias,tomando como input, datos proporcionados por el paciente en la etapa de registro, sus signos vitales registrados en la etapa de triage y el diagnóstico ofrecido por el médico tratante.\n",
    "Se correrán algoritmos de prodicción tales como árboles y bosques de desición, regresión logística, support vector machines y redes neuronales. Para finalmente evaluar el rendimiento de cada algoritmo en términos de la predicción, mediante indicadores tales como Acuraccy, F1-Score\n",
    "</p>"
   ]
  },
  {
   "cell_type": "markdown",
   "metadata": {},
   "source": [
    "<h1 id=\"Descripción de datos\">Descripción de datos</h1>\n",
    "<p>\n",
    "Los datos utilizados fueros proporcionados por el Hospital San Juan de Dios, Curicó, Chile y corresponden a 4.971 registros de pacientes que asistieron a urgencias durante el periodo comprendido entre el 1 de enero de 2018 y agosto de 2019, los datos fueron limpiados y transformados en un script desarrollado previamente\n",
    "<ul>\n",
    "    <li>Datos: <a href=\"https://drive.google.com/open?id=1QmJTDCx060GJw3QHyjl5OhmR4szE8Ojh\" target=\"_blank\">https://drive.google.com/open?id=1QmJTDCx060GJw3QHyjl5OhmR4szE8Ojh</a></li>\n",
    "    <li>Tipo de datos: csv</li>\n",
    "   </ul>\n",
    "<p>\n",
    "Las variables presentes en los datos se describen a continuación:\n",
    "<ul>    \n",
    "   \n",
    "   <li><b>PAC_EDAD</b>: corresponde a la edad del paciente en enteros</li>\n",
    "   <li><b>MOTIVO_CONSULTA</b>: corresponde a la razón por la que el paciente acude al servicio de urgencias string</li>\n",
    "   <li><b>MEDIO</b>: corresponde al medio de llegada, mediante el que el paciente acude al servicio de urgencias</li>\n",
    "   <li><b>SEXO</b>: corresponde al sexo del paciente</li>\n",
    "   <li><b>CAT</b>: corresponde a la categoría de gravedad asignada al paciente en el proceso de Triage</li>\n",
    "   <li><b>PRESION_SIST</b>: corresponde la presión sistólica del paciente </li>\n",
    "   <li><b>PRESION_DIAST</b>: corresponde la presióndiastólica del paciente</li>\n",
    "   <li><b>SATO2</b>: Dato numérico que representa la saturometria del paciente (Nivel de oxigeno en la sangre)</li>\n",
    "   <li><b>TEMPERATURA</b>: corresponde a la temperatura corporal del paciente en el momento de la categorización</li>\n",
    "   <li><b>GLASGOW</b>: corresponde a al nivel registrado por el paciente en la escala Glasgow</li>\n",
    "   <li><b>DM</b>: corresponde si el paciente presenta o no Diabetes Mellitus</li>\n",
    "   <li><b>EVA</b>: corresponde si se aplica al paciente una evaluación de vias aéreas</li>\n",
    "   <li><b>HGT</b>: corresponde a la medida de azucar en la sangre del paciente</li>\n",
    "   <li><b>LCFA</b>: corresponde a si el paciente presenta obstrucción crónica de vías aéreas</li>\n",
    "   <li><b>FR</b>: corresponde a la frecuencia respiratoria del paciente</li>\n",
    "   <li><b>HTA</b>: corresponde a si el paciente posee Hipertención Arterial</li>\n",
    "   <li><b>HORA_INSC</b>: corresponde a la hora en la que el paciente fue categorizado</li>\n",
    "   <li><b>MIN_INSC</b>: corresponde al minuto en que el paciente fue categorizado</li>\n",
    "   <li><b>TIEMPO_ESPERA_CAT</b>: corresponde al tiempo que espera el paciente luego de ser registrado, para ser categorizado</li>\n",
    "      \n",
    "</ul>\n",
    "</p>"
   ]
  },
  {
   "cell_type": "markdown",
   "metadata": {},
   "source": [
    "Cargar paquetes necesarios"
   ]
  },
  {
   "cell_type": "code",
   "execution_count": null,
   "metadata": {
    "tags": []
   },
   "outputs": [],
   "source": [
    "import pandas as pd\n",
    "from sklearn import preprocessing\n",
    "from sklearn import metrics\n",
    "import sklearn as sk  \n",
    "import matplotlib.pyplot as plt\n",
    "import numpy as np\n",
    "from sklearn.metrics import max_error\n",
    "from sklearn.metrics import mean_absolute_error\n",
    "from sklearn.metrics import mean_squared_error\n",
    "from sklearn.metrics import r2_score\n",
    "from sklearn.metrics import mean_absolute_percentage_error\n",
    "#Métodos de tuneo de parámetros\n",
    "from sklearn.model_selection import GridSearchCV\n",
    "from sklearn.metrics import classification_report"
   ]
  },
  {
   "cell_type": "markdown",
   "metadata": {},
   "source": [
    "Lectura de datos"
   ]
  },
  {
   "cell_type": "code",
   "execution_count": null,
   "metadata": {},
   "outputs": [],
   "source": [
    "archivo= 'df_ final_media.csv'\n",
    "df_T_hosp= pd.read_csv(archivo,encoding='latin-1',sep=\",\")\n",
    "df_T_hosp.head(10)"
   ]
  },
  {
   "cell_type": "markdown",
   "metadata": {},
   "source": [
    "Seleccionar las variables relevantes para la predicción y asignarselas a la matriz X, de variables independientes"
   ]
  },
  {
   "cell_type": "code",
   "execution_count": null,
   "metadata": {},
   "outputs": [],
   "source": [
    "df_T_hosp=df_T_hosp[['ID_PACIENTE', 'PAC_EDAD', 'SATO2', 'TEMPERATURA',\n",
    "       'GLASGOW', 'EVA', 'HGT', 'FR', 'DIAS_HOSP', 'SEXO_M', 'SEXO_F', 'DM_D',\n",
    "       'DM_N', 'DM_S', 'LCFA_D', 'LCFA_N', 'LCFA_S', 'LCFA_D.1', 'LCFA_N.1']]"
   ]
  },
  {
   "cell_type": "code",
   "execution_count": null,
   "metadata": {},
   "outputs": [],
   "source": [
    "import seaborn as sns\n",
    "sns.set_theme(style=\"whitegrid\")\n",
    "dias = df_T_hosp['DIAS_HOSP']\n",
    "ax = sns.boxplot(x=dias)"
   ]
  },
  {
   "cell_type": "code",
   "execution_count": null,
   "metadata": {},
   "outputs": [],
   "source": [
    "y=df_T_hosp['DIAS_HOSP']"
   ]
  },
  {
   "cell_type": "code",
   "execution_count": null,
   "metadata": {},
   "outputs": [],
   "source": [
    "df_T_hosp.drop(columns =['DIAS_HOSP'], inplace = True)"
   ]
  },
  {
   "cell_type": "code",
   "execution_count": null,
   "metadata": {},
   "outputs": [],
   "source": [
    "X = df_T_hosp"
   ]
  },
  {
   "cell_type": "code",
   "execution_count": null,
   "metadata": {},
   "outputs": [],
   "source": [
    "missing_data = df_T_hosp.isnull()\n",
    "\n",
    "    \n",
    "for column in missing_data.columns.values.tolist():\n",
    "    print(column)\n",
    "    print (missing_data[column].value_counts())\n",
    "    print(\"\") "
   ]
  },
  {
   "cell_type": "markdown",
   "metadata": {},
   "source": [
    " <h1 id=\"Normalización de datos\">Normalización de datos</h1>\n",
    "<p>\n",
    "Para aplicar el paquete de arboles de desición, los datos deben estar en una escala similar, es por ello que optamos por normalizarlos para que los valores estén en un rango entre -2 y 2. Esta medida no altera los resultados aunque si faborece a la eficiencia de los algoritmos\n",
    "</p>"
   ]
  },
  {
   "cell_type": "code",
   "execution_count": null,
   "metadata": {},
   "outputs": [],
   "source": [
    "X = preprocessing.StandardScaler().fit(X).transform(X)"
   ]
  },
  {
   "cell_type": "markdown",
   "metadata": {},
   "source": [
    " <h1 id=\"Configurando algoritmos\">Configurando algoritmos</h1>\n",
    "<p>\n",
    "En esta sección se definen parámetros necesarios para la correcta aplicación de los algoritmos a implementar, además de seccionar el conjunto de datos en datos de prueba(30%)y de entrenamiento (70%). Los parámetros escogidos pueden ser modificados con el fin de obtener resultados diferentes\n",
    "</p>"
   ]
  },
  {
   "cell_type": "markdown",
   "metadata": {},
   "source": [
    "Carga de paquetes"
   ]
  },
  {
   "cell_type": "code",
   "execution_count": null,
   "metadata": {},
   "outputs": [],
   "source": [
    "from sklearn.model_selection import train_test_split"
   ]
  },
  {
   "cell_type": "markdown",
   "metadata": {},
   "source": [
    "Segmentación del conjunto de datos"
   ]
  },
  {
   "cell_type": "code",
   "execution_count": null,
   "metadata": {},
   "outputs": [],
   "source": [
    "X_trainset, X_testset, y_trainset, y_testset = train_test_split(X, y, test_size=0.3, random_state=5)"
   ]
  },
  {
   "cell_type": "markdown",
   "metadata": {},
   "source": [
    "Árbol de desición"
   ]
  },
  {
   "cell_type": "code",
   "execution_count": null,
   "metadata": {
    "tags": []
   },
   "outputs": [],
   "source": [
    "from sklearn.model_selection import cross_val_score\n",
    "from sklearn.tree import DecisionTreeRegressor\n",
    "DT= DecisionTreeRegressor(random_state=0)\n",
    "DT.fit(X_trainset,y_trainset)\n",
    "yhat_1 = DT.predict(X_testset)\n",
    "DT_CV = cross_val_score(DT, X, y, cv=10)\n",
    "DT_R2=round(DT.score(X_testset, y_testset),4)\n",
    "DT_MAX=max_error( y_testset,yhat_1)\n",
    "DT_MAD=mean_absolute_error( y_testset,yhat_1)\n",
    "DT_MSE =round(mean_squared_error(y_testset,yhat_1),4)\n",
    "DT_r22= round(r2_score(y_testset,yhat_1),4)\n",
    "DT_MAPE=round(mean_absolute_percentage_error(y_testset,yhat_1),4)\n",
    "DT_MAPE"
   ]
  },
  {
   "cell_type": "code",
   "execution_count": null,
   "metadata": {},
   "outputs": [],
   "source": [
    "DT_GS = DecisionTreeRegressor(ccp_alpha=0.0, criterion='mse', max_depth=6,\n",
    "                      max_features=None, max_leaf_nodes=None,\n",
    "                      min_samples_leaf=100, min_samples_split=2,\n",
    "                      min_weight_fraction_leaf=0.0,\n",
    "                      random_state=42, splitter='best')\n",
    "DT_GS.fit(X_trainset,y_trainset)"
   ]
  },
  {
   "cell_type": "code",
   "execution_count": null,
   "metadata": {},
   "outputs": [],
   "source": [
    "DT_parameters = [{'criterion': ['mse', 'friedman_mse', 'mae'], 'max_depth': np.arange(1, 21)},{'min_samples_leaf': [1, 5, 10, 20, 50, 100]}]\n",
    "DT_GS = GridSearchCV(DecisionTreeRegressor(random_state=42), DT_parameters, verbose=1, cv=3)\n",
    "DT_GS.fit(X_trainset,y_trainset)"
   ]
  },
  {
   "cell_type": "code",
   "execution_count": null,
   "metadata": {},
   "outputs": [],
   "source": [
    "DT_GS.best_estimator_"
   ]
  },
  {
   "cell_type": "code",
   "execution_count": null,
   "metadata": {},
   "outputs": [],
   "source": [
    "yhat_1_GS= DT_GS.predict(X_testset)\n",
    "DT_R2_GS=round(DT_GS.score(X_testset, y_testset),4)\n",
    "DT_MAX_GS=max_error( y_testset,yhat_1_GS)\n",
    "DT_MAD_GS=mean_absolute_error( y_testset,yhat_1_GS)\n",
    "DT_MSE_GS =round(mean_squared_error(y_testset,yhat_1_GS),4)\n",
    "DT_r22_GS= round(r2_score(y_testset,yhat_1_GS),4)\n",
    "DT_MAPE_GS=round(mean_absolute_percentage_error(y_testset,yhat_1_GS),4)\n",
    "DT_MAPE_GS"
   ]
  },
  {
   "cell_type": "code",
   "execution_count": null,
   "metadata": {},
   "outputs": [],
   "source": [
    "resultados_DT = {'índices de rendimiento':['R^2','MAX error','MAD','MSE','MAPE'],\n",
    "             'Árboles de decisión':[DT_R2,DT_MAX,DT_MAD,DT_MSE,DT_MAPE],\n",
    "             'Grid Search':[DT_R2_GS,DT_MAX_GS,DT_MAD_GS,DT_MSE_GS,DT_MAPE_GS]}\n",
    "Tabla_resultados_DT=pd.DataFrame(resultados_DT)\n",
    "print(Tabla_resultados_DT)"
   ]
  },
  {
   "cell_type": "code",
   "execution_count": null,
   "metadata": {},
   "outputs": [],
   "source": [
    "import eli5\n",
    "from eli5.sklearn import PermutationImportance"
   ]
  },
  {
   "cell_type": "code",
   "execution_count": null,
   "metadata": {},
   "outputs": [],
   "source": [
    "X = df_T_hosp"
   ]
  },
  {
   "cell_type": "code",
   "execution_count": null,
   "metadata": {},
   "outputs": [],
   "source": [
    "perm = PermutationImportance(DT_GS, random_state=1).fit(X, y)\n",
    "eli5.show_weights(perm, feature_names =X.columns.tolist())"
   ]
  },
  {
   "cell_type": "code",
   "execution_count": null,
   "metadata": {},
   "outputs": [],
   "source": [
    "import shap\n",
    "ex = shap.TreeExplainer(DT_GS)\n",
    "shap_values = ex.shap_values(X)\n",
    "shap.summary_plot(shap_values, X,max_display=9)"
   ]
  },
  {
   "cell_type": "markdown",
   "metadata": {},
   "source": [
    "Bosque de desición"
   ]
  },
  {
   "cell_type": "code",
   "execution_count": null,
   "metadata": {},
   "outputs": [],
   "source": [
    "from sklearn.ensemble import RandomForestRegressor\n",
    "RF= RandomForestRegressor(max_depth=2, random_state=0)\n",
    "RF.fit(X_trainset,y_trainset)\n",
    "yhat_2 = RF.predict(X_testset)\n",
    "RF_R2=round(RF.score(X_testset, y_testset),4)\n",
    "RF_MAX=round(max_error( y_testset,yhat_2),4)\n",
    "RF_MAD=round(mean_absolute_error( y_testset,yhat_2),4)\n",
    "RF_MSE =round(mean_squared_error(y_testset,yhat_2),4)\n",
    "RF_MAPE=round(mean_absolute_percentage_error(y_testset,yhat_2),4)\n",
    "RF_MAPE"
   ]
  },
  {
   "cell_type": "code",
   "execution_count": null,
   "metadata": {},
   "outputs": [],
   "source": [
    "RF_parameters ={ 'n_estimators': [200, 500],'max_features': ['auto', 'sqrt', 'log2'],'max_depth' : [2,3,4,5,6,7,8],'criterion' :['mse', 'friedman_mse', 'mae']}\n",
    "RF_GS = GridSearchCV(estimator=RF,param_grid=RF_parameters, cv= 3)\n",
    "RF_GS.fit(X_trainset,y_trainset)"
   ]
  },
  {
   "cell_type": "code",
   "execution_count": null,
   "metadata": {},
   "outputs": [],
   "source": [
    "# Kerner Explainer\n",
    "explainer = shap.KernelExplainer(RF.predict_proba,X[:100])\n",
    "shap_values = explainer.shap_values(X[:100])\n",
    "shap.summary_plot(shap_values, X[:100])"
   ]
  },
  {
   "cell_type": "code",
   "execution_count": null,
   "metadata": {},
   "outputs": [],
   "source": [
    "RF_GS.best_estimator_"
   ]
  },
  {
   "cell_type": "code",
   "execution_count": null,
   "metadata": {},
   "outputs": [],
   "source": [
    "RF_GS = RandomForestRegressor(bootstrap=True, ccp_alpha=0.0, criterion='mse',\n",
    "                      max_depth=8, max_features='auto', max_leaf_nodes=None,\n",
    "                      max_samples=None, min_samples_leaf=1,\n",
    "                      min_samples_split=2, min_weight_fraction_leaf=0.0,\n",
    "                      n_estimators=200, n_jobs=None, oob_score=False,\n",
    "                      random_state=0, verbose=0, warm_start=False)\n",
    "RF_GS.fit(X_trainset,y_trainset)"
   ]
  },
  {
   "cell_type": "code",
   "execution_count": null,
   "metadata": {},
   "outputs": [],
   "source": [
    "yhat_2_GS= RF_GS.predict(X_testset)\n",
    "RF_R2_GS=round(RF.score(X_testset, y_testset),4)\n",
    "RF_MAX_GS=round(max_error( y_testset,yhat_2_GS),4)\n",
    "RF_MAD_GS=round(mean_absolute_error( y_testset,yhat_2_GS),4)\n",
    "RF_MSE_GS =round(mean_squared_error(y_testset,yhat_2_GS),4)\n",
    "RF_MAPE_GS=round(mean_absolute_percentage_error(y_testset,yhat_2_GS),4)\n",
    "RF_MAPE_GS"
   ]
  },
  {
   "cell_type": "code",
   "execution_count": null,
   "metadata": {},
   "outputs": [],
   "source": [
    "resultados_RF = {'índices de rendimiento':['R^2','MAX error','MAD','MSE','MAPE'],\n",
    "             'Bosques de decisión':[RF_R2,RF_MAX,RF_MAD,RF_MSE,RF_MAPE],\n",
    "             'Grid Search':[RF_R2_GS,RF_MAX_GS,RF_MAD_GS,RF_MSE_GS,RF_MAPE_GS]}\n",
    "Tabla_resultados_RF=pd.DataFrame(resultados_RF)\n",
    "print(Tabla_resultados_RF)"
   ]
  },
  {
   "cell_type": "code",
   "execution_count": null,
   "metadata": {},
   "outputs": [],
   "source": [
    "import shap\n",
    "ex = shap.TreeExplainer(RF)\n",
    "shap_values = ex.shap_values(X)\n",
    "shap.summary_plot(shap_values, X)"
   ]
  },
  {
   "cell_type": "markdown",
   "metadata": {},
   "source": [
    "Regresión logística (multi-class)"
   ]
  },
  {
   "cell_type": "code",
   "execution_count": null,
   "metadata": {},
   "outputs": [],
   "source": [
    "from sklearn.linear_model import SGDRegressor\n",
    "SGDR =SGDRegressor(max_iter=1000, tol=1e-3)\n",
    "SGDR.fit(X_trainset,y_trainset)\n",
    "yhat_3= SGDR.predict(X_testset)\n",
    "SGDR_R2=round(SGDR.score(X_testset, y_testset),4)\n",
    "SGDR_MAX=round(max_error( y_testset,yhat_3),4)\n",
    "SGDR_MAD=round(mean_absolute_error( y_testset,yhat_3),4)\n",
    "SGDR_MSE =round(mean_squared_error(y_testset,yhat_3),4)\n",
    "SGDR_MAPE=round(mean_absolute_percentage_error(y_testset,yhat_3),4)"
   ]
  },
  {
   "cell_type": "code",
   "execution_count": null,
   "metadata": {},
   "outputs": [],
   "source": [
    "SGDR_GS = SGDRegressor(alpha=0.03, average=False, early_stopping=False, epsilon=0.1,\n",
    "             eta0=0.01, fit_intercept=True, l1_ratio=0.15,\n",
    "             learning_rate='invscaling', loss='squared_loss', max_iter=1000,\n",
    "             n_iter_no_change=5, penalty='elasticnet', power_t=0.25,\n",
    "             random_state=None, shuffle=True, tol=0.001,\n",
    "             validation_fraction=0.1, verbose=0, warm_start=False)\n",
    "SGDR_GS.fit(X_trainset,y_trainset)"
   ]
  },
  {
   "cell_type": "code",
   "execution_count": null,
   "metadata": {},
   "outputs": [],
   "source": [
    "SGDR_GS.best_estimator_"
   ]
  },
  {
   "cell_type": "code",
   "execution_count": null,
   "metadata": {},
   "outputs": [],
   "source": [
    "yhat_3_GS= SGDR_GS.predict(X_testset)\n",
    "SGDR_R2_GS=round(SGDR.score(X_testset, y_testset),4)\n",
    "SGDR_MAX_GS=round(max_error( y_testset,yhat_3_GS),4)\n",
    "SGDR_MAD_GS=round(mean_absolute_error( y_testset,yhat_3_GS),4)\n",
    "SGDR_MSE_GS =round(mean_squared_error(y_testset,yhat_3_GS),4)\n",
    "SGDR_MAPE_GS=round(mean_absolute_percentage_error(y_testset,yhat_3_GS),4)"
   ]
  },
  {
   "cell_type": "code",
   "execution_count": null,
   "metadata": {},
   "outputs": [],
   "source": [
    "resultados_SGDR = {'índices de rendimiento':['R^2','MAX error','MAD','MSE','MAPE'],\n",
    "             'SGDR':[SGDR_R2,SGDR_MAX,SGDR_MAD,SGDR_MSE,SGDR_MAPE],\n",
    "             'Grid Search':[SGDR_R2_GS,SGDR_MAX_GS,SGDR_MAD_GS,SGDR_MSE_GS,SGDR_MAPE_GS]}\n",
    "Tabla_resultados_SGDR=pd.DataFrame(resultados_SGDR)\n",
    "print(Tabla_resultados_SGDR)"
   ]
  },
  {
   "cell_type": "code",
   "execution_count": null,
   "metadata": {},
   "outputs": [],
   "source": [
    "# Kerner Explainer\n",
    "explainer = shap.KernelExplainer(SGDR.predict_proba,X[:100])\n",
    "shap_values = explainer.shap_values(X[:100])\n",
    "shap.summary_plot(shap_values, X[:100])"
   ]
  },
  {
   "cell_type": "markdown",
   "metadata": {},
   "source": [
    "Regresión Lasso"
   ]
  },
  {
   "cell_type": "code",
   "execution_count": null,
   "metadata": {},
   "outputs": [],
   "source": [
    "from sklearn import linear_model\n",
    "LssR = linear_model.Lasso(alpha=0.1).fit(X_trainset,y_trainset)\n",
    "yhat_6= LssR.predict(X_testset)\n",
    "LssR_R2=round(LssR.score(X_testset, y_testset),4)\n",
    "LssR_MAX=round(max_error( y_testset,yhat_6),4)\n",
    "LssR_MAD=round(mean_absolute_error( y_testset,yhat_6),4)\n",
    "LssR_MSE =round(mean_squared_error(y_testset,yhat_6),4)\n",
    "LssR_MAPE=round(mean_absolute_percentage_error(y_testset,yhat_6),4)"
   ]
  },
  {
   "cell_type": "code",
   "execution_count": null,
   "metadata": {},
   "outputs": [],
   "source": [
    "LssR_parameters ={'alpha':[0.005, 0.02, 0.03, 0.05, 0.06]}\n",
    "LssR_GS = GridSearchCV(estimator=LssR,param_grid=LssR_parameters, cv= 3, verbose=True, n_jobs=-1)\n",
    "LssR_GS.fit(X_trainset,y_trainset)"
   ]
  },
  {
   "cell_type": "code",
   "execution_count": null,
   "metadata": {},
   "outputs": [],
   "source": [
    "LssR_GS = LssR(alpha=0.003, copy_X=True, fit_intercept=True, max_iter=1000,\n",
    "      normalize=False, positive=False, precompute=False, random_state=None,\n",
    "      selection='cyclic', tol=0.0001, warm_start=False)\n",
    "LssR_GS.fit(X_trainset,y_trainset)"
   ]
  },
  {
   "cell_type": "code",
   "execution_count": null,
   "metadata": {},
   "outputs": [],
   "source": [
    "LssR_GS.best_estimator_"
   ]
  },
  {
   "cell_type": "code",
   "execution_count": null,
   "metadata": {},
   "outputs": [],
   "source": [
    "yhat_6_GS= LssR_GS.predict(X_testset)\n",
    "LssR_R2_GS=round(LssR.score(X_testset, y_testset),4)\n",
    "LssR_MAX_GS=round(max_error( y_testset,yhat_6_GS),4)\n",
    "LssR_MAD_GS=round(mean_absolute_error( y_testset,yhat_6_GS),4)\n",
    "LssR_MSE_GS =round(mean_squared_error(y_testset,yhat_6_GS),4)\n",
    "LssR_MAPE_GS=round(mean_absolute_percentage_error(y_testset,yhat_6_GS),4)"
   ]
  },
  {
   "cell_type": "code",
   "execution_count": null,
   "metadata": {},
   "outputs": [],
   "source": [
    "resultados_LssR = {'índices de rendimiento':['R^2','MAX error','MAD','MSE','MAPE'],\n",
    "             'Regresión Lasso':[LssR_R2,LssR_MAX,LssR_MAD,LssR_MSE,LssR_MAPE],\n",
    "             'Grid Search':[LssR_R2_GS,LssR_MAX_GS,LssR_MAD_GS,LssR_MSE_GS,LssR_MAPE_GS]}\n",
    "Tabla_resultados_LssR=pd.DataFrame(resultados_LssR)\n",
    "print(Tabla_resultados_LssR)"
   ]
  },
  {
   "cell_type": "code",
   "execution_count": null,
   "metadata": {},
   "outputs": [],
   "source": [
    "# Kerner Explainer\n",
    "explainer = shap.KernelExplainer(LssR.predict_proba,X[:100])\n",
    "shap_values = explainer.shap_values(X[:100])\n",
    "shap.summary_plot(shap_values, X[:100])"
   ]
  },
  {
   "cell_type": "markdown",
   "metadata": {},
   "source": [
    "Redes Neuronales"
   ]
  },
  {
   "cell_type": "code",
   "execution_count": null,
   "metadata": {},
   "outputs": [],
   "source": [
    "from sklearn.neural_network import MLPRegressor\n",
    "NN = MLPRegressor(solver='lbfgs', alpha=1e-5, hidden_layer_sizes=(5, 2), random_state=1).fit(X_trainset,y_trainset)\n",
    "yhat_4 = NN.predict(X_testset)\n",
    "NN_R2=round(NN.score(X_testset, y_testset),4)\n",
    "NN_MAX=round(max_error( y_testset,yhat_4),4)\n",
    "NN_MAD=round(mean_absolute_error( y_testset,yhat_4),4)\n",
    "NN_MSE =round(mean_squared_error(y_testset,yhat_4),4)\n",
    "NN_MAPE=round(mean_absolute_percentage_error(y_testset,yhat_4),4)"
   ]
  },
  {
   "cell_type": "code",
   "execution_count": null,
   "metadata": {},
   "outputs": [],
   "source": [
    "NN_parameters ={'solver': ['lbfgs'], 'max_iter': [500,1000,1500], 'alpha': 10.0 ** -np.arange(1, 7), 'hidden_layer_sizes':np.arange(5, 12), 'random_state':[0,1,2,3,4,5,6,7,8,9]}\n",
    "NN_GS = GridSearchCV(estimator=NN,param_grid=NN_parameters, cv= 3, verbose=True, n_jobs=-1)\n",
    "NN_GS.fit(X_trainset,y_trainset)"
   ]
  },
  {
   "cell_type": "code",
   "execution_count": null,
   "metadata": {},
   "outputs": [],
   "source": [
    "NN_GS.best_estimator_"
   ]
  },
  {
   "cell_type": "code",
   "execution_count": null,
   "metadata": {},
   "outputs": [],
   "source": [
    "NN_GS = MLPRegressor(alpha=0.001, hidden_layer_sizes=5, max_iter=500, random_state=5,\n",
    "             solver='lbfgs')\n",
    "NN_GS.fit(X_trainset,y_trainset)"
   ]
  },
  {
   "cell_type": "code",
   "execution_count": null,
   "metadata": {},
   "outputs": [],
   "source": [
    "yhat_4_GS= NN_GS.predict(X_testset)\n",
    "NN_R2_GS=round(NN.score(X_testset, y_testset),4)\n",
    "NN_MAX_GS=round(max_error( y_testset,yhat_4_GS),4)\n",
    "NN_MAD_GS=round(mean_absolute_error( y_testset,yhat_4_GS),4)\n",
    "NN_MSE_GS =round(mean_squared_error(y_testset,yhat_4_GS),4)\n",
    "NN_MAPE_GS=round(mean_absolute_percentage_error(y_testset,yhat_4_GS),4)"
   ]
  },
  {
   "cell_type": "code",
   "execution_count": null,
   "metadata": {},
   "outputs": [],
   "source": [
    "resultados_NN = {'índices de rendimiento':['R^2','MAX error','MAD','MSE','NN_MAPE'],\n",
    "             'Red Neuronal':[NN_R2,NN_MAX,NN_MAD,NN_MSE,NN_MAPE],\n",
    "             'Grid Search':[NN_R2_GS,NN_MAX_GS,NN_MAD_GS,NN_MSE_GS,NN_MAPE_GS]}\n",
    "Tabla_resultados_NN=pd.DataFrame(resultados_NN)\n",
    "print(Tabla_resultados_NN)"
   ]
  },
  {
   "cell_type": "code",
   "execution_count": null,
   "metadata": {},
   "outputs": [],
   "source": [
    "data_DF=pd.DataFrame(X, columns=df_T_hosp.columns)"
   ]
  },
  {
   "cell_type": "code",
   "execution_count": null,
   "metadata": {},
   "outputs": [],
   "source": [
    "# Kerner Explainer\n",
    "import shap\n",
    "explainer = shap.KernelExplainer(NN.predict,data_DF[:100])\n",
    "shap_values = explainer.shap_values(data_DF[:100])\n",
    "shap.summary_plot(shap_values, data_DF[:100])"
   ]
  },
  {
   "cell_type": "code",
   "execution_count": null,
   "metadata": {},
   "outputs": [],
   "source": [
    "import eli5\n",
    "from eli5.sklearn import PermutationImportance\n",
    "perm = PermutationImportance(NN_GS, random_state=1).fit(data_DF, y)\n",
    "eli5.show_weights(perm, feature_names =data_DF.columns.tolist())"
   ]
  },
  {
   "cell_type": "markdown",
   "metadata": {},
   "source": [
    "Support Vector Machine"
   ]
  },
  {
   "cell_type": "code",
   "execution_count": null,
   "metadata": {},
   "outputs": [],
   "source": [
    "from sklearn.svm import LinearSVR\n",
    "SVM = LinearSVR(random_state=0, tol=1e-5)\n",
    "SVM.fit(X_trainset, y_trainset) \n",
    "yhat_5 = SVM.predict(X_testset)\n",
    "SVM_R2=round(SVM.score(X_testset, y_testset),4)\n",
    "SVM_MAX=round(max_error( y_testset,yhat_5),4)\n",
    "SVM_MAD=round(mean_absolute_error( y_testset,yhat_5),4)\n",
    "SVM_MSE =round(mean_squared_error(y_testset,yhat_5),4)\n",
    "SVM_MAPE=round(mean_absolute_percentage_error(y_testset,yhat_5),4)"
   ]
  },
  {
   "cell_type": "code",
   "execution_count": null,
   "metadata": {},
   "outputs": [],
   "source": [
    "SVM_parameters ={'C': [0.1,1, 10, 100]}\n",
    "SVM_GS = GridSearchCV(estimator=SVM,param_grid=SVM_parameters, cv= 3, verbose=True, n_jobs=-1)\n",
    "SVM_GS.fit(X_trainset,y_trainset)"
   ]
  },
  {
   "cell_type": "code",
   "execution_count": null,
   "metadata": {},
   "outputs": [],
   "source": [
    "SVM_GS.best_estimator_"
   ]
  },
  {
   "cell_type": "code",
   "execution_count": null,
   "metadata": {},
   "outputs": [],
   "source": [
    "yhat_5_GS= SVM_GS.predict(X_testset)\n",
    "SVM_R2_GS=round(SVM.score(X_testset, y_testset),4)\n",
    "SVM_MAX_GS=round(max_error( y_testset,yhat_5_GS),4)\n",
    "SVM_MAD_GS=round(mean_absolute_error( y_testset,yhat_5_GS),4)\n",
    "SVM_MSE_GS =round(mean_squared_error(y_testset,yhat_5_GS),4)\n",
    "SVM_MAPE_GS=round(mean_absolute_percentage_error(y_testset,yhat_5_GS),4)"
   ]
  },
  {
   "cell_type": "code",
   "execution_count": null,
   "metadata": {
    "scrolled": true
   },
   "outputs": [],
   "source": [
    "resultados_SVM = {'índices de rendimiento':['R^2','MAX error','MAD','MSE'],\n",
    "             'SVM':[SVM_R2,SVM_MAX,SVM_MAD,SVM_MSE],\n",
    "             'Grid Search':[SVM_R2_GS,SVM_MAX_GS,SVM_MAD_GS,SVM_MSE_GS]}\n",
    "Tabla_resultados_SVM=pd.DataFrame(resultados_SVM)\n",
    "print(Tabla_resultados_SVM)"
   ]
  },
  {
   "cell_type": "code",
   "execution_count": null,
   "metadata": {},
   "outputs": [],
   "source": [
    "resultados = {'Algoritmos de regresión':['Árboles de decisión','Bosques de decisión','Regresión Lasso','Red Neuronal','Support Vector Machine'],\n",
    "             'R^2':[DT_R2_GS,RF_R2_GS,LssR_R2_GS,NN_R2_GS,SVM_R2_GS],\n",
    "             'Max error':[DT_MAX_GS,RF_MAX_GS,LssR_MAX_GS,NN_MAX_GS,SVM_MAX_GS],\n",
    "             'MAD':[DT_MAD_GS,RF_MAD_GS,LssR_MAD_GS,NN_MAD_GS,SVM_MAD_GS],\n",
    "             'MSE':[DT_MSE_GS,RF_MSE_GS,LssR_MSE_GS,NN_MSE_GS,SVM_MSE_GS],\n",
    "             'MAPE':[DT_MAPE_GS,RF_MAPE_GS,LssR_MAPE_GS,NN_MAPE_GS,SVM_MAPE_GS]}\n",
    "Tabla_resultados=pd.DataFrame(resultados)\n",
    "print(Tabla_resultados)"
   ]
  },
  {
   "cell_type": "code",
   "execution_count": null,
   "metadata": {},
   "outputs": [],
   "source": []
  },
  {
   "cell_type": "code",
   "execution_count": null,
   "metadata": {},
   "outputs": [],
   "source": []
  }
 ],
 "metadata": {
  "kernelspec": {
   "display_name": "Python 3 (ipykernel)",
   "language": "python",
   "name": "python3"
  },
  "language_info": {
   "codemirror_mode": {
    "name": "ipython",
    "version": 3
   },
   "file_extension": ".py",
   "mimetype": "text/x-python",
   "name": "python",
   "nbconvert_exporter": "python",
   "pygments_lexer": "ipython3",
   "version": "3.9.7"
  }
 },
 "nbformat": 4,
 "nbformat_minor": 4
}
